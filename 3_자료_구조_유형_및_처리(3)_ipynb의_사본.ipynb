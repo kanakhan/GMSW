{
  "nbformat": 4,
  "nbformat_minor": 0,
  "metadata": {
    "colab": {
      "provenance": [],
      "collapsed_sections": []
    },
    "kernelspec": {
      "name": "python3",
      "display_name": "Python 3"
    },
    "language_info": {
      "name": "python"
    }
  },
  "cells": [
    {
      "cell_type": "markdown",
      "source": [
        "## 1. 리스트(list)"
      ],
      "metadata": {
        "id": "nWj1p8rxeagO"
      }
    },
    {
      "cell_type": "markdown",
      "source": [
        "\n",
        "\n",
        "*   순서를 가지는 객체의 집합으로 하나의 변수에 여러 값을 할당하는 자료형\n",
        "*   [ ]이용해 리스트를 만듦.\n",
        "*   숫자, 문자, 숫자&문자 모두 가능하며, 리스트 안에 리스트도 삽입 가능\n"
      ],
      "metadata": {
        "id": "sc83DML7eajW"
      }
    },
    {
      "cell_type": "markdown",
      "source": [
        "### 1) 리스트(list) 생성"
      ],
      "metadata": {
        "id": "hR76aJqOfaVK"
      }
    },
    {
      "cell_type": "code",
      "source": [
        "print([])"
      ],
      "metadata": {
        "id": "elphYyEoe2sb",
        "colab": {
          "base_uri": "https://localhost:8080/"
        },
        "outputId": "7cb58df4-957f-4eea-f378-c3aabcc343d0"
      },
      "execution_count": null,
      "outputs": [
        {
          "output_type": "stream",
          "name": "stdout",
          "text": [
            "[]\n"
          ]
        }
      ]
    },
    {
      "cell_type": "code",
      "source": [
        "list_1 = [1, 2, 3]\n",
        "print(list_1, type(list_1))"
      ],
      "metadata": {
        "colab": {
          "base_uri": "https://localhost:8080/"
        },
        "id": "ZGKX-rTvIeFK",
        "outputId": "a12db1aa-476b-4506-b7e7-2a65ef10a1a6"
      },
      "execution_count": null,
      "outputs": [
        {
          "output_type": "stream",
          "name": "stdout",
          "text": [
            "[1, 2, 3] <class 'list'>\n"
          ]
        }
      ]
    },
    {
      "cell_type": "code",
      "source": [
        "list_a = [1,2,3,[\"a\",\"b\",\"c\"]]\n",
        "list_a\n",
        "list_a[3][0]"
      ],
      "metadata": {
        "colab": {
          "base_uri": "https://localhost:8080/",
          "height": 36
        },
        "id": "YfqqXQ74Jjfr",
        "outputId": "b32a9644-32bb-4d94-a98a-cf534739813a"
      },
      "execution_count": null,
      "outputs": [
        {
          "output_type": "execute_result",
          "data": {
            "text/plain": [
              "'a'"
            ],
            "application/vnd.google.colaboratory.intrinsic+json": {
              "type": "string"
            }
          },
          "metadata": {},
          "execution_count": 6
        }
      ]
    },
    {
      "cell_type": "markdown",
      "source": [],
      "metadata": {
        "id": "up9TsLC5Id5z"
      }
    },
    {
      "cell_type": "markdown",
      "source": [
        "### 2) 리스트(list) 객체 접근: index, [ ], slicing"
      ],
      "metadata": {
        "id": "FNQGzVGueam_"
      }
    },
    {
      "cell_type": "code",
      "source": [
        "ls = [1,2,3,['one','two','three']]\n",
        "ls[2]\n"
      ],
      "metadata": {
        "id": "EOZvFHE2fkZL",
        "colab": {
          "base_uri": "https://localhost:8080/"
        },
        "outputId": "54ba2970-b6bb-47c1-aa9b-9525b4de5be8"
      },
      "execution_count": null,
      "outputs": [
        {
          "output_type": "execute_result",
          "data": {
            "text/plain": [
              "3"
            ]
          },
          "metadata": {},
          "execution_count": 7
        }
      ]
    },
    {
      "cell_type": "code",
      "source": [
        "ls = [1,2,3,['one','two','three']]\n",
        "ls[3]"
      ],
      "metadata": {
        "colab": {
          "base_uri": "https://localhost:8080/"
        },
        "id": "5is3ulgAKp1q",
        "outputId": "b231329b-f8f1-4159-b5c5-ba5fa8a43546"
      },
      "execution_count": null,
      "outputs": [
        {
          "output_type": "execute_result",
          "data": {
            "text/plain": [
              "['one', 'two', 'three']"
            ]
          },
          "metadata": {},
          "execution_count": 8
        }
      ]
    },
    {
      "cell_type": "code",
      "source": [
        "ls = [1,2,3,['one','two','three']]\n",
        "ls[3][1][1]"
      ],
      "metadata": {
        "id": "2m_w_bUxf3iw",
        "colab": {
          "base_uri": "https://localhost:8080/",
          "height": 36
        },
        "outputId": "c75c5375-d292-440f-fb54-3e6ed8496f4d"
      },
      "execution_count": null,
      "outputs": [
        {
          "output_type": "execute_result",
          "data": {
            "text/plain": [
              "'w'"
            ],
            "application/vnd.google.colaboratory.intrinsic+json": {
              "type": "string"
            }
          },
          "metadata": {},
          "execution_count": 10
        }
      ]
    },
    {
      "cell_type": "code",
      "source": [
        "ls[3][0:2]"
      ],
      "metadata": {
        "colab": {
          "base_uri": "https://localhost:8080/"
        },
        "id": "90SD7WyALShj",
        "outputId": "4246dd91-ee5e-46c2-b31d-bc3f6502a7c9"
      },
      "execution_count": null,
      "outputs": [
        {
          "output_type": "execute_result",
          "data": {
            "text/plain": [
              "['one', 'two']"
            ]
          },
          "metadata": {},
          "execution_count": 15
        }
      ]
    },
    {
      "cell_type": "code",
      "source": [],
      "metadata": {
        "id": "emyciK1mNUKD"
      },
      "execution_count": null,
      "outputs": []
    },
    {
      "cell_type": "markdown",
      "source": [],
      "metadata": {
        "id": "cEfSLyjHNT7i"
      }
    },
    {
      "cell_type": "markdown",
      "source": [
        "### 3) 리스트(list) 연산\n"
      ],
      "metadata": {
        "id": "nwVUSp8Ueap-"
      }
    },
    {
      "cell_type": "code",
      "source": [
        "ls_1 = ['one','two','three']\n",
        "ls_2 = ['four', 'five', 'six']\n",
        "ls_3 = ls_1 + ls_2\n",
        "ls_3"
      ],
      "metadata": {
        "id": "acNu5OO5gFfh",
        "colab": {
          "base_uri": "https://localhost:8080/"
        },
        "outputId": "0dd06911-25d0-4223-9d71-124f9fb1682e"
      },
      "execution_count": null,
      "outputs": [
        {
          "output_type": "execute_result",
          "data": {
            "text/plain": [
              "['one', 'two', 'three', 'four', 'five', 'six']"
            ]
          },
          "metadata": {},
          "execution_count": 16
        }
      ]
    },
    {
      "cell_type": "code",
      "source": [
        "ls_4 = ls_1*3\n",
        "ls_4"
      ],
      "metadata": {
        "colab": {
          "base_uri": "https://localhost:8080/"
        },
        "id": "CFqHHraZOEqZ",
        "outputId": "8054dca1-f845-4372-b2a1-af95e7f70e95"
      },
      "execution_count": null,
      "outputs": [
        {
          "output_type": "execute_result",
          "data": {
            "text/plain": [
              "['one', 'two', 'three', 'one', 'two', 'three', 'one', 'two', 'three']"
            ]
          },
          "metadata": {},
          "execution_count": 17
        }
      ]
    },
    {
      "cell_type": "code",
      "source": [
        "ls_4[0] = 5\n",
        "ls_4"
      ],
      "metadata": {
        "colab": {
          "base_uri": "https://localhost:8080/"
        },
        "id": "2LE4C8hzOOIB",
        "outputId": "5dc1d72e-5ce4-484c-9b05-9666405c14d6"
      },
      "execution_count": null,
      "outputs": [
        {
          "output_type": "execute_result",
          "data": {
            "text/plain": [
              "[5, 'two', 'three', 'one', 'two', 'three', 'one', 'two', 'three']"
            ]
          },
          "metadata": {},
          "execution_count": 18
        }
      ]
    },
    {
      "cell_type": "markdown",
      "source": [
        "### 4) 리스트(list) 객체 수정"
      ],
      "metadata": {
        "id": "wUtqYGMgeatf"
      }
    },
    {
      "cell_type": "code",
      "source": [
        "ls_4 = [1,2,3]\n",
        "ls_4[0] = 'two'\n",
        "ls_4"
      ],
      "metadata": {
        "id": "GxYgNcN5gOow",
        "colab": {
          "base_uri": "https://localhost:8080/"
        },
        "outputId": "79d88380-d711-4700-8c41-c4aa4dba6780"
      },
      "execution_count": null,
      "outputs": [
        {
          "output_type": "execute_result",
          "data": {
            "text/plain": [
              "['two', 2, 3]"
            ]
          },
          "metadata": {},
          "execution_count": 19
        }
      ]
    },
    {
      "cell_type": "markdown",
      "source": [
        "### 5) 리스트(list) 메소드(method)"
      ],
      "metadata": {
        "id": "ommj62mXeawX"
      }
    },
    {
      "cell_type": "markdown",
      "source": [
        "﻿\n",
        "* index: 리스트의 객체 순서(첫번째는 0)\n",
        "\n",
        "* append: 리스트의 맨 끝 인덱스에 새로운 값을 추가\n",
        "\n",
        "* insert: 리스트의 특정 위치에 값을 추가\n",
        "\n",
        "* remove: 리스트 요소 제거(요소명)\n",
        "\n",
        "* pop: 리스트의 요소 방출(인텍스), 인텍스를 지정하지 않으면 마지막 요소 방출\n",
        "\n",
        "* del: 리스트의 요소 제거 연산(인텍스)\n",
        "\n",
        "* sort: 정렬\n",
        "\n",
        "* reverse: 순서 뒤집기\n",
        "\n",
        "* extend: 새로운 리스트를 기존 리스트에 추가\n",
        "\n",
        "* clear: 모두 지우기\n",
        "\n",
        "﻿"
      ],
      "metadata": {
        "id": "2AbdBKwBeazX"
      }
    },
    {
      "cell_type": "markdown",
      "source": [
        "### 6. 리스트 활용 예제"
      ],
      "metadata": {
        "id": "vOSZdToBea2m"
      }
    },
    {
      "cell_type": "markdown",
      "source": [
        "\n",
        "\n",
        "*   '호날도', '메시', '손흥민', '살라'가 순서대로 풋살팀에 가입\n",
        "\n",
        "\n",
        "\n"
      ],
      "metadata": {
        "id": "gL-eWFjVea5N"
      }
    },
    {
      "cell_type": "code",
      "source": [
        "ls_0 = []\n",
        "ls_0.append(\"호날도\")\n",
        "ls_0.append('메시')\n",
        "ls_0.append(\"손흥민\")\n",
        "ls_0.append(\"살라\")\n",
        "print(ls_0)"
      ],
      "metadata": {
        "id": "ElqKnkxMhD0g",
        "colab": {
          "base_uri": "https://localhost:8080/"
        },
        "outputId": "ceb93488-8917-4a81-b6ca-e726e5d07f91"
      },
      "execution_count": null,
      "outputs": [
        {
          "output_type": "stream",
          "name": "stdout",
          "text": [
            "['호날도', '메시', '손흥민', '살라']\n"
          ]
        }
      ]
    },
    {
      "cell_type": "markdown",
      "source": [
        "*   '손흥민'은 몇 번째로 풋살팀에 가입했나?\n"
      ],
      "metadata": {
        "id": "X35mRhXUhIT1"
      }
    },
    {
      "cell_type": "code",
      "source": [
        "print(ls_0.index(\"손흥민\"))\n",
        "ls_0"
      ],
      "metadata": {
        "id": "oqOX5iIfhQPB",
        "colab": {
          "base_uri": "https://localhost:8080/"
        },
        "outputId": "68922d17-022b-4199-c31c-e3e102ff88f5"
      },
      "execution_count": null,
      "outputs": [
        {
          "output_type": "stream",
          "name": "stdout",
          "text": [
            "2\n"
          ]
        },
        {
          "output_type": "execute_result",
          "data": {
            "text/plain": [
              "['호날도', '메시', '손흥민', '살라']"
            ]
          },
          "metadata": {},
          "execution_count": 33
        }
      ]
    },
    {
      "cell_type": "markdown",
      "source": [
        "*   '음바페'가 새롭게 풋살팀에 합류함.\n"
      ],
      "metadata": {
        "id": "tqtmV5VNhTkd"
      }
    },
    {
      "cell_type": "code",
      "source": [
        "ls_0.append(\"음바페\")\n",
        "ls_0"
      ],
      "metadata": {
        "id": "29cIY69kha5o",
        "colab": {
          "base_uri": "https://localhost:8080/"
        },
        "outputId": "24133a01-075e-4b40-b8a4-20eaca5d6162"
      },
      "execution_count": null,
      "outputs": [
        {
          "output_type": "execute_result",
          "data": {
            "text/plain": [
              "['호날도', '메시', '손흥민', '살라', '음바페']"
            ]
          },
          "metadata": {},
          "execution_count": 34
        }
      ]
    },
    {
      "cell_type": "markdown",
      "source": [
        "*  '메시'가 풋살팀에 탈퇴함."
      ],
      "metadata": {
        "id": "3oBcn76mhc2V"
      }
    },
    {
      "cell_type": "code",
      "source": [
        "ls_0.remove('메시')\n",
        "ls_0"
      ],
      "metadata": {
        "id": "5KvOqUfyhiIB",
        "colab": {
          "base_uri": "https://localhost:8080/"
        },
        "outputId": "4031483a-658a-4c77-a900-860307b23354"
      },
      "execution_count": null,
      "outputs": [
        {
          "output_type": "execute_result",
          "data": {
            "text/plain": [
              "['호날도', '손흥민', '살라', '음바페']"
            ]
          },
          "metadata": {},
          "execution_count": 35
        }
      ]
    },
    {
      "cell_type": "markdown",
      "source": [
        "*   1달 후 '메시'가 다시 합류해 원래 순서인 두 번째 위치(index = 1)에 추가"
      ],
      "metadata": {
        "id": "WTOVfl0ThkIx"
      }
    },
    {
      "cell_type": "code",
      "source": [
        "ls_0.insert(1,'메시')\n",
        "ls_0"
      ],
      "metadata": {
        "id": "RzzaRD7Vhqvk",
        "colab": {
          "base_uri": "https://localhost:8080/"
        },
        "outputId": "da64c938-0efc-4391-8213-a2b594b07e3f"
      },
      "execution_count": null,
      "outputs": [
        {
          "output_type": "execute_result",
          "data": {
            "text/plain": [
              "['호날도', '메시', '손흥민', '살라', '음바페']"
            ]
          },
          "metadata": {},
          "execution_count": 44
        }
      ]
    },
    {
      "cell_type": "markdown",
      "source": [
        " * 가장 먼저 들어온 '호날도' 뽑아서 방출함."
      ],
      "metadata": {
        "id": "OYTl7gRMhy1V"
      }
    },
    {
      "cell_type": "code",
      "source": [
        "ls_0.pop(0)"
      ],
      "metadata": {
        "id": "sUZGgsTxh4n2",
        "colab": {
          "base_uri": "https://localhost:8080/",
          "height": 36
        },
        "outputId": "e3751095-f01c-401a-bca0-3be339eb669f"
      },
      "execution_count": null,
      "outputs": [
        {
          "output_type": "execute_result",
          "data": {
            "text/plain": [
              "'호날도'"
            ],
            "application/vnd.google.colaboratory.intrinsic+json": {
              "type": "string"
            }
          },
          "metadata": {},
          "execution_count": 45
        }
      ]
    },
    {
      "cell_type": "markdown",
      "source": [
        "*  새로운 멤버들 '살라(동명이인)'와 '네이마르'가 동시에 입단함."
      ],
      "metadata": {
        "id": "0qM5js6whywu"
      }
    },
    {
      "cell_type": "code",
      "source": [
        "ls_0.extend([\"살라\", \"네이마르\"])"
      ],
      "metadata": {
        "id": "nn-mbUKXiGc9"
      },
      "execution_count": null,
      "outputs": []
    },
    {
      "cell_type": "markdown",
      "source": [
        "*  가장 늦게 들어온 순서대로 정렬"
      ],
      "metadata": {
        "id": "6c5SwVTBhym1"
      }
    },
    {
      "cell_type": "markdown",
      "source": [
        "\"살라\" 인원수 확인"
      ],
      "metadata": {
        "id": "fBWXroK_SIhh"
      }
    },
    {
      "cell_type": "code",
      "source": [
        "foot.count(\"살라\")"
      ],
      "metadata": {
        "colab": {
          "base_uri": "https://localhost:8080/"
        },
        "id": "lSKvpM9uSL15",
        "outputId": "15f52b42-ed65-4d83-ba4e-efd6eff2fd01"
      },
      "execution_count": null,
      "outputs": [
        {
          "output_type": "execute_result",
          "data": {
            "text/plain": [
              "2"
            ]
          },
          "metadata": {},
          "execution_count": 56
        }
      ]
    },
    {
      "cell_type": "code",
      "source": [
        "foot = [\"메시\",\"손흥민\",\"살라\",\"음바페\",\"살라\",\"네이마르\"]\n",
        "\n",
        "foot.reverse()\n",
        "foot"
      ],
      "metadata": {
        "id": "8sD_RVixiN01",
        "colab": {
          "base_uri": "https://localhost:8080/"
        },
        "outputId": "f26faebd-f38d-46fe-c46b-c9b3497eb147"
      },
      "execution_count": null,
      "outputs": [
        {
          "output_type": "execute_result",
          "data": {
            "text/plain": [
              "['네이마르', '살라', '음바페', '살라', '손흥민', '메시']"
            ]
          },
          "metadata": {},
          "execution_count": 55
        }
      ]
    },
    {
      "cell_type": "markdown",
      "source": [
        "* 이름(알파벳) 순서별로 정렬\n"
      ],
      "metadata": {
        "id": "YLlM9xFYiU13"
      }
    },
    {
      "cell_type": "code",
      "source": [
        "foot.sort()\n",
        "foot"
      ],
      "metadata": {
        "id": "u-7me-uTiW8B",
        "colab": {
          "base_uri": "https://localhost:8080/"
        },
        "outputId": "fc50cd83-3dec-42f3-8ef0-c0dcbc477acf"
      },
      "execution_count": null,
      "outputs": [
        {
          "output_type": "execute_result",
          "data": {
            "text/plain": [
              "['네이마르', '메시', '살라', '살라', '손흥민', '음바페']"
            ]
          },
          "metadata": {},
          "execution_count": 57
        }
      ]
    },
    {
      "cell_type": "markdown",
      "source": [
        "*  풋살팀을 해체함."
      ],
      "metadata": {
        "id": "jAqIdAMNiYtL"
      }
    },
    {
      "cell_type": "code",
      "source": [
        "foot.clear()\n",
        "foot"
      ],
      "metadata": {
        "id": "YRXqbsakie9k",
        "colab": {
          "base_uri": "https://localhost:8080/"
        },
        "outputId": "b981ab89-b187-4560-f833-6871cedfbdbc"
      },
      "execution_count": null,
      "outputs": [
        {
          "output_type": "execute_result",
          "data": {
            "text/plain": [
              "[]"
            ]
          },
          "metadata": {},
          "execution_count": 58
        }
      ]
    },
    {
      "cell_type": "markdown",
      "source": [
        "## 2. 튜플(tuple)"
      ],
      "metadata": {
        "id": "cgrROb1eira2"
      }
    },
    {
      "cell_type": "markdown",
      "source": [
        "\n",
        "\n",
        "*   튜플은 리스트와 같은 개념이지만, 값을 변경하는 것이 불가능.\n",
        "*   주민번호 등 바꾸거나 수정해서는 안되는 것들을 저장\n",
        "*   튜플은 ( )를 이용해서 만듦.\n",
        "\n"
      ],
      "metadata": {
        "id": "Ehjh8PaSi9B2"
      }
    },
    {
      "cell_type": "markdown",
      "source": [
        "### 1) 튜플(tuple) 생성"
      ],
      "metadata": {
        "id": "vjXme6FNirYA"
      }
    },
    {
      "cell_type": "code",
      "source": [],
      "metadata": {
        "id": "pu-YClzxjI-E"
      },
      "execution_count": null,
      "outputs": []
    },
    {
      "cell_type": "markdown",
      "source": [
        "\n",
        "\n",
        "*   bts 멤버에 '임영웅'을 넣으려고 하면\n",
        "\n"
      ],
      "metadata": {
        "id": "8UyKhngzirU_"
      }
    },
    {
      "cell_type": "code",
      "source": [],
      "metadata": {
        "id": "5QPGoSc3jQS5"
      },
      "execution_count": null,
      "outputs": []
    },
    {
      "cell_type": "code",
      "source": [],
      "metadata": {
        "id": "q8nEHcXijcnv"
      },
      "execution_count": null,
      "outputs": []
    },
    {
      "cell_type": "markdown",
      "source": [
        "### 2) 튜플 인덱싱(indexing), 슬라이싱(slicing), 연산"
      ],
      "metadata": {
        "id": "XZG0FuQzirRp"
      }
    },
    {
      "cell_type": "markdown",
      "source": [
        "\n",
        "\n",
        "*   인덱싱(indexing)\n"
      ],
      "metadata": {
        "id": "c95fEfIjirOg"
      }
    },
    {
      "cell_type": "code",
      "source": [],
      "metadata": {
        "id": "J9PnyPlnkAy9"
      },
      "execution_count": null,
      "outputs": []
    },
    {
      "cell_type": "markdown",
      "source": [
        "*  슬라이싱(slicing)"
      ],
      "metadata": {
        "id": "_8lmEiiUirLX"
      }
    },
    {
      "cell_type": "code",
      "source": [],
      "metadata": {
        "id": "dPP29gp_kGpc"
      },
      "execution_count": null,
      "outputs": []
    },
    {
      "cell_type": "markdown",
      "source": [
        "* 연산"
      ],
      "metadata": {
        "id": "-xcoeApiirIQ"
      }
    },
    {
      "cell_type": "code",
      "source": [],
      "metadata": {
        "id": "ZTFvd_qlkI_W"
      },
      "execution_count": null,
      "outputs": []
    },
    {
      "cell_type": "markdown",
      "source": [
        "## 3. 집합(set)"
      ],
      "metadata": {
        "id": "od-FRyuGirEg"
      }
    },
    {
      "cell_type": "markdown",
      "source": [
        "* 수학에서 집합과 거의 같은 개념으로 중복이 안되고 순서도 없음.\n",
        "* 집합처럼 교집합, 합집합, 차집합, 여집합을 이용\n",
        "* 집합기호 { }를 이용해 자료를 생성"
      ],
      "metadata": {
        "id": "9I7_aJfFirA_"
      }
    },
    {
      "cell_type": "markdown",
      "source": [
        "### 1) 집합(set) 생성"
      ],
      "metadata": {
        "id": "EO_ohxbekiob"
      }
    },
    {
      "cell_type": "code",
      "source": [],
      "metadata": {
        "id": "trNA7eSdk8io"
      },
      "execution_count": null,
      "outputs": []
    },
    {
      "cell_type": "code",
      "source": [],
      "metadata": {
        "id": "wHS9AzlwlB6m"
      },
      "execution_count": null,
      "outputs": []
    },
    {
      "cell_type": "markdown",
      "source": [
        "## 2) 집합(set) 연산"
      ],
      "metadata": {
        "id": "L__gnX0MkilL"
      }
    },
    {
      "cell_type": "markdown",
      "source": [
        "- 교집합: & , intersection()\n",
        "\n",
        "- 합집합: |, union()\n",
        "\n",
        "- 차집합: -, difference()\n",
        "\n",
        "- 여집합: ^, symmetric_difference()"
      ],
      "metadata": {
        "id": "hPBzz6-1kiiL"
      }
    },
    {
      "cell_type": "code",
      "source": [
        "\n"
      ],
      "metadata": {
        "id": "aiPD2f3ElY2U"
      },
      "execution_count": null,
      "outputs": []
    },
    {
      "cell_type": "markdown",
      "source": [
        "## 3) 집합(set) 메소드"
      ],
      "metadata": {
        "id": "i0i8XNeUkifT"
      }
    },
    {
      "cell_type": "markdown",
      "source": [
        "* add(): 요소 추가\n",
        "\n",
        "* update(): 여러 요소 추가\n",
        "\n",
        "* remove(): 요소 제거\n",
        "\n",
        "* discard(): 요소 제거\n",
        "\n",
        "* clear(): 모든 요소 제거"
      ],
      "metadata": {
        "id": "58qx3bQikicE"
      }
    },
    {
      "cell_type": "markdown",
      "source": [
        "* \"호날도\", \"메시\", \"손흥민\"이 클럽에 가입"
      ],
      "metadata": {
        "id": "H-dk8bWhkiYr"
      }
    },
    {
      "cell_type": "code",
      "source": [
        "\n"
      ],
      "metadata": {
        "id": "AKsFTm-0mDaZ"
      },
      "execution_count": null,
      "outputs": []
    },
    {
      "cell_type": "markdown",
      "source": [
        "* \"네이마르\"가 클럽에 가입"
      ],
      "metadata": {
        "id": "RWZdIN-VmGIC"
      }
    },
    {
      "cell_type": "code",
      "source": [],
      "metadata": {
        "id": "5U7Q3OSrmiic"
      },
      "execution_count": null,
      "outputs": []
    },
    {
      "cell_type": "markdown",
      "source": [
        "* '음바페', '홀란드' 가 동시에 가입"
      ],
      "metadata": {
        "id": "ClQXaa8dmMU7"
      }
    },
    {
      "cell_type": "code",
      "source": [],
      "metadata": {
        "id": "YFOEXM7Xmiz-"
      },
      "execution_count": null,
      "outputs": []
    },
    {
      "cell_type": "markdown",
      "source": [
        "* '손흥민' 클럽에서 탈퇴"
      ],
      "metadata": {
        "id": "fA3eLA4fmObA"
      }
    },
    {
      "cell_type": "code",
      "source": [],
      "metadata": {
        "id": "gu-PIbCLmjD-"
      },
      "execution_count": null,
      "outputs": []
    },
    {
      "cell_type": "markdown",
      "source": [
        "* 호날두도 클럽에서 탈퇴"
      ],
      "metadata": {
        "id": "rwNyfVwUmOXk"
      }
    },
    {
      "cell_type": "code",
      "source": [],
      "metadata": {
        "id": "VThUFbAwmjXY"
      },
      "execution_count": null,
      "outputs": []
    },
    {
      "cell_type": "markdown",
      "source": [
        "* 모두 클럽에서 탈퇴"
      ],
      "metadata": {
        "id": "oODC6-G3mOUE"
      }
    },
    {
      "cell_type": "code",
      "source": [],
      "metadata": {
        "id": "LNkfIa6Gmjsu"
      },
      "execution_count": null,
      "outputs": []
    },
    {
      "cell_type": "markdown",
      "source": [
        "## 4. 딕셔너리(dictionary)"
      ],
      "metadata": {
        "id": "wIXW3H89m7RT"
      }
    },
    {
      "cell_type": "markdown",
      "source": [
        "* 객체(value)에게 key(고유 구분자) 값을 부여\n",
        "* 자료 유형이 '단어(key): 뜻(value)' 형태로 마치 사전처럼 되어 있어서 '딕션너리', '사전'이라고 부름\n",
        "* ﻿집합 기호 { }를 사용 {key1: value1, key2: value2, key3: value3,......}"
      ],
      "metadata": {
        "id": "XjzWcQ7Nm7RT"
      }
    },
    {
      "cell_type": "code",
      "source": [],
      "metadata": {
        "id": "tEq3IvZZn7gi"
      },
      "execution_count": null,
      "outputs": []
    },
    {
      "cell_type": "markdown",
      "source": [
        "### 1) 딕셔너리(dictionary) key 할당 및 사용"
      ],
      "metadata": {
        "id": "fKJUS7z_n9aO"
      }
    },
    {
      "cell_type": "markdown",
      "source": [
        "* '호날도'에게 3번. '손흥민'에게 100번 캐비넷을 배정하고 확인하기"
      ],
      "metadata": {
        "id": "u0mNaNe6rPIZ"
      }
    },
    {
      "cell_type": "code",
      "source": [],
      "metadata": {
        "id": "17SMhA9irbL3"
      },
      "execution_count": null,
      "outputs": []
    },
    {
      "cell_type": "markdown",
      "source": [
        "* get 메소드\n",
        "* 인덱싱으로 찾으면 에러가 발생할 때 에러 메시지를 띄우고 프로그램이 멈추지만, get 방식은 에러가 발생했을 때 'none' 을 반환하고 남은 프로그램을 계속 실행"
      ],
      "metadata": {
        "id": "NJXZjTvHrPE8"
      }
    },
    {
      "cell_type": "code",
      "source": [],
      "metadata": {
        "id": "wGhON6oGrzgM"
      },
      "execution_count": null,
      "outputs": []
    },
    {
      "cell_type": "code",
      "source": [],
      "metadata": {
        "id": "nWdyRGKcr4nG"
      },
      "execution_count": null,
      "outputs": []
    },
    {
      "cell_type": "markdown",
      "source": [
        "* 락커룸이 구역별(A, B, C)로 나눠져서 '호날도'에게 'A-3'을 '손흥민'에게 'B-100'을 배정"
      ],
      "metadata": {
        "id": "l7u49YAfraWk"
      }
    },
    {
      "cell_type": "code",
      "source": [],
      "metadata": {
        "id": "0kcR9vuqslTg"
      },
      "execution_count": null,
      "outputs": []
    },
    {
      "cell_type": "markdown",
      "source": [
        "* 캐비넷 할당이 되어 있는지 확인하는 방법은 in 을 통해서 확인"
      ],
      "metadata": {
        "id": "VOu3EqJTrPBf"
      }
    },
    {
      "cell_type": "code",
      "source": [],
      "metadata": {
        "id": "9m6URmZBsvEG"
      },
      "execution_count": null,
      "outputs": []
    },
    {
      "cell_type": "markdown",
      "source": [
        "### 2) 딕셔너리 자료에 value 값 추가 및 대체\n"
      ],
      "metadata": {
        "id": "odRhqqi0skip"
      }
    },
    {
      "cell_type": "markdown",
      "source": [
        "* '살라'가 와서 비어있는 캐비넷 \"C-10\"을 배정\n",
        "* '호날도'(A-3)가 나가고 '메시'가 와서 호날도의 캐빈넷을 배정"
      ],
      "metadata": {
        "id": "r3z5SN2hrO9s"
      }
    },
    {
      "cell_type": "code",
      "source": [],
      "metadata": {
        "id": "J5DvbzrRthRa"
      },
      "execution_count": null,
      "outputs": []
    },
    {
      "cell_type": "markdown",
      "source": [
        "### 3) 딕셔너리 자료에 메소드 사용"
      ],
      "metadata": {
        "id": "1pXcEjoktjl7"
      }
    },
    {
      "cell_type": "markdown",
      "source": [
        "*  다시 '메시'가 나갔다."
      ],
      "metadata": {
        "id": "gaq4hPxz9ZrU"
      }
    },
    {
      "cell_type": "code",
      "source": [],
      "metadata": {
        "id": "BL9-SvBA95W_"
      },
      "execution_count": null,
      "outputs": []
    },
    {
      "cell_type": "markdown",
      "source": [
        "* '살라'를 뽑아서 방출"
      ],
      "metadata": {
        "id": "bxcGPv779Zlc"
      }
    },
    {
      "cell_type": "code",
      "source": [],
      "metadata": {
        "id": "RoqeHlXH95l-"
      },
      "execution_count": null,
      "outputs": []
    },
    {
      "cell_type": "markdown",
      "source": [
        "* 남아있는 캐비넷 정보 확인"
      ],
      "metadata": {
        "id": "F3qWW5wm-QPa"
      }
    },
    {
      "cell_type": "code",
      "source": [],
      "metadata": {
        "id": "CJbv51tu-ERp"
      },
      "execution_count": null,
      "outputs": []
    },
    {
      "cell_type": "code",
      "source": [],
      "metadata": {
        "id": "fQVgCVh8-IWa"
      },
      "execution_count": null,
      "outputs": []
    },
    {
      "cell_type": "code",
      "source": [],
      "metadata": {
        "id": "1KxzP_Jz-W1v"
      },
      "execution_count": null,
      "outputs": []
    },
    {
      "cell_type": "markdown",
      "source": [
        "* '손흥민'까지 나가서 캐빈넷을 모두 비움"
      ],
      "metadata": {
        "id": "Fmc6qp4n9Zet"
      }
    },
    {
      "cell_type": "code",
      "source": [],
      "metadata": {
        "id": "L2FWcDn6951r"
      },
      "execution_count": null,
      "outputs": []
    }
  ]
}