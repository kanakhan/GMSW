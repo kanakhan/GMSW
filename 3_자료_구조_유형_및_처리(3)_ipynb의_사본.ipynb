{
  "nbformat": 4,
  "nbformat_minor": 0,
  "metadata": {
    "colab": {
      "provenance": [],
      "collapsed_sections": [],
      "include_colab_link": true
    },
    "kernelspec": {
      "name": "python3",
      "display_name": "Python 3"
    },
    "language_info": {
      "name": "python"
    }
  },
  "cells": [
    {
      "cell_type": "markdown",
      "metadata": {
        "id": "view-in-github",
        "colab_type": "text"
      },
      "source": [
        "<a href=\"https://colab.research.google.com/github/kanakhan/GMSW/blob/main/3_%EC%9E%90%EB%A3%8C_%EA%B5%AC%EC%A1%B0_%EC%9C%A0%ED%98%95_%EB%B0%8F_%EC%B2%98%EB%A6%AC(3)_ipynb%EC%9D%98_%EC%82%AC%EB%B3%B8.ipynb\" target=\"_parent\"><img src=\"https://colab.research.google.com/assets/colab-badge.svg\" alt=\"Open In Colab\"/></a>"
      ]
    },
    {
      "cell_type": "markdown",
      "source": [
        "## 1. 리스트(list)"
      ],
      "metadata": {
        "id": "nWj1p8rxeagO"
      }
    },
    {
      "cell_type": "markdown",
      "source": [
        "\n",
        "\n",
        "*   순서를 가지는 객체의 집합으로 하나의 변수에 여러 값을 할당하는 자료형\n",
        "*   [ ]이용해 리스트를 만듦.\n",
        "*   숫자, 문자, 숫자&문자 모두 가능하며, 리스트 안에 리스트도 삽입 가능\n"
      ],
      "metadata": {
        "id": "sc83DML7eajW"
      }
    },
    {
      "cell_type": "markdown",
      "source": [
        "### 1) 리스트(list) 생성"
      ],
      "metadata": {
        "id": "hR76aJqOfaVK"
      }
    },
    {
      "cell_type": "code",
      "source": [
        "print([])"
      ],
      "metadata": {
        "id": "elphYyEoe2sb",
        "colab": {
          "base_uri": "https://localhost:8080/"
        },
        "outputId": "7cb58df4-957f-4eea-f378-c3aabcc343d0"
      },
      "execution_count": null,
      "outputs": [
        {
          "output_type": "stream",
          "name": "stdout",
          "text": [
            "[]\n"
          ]
        }
      ]
    },
    {
      "cell_type": "code",
      "source": [
        "list_1 = [1, 2, 3]\n",
        "print(list_1, type(list_1))"
      ],
      "metadata": {
        "colab": {
          "base_uri": "https://localhost:8080/"
        },
        "id": "ZGKX-rTvIeFK",
        "outputId": "a12db1aa-476b-4506-b7e7-2a65ef10a1a6"
      },
      "execution_count": null,
      "outputs": [
        {
          "output_type": "stream",
          "name": "stdout",
          "text": [
            "[1, 2, 3] <class 'list'>\n"
          ]
        }
      ]
    },
    {
      "cell_type": "code",
      "source": [
        "list_a = [1,2,3,[\"a\",\"b\",\"c\"]]\n",
        "list_a\n",
        "list_a[3][0]"
      ],
      "metadata": {
        "colab": {
          "base_uri": "https://localhost:8080/",
          "height": 36
        },
        "id": "YfqqXQ74Jjfr",
        "outputId": "b32a9644-32bb-4d94-a98a-cf534739813a"
      },
      "execution_count": null,
      "outputs": [
        {
          "output_type": "execute_result",
          "data": {
            "text/plain": [
              "'a'"
            ],
            "application/vnd.google.colaboratory.intrinsic+json": {
              "type": "string"
            }
          },
          "metadata": {},
          "execution_count": 6
        }
      ]
    },
    {
      "cell_type": "markdown",
      "source": [],
      "metadata": {
        "id": "up9TsLC5Id5z"
      }
    },
    {
      "cell_type": "markdown",
      "source": [
        "### 2) 리스트(list) 객체 접근: index, [ ], slicing"
      ],
      "metadata": {
        "id": "FNQGzVGueam_"
      }
    },
    {
      "cell_type": "code",
      "source": [
        "ls = [1,2,3,['one','two','three']]\n",
        "ls[2]\n"
      ],
      "metadata": {
        "id": "EOZvFHE2fkZL",
        "colab": {
          "base_uri": "https://localhost:8080/"
        },
        "outputId": "54ba2970-b6bb-47c1-aa9b-9525b4de5be8"
      },
      "execution_count": null,
      "outputs": [
        {
          "output_type": "execute_result",
          "data": {
            "text/plain": [
              "3"
            ]
          },
          "metadata": {},
          "execution_count": 7
        }
      ]
    },
    {
      "cell_type": "code",
      "source": [
        "ls = [1,2,3,['one','two','three']]\n",
        "ls[3]"
      ],
      "metadata": {
        "colab": {
          "base_uri": "https://localhost:8080/"
        },
        "id": "5is3ulgAKp1q",
        "outputId": "b231329b-f8f1-4159-b5c5-ba5fa8a43546"
      },
      "execution_count": null,
      "outputs": [
        {
          "output_type": "execute_result",
          "data": {
            "text/plain": [
              "['one', 'two', 'three']"
            ]
          },
          "metadata": {},
          "execution_count": 8
        }
      ]
    },
    {
      "cell_type": "code",
      "source": [
        "ls = [1,2,3,['one','two','three']]\n",
        "ls[3][1][1]"
      ],
      "metadata": {
        "id": "2m_w_bUxf3iw",
        "colab": {
          "base_uri": "https://localhost:8080/",
          "height": 36
        },
        "outputId": "c75c5375-d292-440f-fb54-3e6ed8496f4d"
      },
      "execution_count": null,
      "outputs": [
        {
          "output_type": "execute_result",
          "data": {
            "text/plain": [
              "'w'"
            ],
            "application/vnd.google.colaboratory.intrinsic+json": {
              "type": "string"
            }
          },
          "metadata": {},
          "execution_count": 10
        }
      ]
    },
    {
      "cell_type": "code",
      "source": [
        "ls[3][0:2]"
      ],
      "metadata": {
        "colab": {
          "base_uri": "https://localhost:8080/"
        },
        "id": "90SD7WyALShj",
        "outputId": "4246dd91-ee5e-46c2-b31d-bc3f6502a7c9"
      },
      "execution_count": null,
      "outputs": [
        {
          "output_type": "execute_result",
          "data": {
            "text/plain": [
              "['one', 'two']"
            ]
          },
          "metadata": {},
          "execution_count": 15
        }
      ]
    },
    {
      "cell_type": "code",
      "source": [],
      "metadata": {
        "id": "emyciK1mNUKD"
      },
      "execution_count": null,
      "outputs": []
    },
    {
      "cell_type": "markdown",
      "source": [],
      "metadata": {
        "id": "cEfSLyjHNT7i"
      }
    },
    {
      "cell_type": "markdown",
      "source": [
        "### 3) 리스트(list) 연산\n"
      ],
      "metadata": {
        "id": "nwVUSp8Ueap-"
      }
    },
    {
      "cell_type": "code",
      "source": [
        "ls_1 = ['one','two','three']\n",
        "ls_2 = ['four', 'five', 'six']\n",
        "ls_3 = ls_1 + ls_2\n",
        "ls_3"
      ],
      "metadata": {
        "id": "acNu5OO5gFfh",
        "colab": {
          "base_uri": "https://localhost:8080/"
        },
        "outputId": "0dd06911-25d0-4223-9d71-124f9fb1682e"
      },
      "execution_count": null,
      "outputs": [
        {
          "output_type": "execute_result",
          "data": {
            "text/plain": [
              "['one', 'two', 'three', 'four', 'five', 'six']"
            ]
          },
          "metadata": {},
          "execution_count": 16
        }
      ]
    },
    {
      "cell_type": "code",
      "source": [
        "ls_4 = ls_1*3\n",
        "ls_4"
      ],
      "metadata": {
        "colab": {
          "base_uri": "https://localhost:8080/"
        },
        "id": "CFqHHraZOEqZ",
        "outputId": "8054dca1-f845-4372-b2a1-af95e7f70e95"
      },
      "execution_count": null,
      "outputs": [
        {
          "output_type": "execute_result",
          "data": {
            "text/plain": [
              "['one', 'two', 'three', 'one', 'two', 'three', 'one', 'two', 'three']"
            ]
          },
          "metadata": {},
          "execution_count": 17
        }
      ]
    },
    {
      "cell_type": "code",
      "source": [
        "ls_4[0] = 5\n",
        "ls_4"
      ],
      "metadata": {
        "colab": {
          "base_uri": "https://localhost:8080/"
        },
        "id": "2LE4C8hzOOIB",
        "outputId": "5dc1d72e-5ce4-484c-9b05-9666405c14d6"
      },
      "execution_count": null,
      "outputs": [
        {
          "output_type": "execute_result",
          "data": {
            "text/plain": [
              "[5, 'two', 'three', 'one', 'two', 'three', 'one', 'two', 'three']"
            ]
          },
          "metadata": {},
          "execution_count": 18
        }
      ]
    },
    {
      "cell_type": "markdown",
      "source": [
        "### 4) 리스트(list) 객체 수정"
      ],
      "metadata": {
        "id": "wUtqYGMgeatf"
      }
    },
    {
      "cell_type": "code",
      "source": [
        "ls_4 = [1,2,3]\n",
        "ls_4[0] = 'two'\n",
        "ls_4"
      ],
      "metadata": {
        "id": "GxYgNcN5gOow",
        "colab": {
          "base_uri": "https://localhost:8080/"
        },
        "outputId": "79d88380-d711-4700-8c41-c4aa4dba6780"
      },
      "execution_count": null,
      "outputs": [
        {
          "output_type": "execute_result",
          "data": {
            "text/plain": [
              "['two', 2, 3]"
            ]
          },
          "metadata": {},
          "execution_count": 19
        }
      ]
    },
    {
      "cell_type": "markdown",
      "source": [
        "### 5) 리스트(list) 메소드(method)"
      ],
      "metadata": {
        "id": "ommj62mXeawX"
      }
    },
    {
      "cell_type": "markdown",
      "source": [
        "﻿\n",
        "* index: 리스트의 객체 순서(첫번째는 0)\n",
        "\n",
        "* append: 리스트의 맨 끝 인덱스에 새로운 값을 추가\n",
        "\n",
        "* insert: 리스트의 특정 위치에 값을 추가\n",
        "\n",
        "* remove: 리스트 요소 제거(요소명)\n",
        "\n",
        "* pop: 리스트의 요소 방출(인텍스), 인텍스를 지정하지 않으면 마지막 요소 방출\n",
        "\n",
        "* del: 리스트의 요소 제거 연산(인텍스)\n",
        "\n",
        "* sort: 정렬\n",
        "\n",
        "* reverse: 순서 뒤집기\n",
        "\n",
        "* extend: 새로운 리스트를 기존 리스트에 추가\n",
        "\n",
        "* clear: 모두 지우기\n",
        "\n",
        "﻿"
      ],
      "metadata": {
        "id": "2AbdBKwBeazX"
      }
    },
    {
      "cell_type": "markdown",
      "source": [
        "### 6. 리스트 활용 예제"
      ],
      "metadata": {
        "id": "vOSZdToBea2m"
      }
    },
    {
      "cell_type": "markdown",
      "source": [
        "\n",
        "\n",
        "*   '호날도', '메시', '손흥민', '살라'가 순서대로 풋살팀에 가입\n",
        "\n",
        "\n",
        "\n"
      ],
      "metadata": {
        "id": "gL-eWFjVea5N"
      }
    },
    {
      "cell_type": "code",
      "source": [
        "ls_0 = []\n",
        "ls_0.append(\"호날도\")\n",
        "ls_0.append('메시')\n",
        "ls_0.append(\"손흥민\")\n",
        "ls_0.append(\"살라\")\n",
        "print(ls_0)"
      ],
      "metadata": {
        "id": "ElqKnkxMhD0g",
        "colab": {
          "base_uri": "https://localhost:8080/"
        },
        "outputId": "ceb93488-8917-4a81-b6ca-e726e5d07f91"
      },
      "execution_count": null,
      "outputs": [
        {
          "output_type": "stream",
          "name": "stdout",
          "text": [
            "['호날도', '메시', '손흥민', '살라']\n"
          ]
        }
      ]
    },
    {
      "cell_type": "markdown",
      "source": [
        "*   '손흥민'은 몇 번째로 풋살팀에 가입했나?\n"
      ],
      "metadata": {
        "id": "X35mRhXUhIT1"
      }
    },
    {
      "cell_type": "code",
      "source": [
        "print(ls_0.index(\"손흥민\"))\n",
        "ls_0"
      ],
      "metadata": {
        "id": "oqOX5iIfhQPB",
        "colab": {
          "base_uri": "https://localhost:8080/"
        },
        "outputId": "68922d17-022b-4199-c31c-e3e102ff88f5"
      },
      "execution_count": null,
      "outputs": [
        {
          "output_type": "stream",
          "name": "stdout",
          "text": [
            "2\n"
          ]
        },
        {
          "output_type": "execute_result",
          "data": {
            "text/plain": [
              "['호날도', '메시', '손흥민', '살라']"
            ]
          },
          "metadata": {},
          "execution_count": 33
        }
      ]
    },
    {
      "cell_type": "markdown",
      "source": [
        "*   '음바페'가 새롭게 풋살팀에 합류함.\n"
      ],
      "metadata": {
        "id": "tqtmV5VNhTkd"
      }
    },
    {
      "cell_type": "code",
      "source": [
        "ls_0.append(\"음바페\")\n",
        "ls_0"
      ],
      "metadata": {
        "id": "29cIY69kha5o",
        "colab": {
          "base_uri": "https://localhost:8080/"
        },
        "outputId": "24133a01-075e-4b40-b8a4-20eaca5d6162"
      },
      "execution_count": null,
      "outputs": [
        {
          "output_type": "execute_result",
          "data": {
            "text/plain": [
              "['호날도', '메시', '손흥민', '살라', '음바페']"
            ]
          },
          "metadata": {},
          "execution_count": 34
        }
      ]
    },
    {
      "cell_type": "markdown",
      "source": [
        "*  '메시'가 풋살팀에 탈퇴함."
      ],
      "metadata": {
        "id": "3oBcn76mhc2V"
      }
    },
    {
      "cell_type": "code",
      "source": [
        "ls_0.remove('메시')\n",
        "ls_0"
      ],
      "metadata": {
        "id": "5KvOqUfyhiIB",
        "colab": {
          "base_uri": "https://localhost:8080/"
        },
        "outputId": "4031483a-658a-4c77-a900-860307b23354"
      },
      "execution_count": null,
      "outputs": [
        {
          "output_type": "execute_result",
          "data": {
            "text/plain": [
              "['호날도', '손흥민', '살라', '음바페']"
            ]
          },
          "metadata": {},
          "execution_count": 35
        }
      ]
    },
    {
      "cell_type": "markdown",
      "source": [
        "*   1달 후 '메시'가 다시 합류해 원래 순서인 두 번째 위치(index = 1)에 추가"
      ],
      "metadata": {
        "id": "WTOVfl0ThkIx"
      }
    },
    {
      "cell_type": "code",
      "source": [
        "ls_0.insert(1,'메시')\n",
        "ls_0"
      ],
      "metadata": {
        "id": "RzzaRD7Vhqvk",
        "colab": {
          "base_uri": "https://localhost:8080/"
        },
        "outputId": "da64c938-0efc-4391-8213-a2b594b07e3f"
      },
      "execution_count": null,
      "outputs": [
        {
          "output_type": "execute_result",
          "data": {
            "text/plain": [
              "['호날도', '메시', '손흥민', '살라', '음바페']"
            ]
          },
          "metadata": {},
          "execution_count": 44
        }
      ]
    },
    {
      "cell_type": "markdown",
      "source": [
        " * 가장 먼저 들어온 '호날도' 뽑아서 방출함."
      ],
      "metadata": {
        "id": "OYTl7gRMhy1V"
      }
    },
    {
      "cell_type": "code",
      "source": [
        "ls_0.pop(0)"
      ],
      "metadata": {
        "id": "sUZGgsTxh4n2",
        "colab": {
          "base_uri": "https://localhost:8080/",
          "height": 36
        },
        "outputId": "e3751095-f01c-401a-bca0-3be339eb669f"
      },
      "execution_count": null,
      "outputs": [
        {
          "output_type": "execute_result",
          "data": {
            "text/plain": [
              "'호날도'"
            ],
            "application/vnd.google.colaboratory.intrinsic+json": {
              "type": "string"
            }
          },
          "metadata": {},
          "execution_count": 45
        }
      ]
    },
    {
      "cell_type": "markdown",
      "source": [
        "*  새로운 멤버들 '살라(동명이인)'와 '네이마르'가 동시에 입단함."
      ],
      "metadata": {
        "id": "0qM5js6whywu"
      }
    },
    {
      "cell_type": "code",
      "source": [
        "ls_0.extend([\"살라\", \"네이마르\"])"
      ],
      "metadata": {
        "id": "nn-mbUKXiGc9"
      },
      "execution_count": null,
      "outputs": []
    },
    {
      "cell_type": "markdown",
      "source": [
        "*  가장 늦게 들어온 순서대로 정렬"
      ],
      "metadata": {
        "id": "6c5SwVTBhym1"
      }
    },
    {
      "cell_type": "markdown",
      "source": [
        "\"살라\" 인원수 확인"
      ],
      "metadata": {
        "id": "fBWXroK_SIhh"
      }
    },
    {
      "cell_type": "code",
      "source": [
        "foot.count(\"살라\")"
      ],
      "metadata": {
        "colab": {
          "base_uri": "https://localhost:8080/"
        },
        "id": "lSKvpM9uSL15",
        "outputId": "15f52b42-ed65-4d83-ba4e-efd6eff2fd01"
      },
      "execution_count": null,
      "outputs": [
        {
          "output_type": "execute_result",
          "data": {
            "text/plain": [
              "2"
            ]
          },
          "metadata": {},
          "execution_count": 56
        }
      ]
    },
    {
      "cell_type": "code",
      "source": [
        "foot = [\"메시\",\"손흥민\",\"살라\",\"음바페\",\"살라\",\"네이마르\"]\n",
        "\n",
        "foot.reverse()\n",
        "foot"
      ],
      "metadata": {
        "id": "8sD_RVixiN01",
        "colab": {
          "base_uri": "https://localhost:8080/"
        },
        "outputId": "f26faebd-f38d-46fe-c46b-c9b3497eb147"
      },
      "execution_count": null,
      "outputs": [
        {
          "output_type": "execute_result",
          "data": {
            "text/plain": [
              "['네이마르', '살라', '음바페', '살라', '손흥민', '메시']"
            ]
          },
          "metadata": {},
          "execution_count": 55
        }
      ]
    },
    {
      "cell_type": "markdown",
      "source": [
        "* 이름(알파벳) 순서별로 정렬\n"
      ],
      "metadata": {
        "id": "YLlM9xFYiU13"
      }
    },
    {
      "cell_type": "code",
      "source": [
        "foot.sort()\n",
        "foot"
      ],
      "metadata": {
        "id": "u-7me-uTiW8B",
        "colab": {
          "base_uri": "https://localhost:8080/"
        },
        "outputId": "fc50cd83-3dec-42f3-8ef0-c0dcbc477acf"
      },
      "execution_count": null,
      "outputs": [
        {
          "output_type": "execute_result",
          "data": {
            "text/plain": [
              "['네이마르', '메시', '살라', '살라', '손흥민', '음바페']"
            ]
          },
          "metadata": {},
          "execution_count": 57
        }
      ]
    },
    {
      "cell_type": "markdown",
      "source": [
        "*  풋살팀을 해체함."
      ],
      "metadata": {
        "id": "jAqIdAMNiYtL"
      }
    },
    {
      "cell_type": "code",
      "source": [
        "foot.clear()\n",
        "foot"
      ],
      "metadata": {
        "id": "YRXqbsakie9k",
        "colab": {
          "base_uri": "https://localhost:8080/"
        },
        "outputId": "b981ab89-b187-4560-f833-6871cedfbdbc"
      },
      "execution_count": null,
      "outputs": [
        {
          "output_type": "execute_result",
          "data": {
            "text/plain": [
              "[]"
            ]
          },
          "metadata": {},
          "execution_count": 58
        }
      ]
    },
    {
      "cell_type": "markdown",
      "source": [
        "## 2. 튜플(tuple)"
      ],
      "metadata": {
        "id": "cgrROb1eira2"
      }
    },
    {
      "cell_type": "markdown",
      "source": [
        "\n",
        "\n",
        "*   튜플은 리스트와 같은 개념이지만, 값을 변경하는 것이 불가능.\n",
        "*   주민번호 등 바꾸거나 수정해서는 안되는 것들을 저장\n",
        "*   튜플은 ( )를 이용해서 만듦.\n",
        "\n"
      ],
      "metadata": {
        "id": "Ehjh8PaSi9B2"
      }
    },
    {
      "cell_type": "markdown",
      "source": [
        "### 1) 튜플(tuple) 생성"
      ],
      "metadata": {
        "id": "vjXme6FNirYA"
      }
    },
    {
      "cell_type": "code",
      "source": [
        "bts = (\"RM\" , \"진\", \"슈가\", \"제이홉\", \"지민\", \"뷔\", \"정국\")\n",
        "bts"
      ],
      "metadata": {
        "id": "pu-YClzxjI-E",
        "colab": {
          "base_uri": "https://localhost:8080/"
        },
        "outputId": "c0f8e8d7-51b6-4dc6-97e2-34b6f12eb3aa"
      },
      "execution_count": 3,
      "outputs": [
        {
          "output_type": "execute_result",
          "data": {
            "text/plain": [
              "('RM', '진', '슈가', '제이홉', '지민', '뷔', '정국')"
            ]
          },
          "metadata": {},
          "execution_count": 3
        }
      ]
    },
    {
      "cell_type": "markdown",
      "source": [
        "\n",
        "\n",
        "*   bts 멤버에 '임영웅'을 넣으려고 하면\n",
        "\n"
      ],
      "metadata": {
        "id": "8UyKhngzirU_"
      }
    },
    {
      "cell_type": "code",
      "source": [
        "bts.add(\"임영웅\")"
      ],
      "metadata": {
        "id": "5QPGoSc3jQS5",
        "colab": {
          "base_uri": "https://localhost:8080/",
          "height": 176
        },
        "outputId": "9cce09e0-abf1-49e4-a162-8ee5ab84d9fc"
      },
      "execution_count": 4,
      "outputs": [
        {
          "output_type": "error",
          "ename": "AttributeError",
          "evalue": "ignored",
          "traceback": [
            "\u001b[0;31m---------------------------------------------------------------------------\u001b[0m",
            "\u001b[0;31mAttributeError\u001b[0m                            Traceback (most recent call last)",
            "\u001b[0;32m<ipython-input-4-0eeddfdaee7e>\u001b[0m in \u001b[0;36m<module>\u001b[0;34m\u001b[0m\n\u001b[0;32m----> 1\u001b[0;31m \u001b[0mbts\u001b[0m\u001b[0;34m.\u001b[0m\u001b[0madd\u001b[0m\u001b[0;34m(\u001b[0m\u001b[0;34m\"임영웅\"\u001b[0m\u001b[0;34m)\u001b[0m\u001b[0;34m\u001b[0m\u001b[0;34m\u001b[0m\u001b[0m\n\u001b[0m",
            "\u001b[0;31mAttributeError\u001b[0m: 'tuple' object has no attribute 'add'"
          ]
        }
      ]
    },
    {
      "cell_type": "code",
      "source": [
        "(name, nation, id_num) = (\"손흥민\", \"KOREA\", \"19920708\")"
      ],
      "metadata": {
        "id": "q8nEHcXijcnv"
      },
      "execution_count": 5,
      "outputs": []
    },
    {
      "cell_type": "code",
      "source": [
        "print(name, nation, id_num)"
      ],
      "metadata": {
        "colab": {
          "base_uri": "https://localhost:8080/"
        },
        "id": "QIH7zzTnWJjQ",
        "outputId": "00a4aa9a-4bea-4fcd-88bb-9ff2269636bc"
      },
      "execution_count": 6,
      "outputs": [
        {
          "output_type": "stream",
          "name": "stdout",
          "text": [
            "손흥민 KOREA 19920708\n"
          ]
        }
      ]
    },
    {
      "cell_type": "markdown",
      "source": [
        "### 2) 튜플 인덱싱(indexing), 슬라이싱(slicing), 연산"
      ],
      "metadata": {
        "id": "XZG0FuQzirRp"
      }
    },
    {
      "cell_type": "markdown",
      "source": [
        "\n",
        "\n",
        "*   인덱싱(indexing)\n"
      ],
      "metadata": {
        "id": "c95fEfIjirOg"
      }
    },
    {
      "cell_type": "code",
      "source": [
        "tuple = (1,2,3,(\"one\", \"two\", \"three\"))\n",
        "tuple[1:3]"
      ],
      "metadata": {
        "id": "J9PnyPlnkAy9",
        "colab": {
          "base_uri": "https://localhost:8080/"
        },
        "outputId": "c3d33556-2d4b-4279-f759-c567083e614d"
      },
      "execution_count": 8,
      "outputs": [
        {
          "output_type": "execute_result",
          "data": {
            "text/plain": [
              "(2, 3)"
            ]
          },
          "metadata": {},
          "execution_count": 8
        }
      ]
    },
    {
      "cell_type": "markdown",
      "source": [
        "*  슬라이싱(slicing)"
      ],
      "metadata": {
        "id": "_8lmEiiUirLX"
      }
    },
    {
      "cell_type": "code",
      "source": [
        "tuple[3][0:3]"
      ],
      "metadata": {
        "id": "dPP29gp_kGpc",
        "colab": {
          "base_uri": "https://localhost:8080/"
        },
        "outputId": "9932ab60-dd86-45e6-c688-f6a5c6d11234"
      },
      "execution_count": 9,
      "outputs": [
        {
          "output_type": "execute_result",
          "data": {
            "text/plain": [
              "('one', 'two', 'three')"
            ]
          },
          "metadata": {},
          "execution_count": 9
        }
      ]
    },
    {
      "cell_type": "code",
      "source": [
        "tuple[0:]"
      ],
      "metadata": {
        "colab": {
          "base_uri": "https://localhost:8080/"
        },
        "id": "NDtjtHN5W3fo",
        "outputId": "8aca790e-2686-43f5-ee7d-dc985e22752f"
      },
      "execution_count": 10,
      "outputs": [
        {
          "output_type": "execute_result",
          "data": {
            "text/plain": [
              "(1, 2, 3, ('one', 'two', 'three'))"
            ]
          },
          "metadata": {},
          "execution_count": 10
        }
      ]
    },
    {
      "cell_type": "code",
      "source": [
        "tuple[3][:2]"
      ],
      "metadata": {
        "colab": {
          "base_uri": "https://localhost:8080/"
        },
        "id": "2WaIKsg7W5h4",
        "outputId": "1a25d26a-a243-4223-a6f0-a007acfd2c39"
      },
      "execution_count": 21,
      "outputs": [
        {
          "output_type": "execute_result",
          "data": {
            "text/plain": [
              "('one', 'two')"
            ]
          },
          "metadata": {},
          "execution_count": 21
        }
      ]
    },
    {
      "cell_type": "markdown",
      "source": [
        "* 연산"
      ],
      "metadata": {
        "id": "-xcoeApiirIQ"
      }
    },
    {
      "cell_type": "code",
      "source": [],
      "metadata": {
        "id": "ZTFvd_qlkI_W"
      },
      "execution_count": null,
      "outputs": []
    },
    {
      "cell_type": "markdown",
      "source": [
        "## 3. 집합(set)"
      ],
      "metadata": {
        "id": "od-FRyuGirEg"
      }
    },
    {
      "cell_type": "markdown",
      "source": [
        "* 수학에서 집합과 거의 같은 개념으로 중복이 안되고 순서도 없음.\n",
        "* 집합처럼 교집합, 합집합, 차집합, 여집합을 이용\n",
        "* 집합기호 { }를 이용해 자료를 생성"
      ],
      "metadata": {
        "id": "9I7_aJfFirA_"
      }
    },
    {
      "cell_type": "markdown",
      "source": [
        "### 1) 집합(set) 생성"
      ],
      "metadata": {
        "id": "EO_ohxbekiob"
      }
    },
    {
      "cell_type": "code",
      "source": [
        "club_1 = {'호날두', '메시', '손흥민'}\n",
        "club_2 = set(['손흥민', '살라'])\n",
        "club_2\n"
      ],
      "metadata": {
        "id": "trNA7eSdk8io",
        "colab": {
          "base_uri": "https://localhost:8080/"
        },
        "outputId": "534ff0b9-baae-40dc-e4a9-3d61576e4b49"
      },
      "execution_count": 23,
      "outputs": [
        {
          "output_type": "execute_result",
          "data": {
            "text/plain": [
              "{'살라', '손흥민'}"
            ]
          },
          "metadata": {},
          "execution_count": 23
        }
      ]
    },
    {
      "cell_type": "code",
      "source": [],
      "metadata": {
        "id": "wHS9AzlwlB6m"
      },
      "execution_count": null,
      "outputs": []
    },
    {
      "cell_type": "markdown",
      "source": [
        "## 2) 집합(set) 연산"
      ],
      "metadata": {
        "id": "L__gnX0MkilL"
      }
    },
    {
      "cell_type": "markdown",
      "source": [
        "- 교집합: & , intersection()\n",
        "\n",
        "- 합집합: |, union()\n",
        "\n",
        "- 차집합: -, difference()\n",
        "\n",
        "- 여집합: ^, symmetric_difference()"
      ],
      "metadata": {
        "id": "hPBzz6-1kiiL"
      }
    },
    {
      "cell_type": "code",
      "source": [
        "club_1.union(club_2)"
      ],
      "metadata": {
        "id": "aiPD2f3ElY2U",
        "colab": {
          "base_uri": "https://localhost:8080/"
        },
        "outputId": "afcf7a64-ac20-49fd-dd4d-6b6b68ebf1fa"
      },
      "execution_count": 29,
      "outputs": [
        {
          "output_type": "execute_result",
          "data": {
            "text/plain": [
              "{'메시', '살라', '손흥민', '호날두'}"
            ]
          },
          "metadata": {},
          "execution_count": 29
        }
      ]
    },
    {
      "cell_type": "markdown",
      "source": [
        "## 3) 집합(set) 메소드"
      ],
      "metadata": {
        "id": "i0i8XNeUkifT"
      }
    },
    {
      "cell_type": "markdown",
      "source": [
        "* add(): 요소 추가\n",
        "\n",
        "* update(): 여러 요소 추가\n",
        "\n",
        "* remove(): 요소 제거\n",
        "\n",
        "* discard(): 요소 제거\n",
        "\n",
        "* clear(): 모든 요소 제거"
      ],
      "metadata": {
        "id": "58qx3bQikicE"
      }
    },
    {
      "cell_type": "markdown",
      "source": [
        "* \"호날도\", \"메시\", \"손흥민\"이 클럽에 가입"
      ],
      "metadata": {
        "id": "H-dk8bWhkiYr"
      }
    },
    {
      "cell_type": "code",
      "source": [
        "club = {\"호날도\", \"메시\", \"손흥민\"}"
      ],
      "metadata": {
        "id": "AKsFTm-0mDaZ"
      },
      "execution_count": 38,
      "outputs": []
    },
    {
      "cell_type": "markdown",
      "source": [
        "* \"네이마르\"가 클럽에 가입"
      ],
      "metadata": {
        "id": "RWZdIN-VmGIC"
      }
    },
    {
      "cell_type": "code",
      "source": [
        "club.add(\"네이마르\")"
      ],
      "metadata": {
        "id": "5U7Q3OSrmiic"
      },
      "execution_count": 39,
      "outputs": []
    },
    {
      "cell_type": "code",
      "source": [
        "club"
      ],
      "metadata": {
        "colab": {
          "base_uri": "https://localhost:8080/"
        },
        "id": "F5U1UawCbBiy",
        "outputId": "0bad264e-c16b-4301-c7f7-1272dd009da3"
      },
      "execution_count": 40,
      "outputs": [
        {
          "output_type": "execute_result",
          "data": {
            "text/plain": [
              "{'네이마르', '메시', '손흥민', '호날도'}"
            ]
          },
          "metadata": {},
          "execution_count": 40
        }
      ]
    },
    {
      "cell_type": "markdown",
      "source": [
        "* '음바페', '홀란드' 가 동시에 가입"
      ],
      "metadata": {
        "id": "ClQXaa8dmMU7"
      }
    },
    {
      "cell_type": "code",
      "source": [
        "club.update([\"음바페\",\"홀란드\"])\n",
        "club"
      ],
      "metadata": {
        "id": "YFOEXM7Xmiz-",
        "colab": {
          "base_uri": "https://localhost:8080/"
        },
        "outputId": "686a4a08-6d4b-4a32-8d35-034a3a44e51c"
      },
      "execution_count": 41,
      "outputs": [
        {
          "output_type": "execute_result",
          "data": {
            "text/plain": [
              "{'네이마르', '메시', '손흥민', '음바페', '호날도', '홀란드'}"
            ]
          },
          "metadata": {},
          "execution_count": 41
        }
      ]
    },
    {
      "cell_type": "markdown",
      "source": [
        "* '손흥민' 클럽에서 탈퇴"
      ],
      "metadata": {
        "id": "fA3eLA4fmObA"
      }
    },
    {
      "cell_type": "code",
      "source": [
        "club.remove('손흥민')"
      ],
      "metadata": {
        "id": "gu-PIbCLmjD-"
      },
      "execution_count": 42,
      "outputs": []
    },
    {
      "cell_type": "code",
      "source": [
        "club"
      ],
      "metadata": {
        "colab": {
          "base_uri": "https://localhost:8080/"
        },
        "id": "CqQvoEfLbQQH",
        "outputId": "0a77ea91-bd4d-435e-f5b8-ca3d2230845e"
      },
      "execution_count": 43,
      "outputs": [
        {
          "output_type": "execute_result",
          "data": {
            "text/plain": [
              "{'네이마르', '메시', '음바페', '호날도', '홀란드'}"
            ]
          },
          "metadata": {},
          "execution_count": 43
        }
      ]
    },
    {
      "cell_type": "markdown",
      "source": [
        "* 호날두도 클럽에서 탈퇴"
      ],
      "metadata": {
        "id": "rwNyfVwUmOXk"
      }
    },
    {
      "cell_type": "code",
      "source": [
        "club.remove(\"호날도\")\n",
        "club"
      ],
      "metadata": {
        "id": "VThUFbAwmjXY",
        "colab": {
          "base_uri": "https://localhost:8080/"
        },
        "outputId": "b0cb0cf4-c8e5-458d-b84e-f70cabf2f7bc"
      },
      "execution_count": 45,
      "outputs": [
        {
          "output_type": "execute_result",
          "data": {
            "text/plain": [
              "{'네이마르', '메시', '음바페', '홀란드'}"
            ]
          },
          "metadata": {},
          "execution_count": 45
        }
      ]
    },
    {
      "cell_type": "markdown",
      "source": [
        "* 모두 클럽에서 탈퇴"
      ],
      "metadata": {
        "id": "oODC6-G3mOUE"
      }
    },
    {
      "cell_type": "code",
      "source": [
        "club.clear()\n",
        "club"
      ],
      "metadata": {
        "id": "LNkfIa6Gmjsu",
        "colab": {
          "base_uri": "https://localhost:8080/"
        },
        "outputId": "c7263d72-d3fc-4214-c6ca-9f3aa9f25e47"
      },
      "execution_count": 46,
      "outputs": [
        {
          "output_type": "execute_result",
          "data": {
            "text/plain": [
              "set()"
            ]
          },
          "metadata": {},
          "execution_count": 46
        }
      ]
    },
    {
      "cell_type": "markdown",
      "source": [
        "## 4. 딕셔너리(dictionary)"
      ],
      "metadata": {
        "id": "wIXW3H89m7RT"
      }
    },
    {
      "cell_type": "markdown",
      "source": [
        "* 객체(value)에게 key(고유 구분자) 값을 부여\n",
        "* 자료 유형이 '단어(key): 뜻(value)' 형태로 마치 사전처럼 되어 있어서 '딕션너리', '사전'이라고 부름\n",
        "* ﻿집합 기호 { }를 사용 {key1: value1, key2: value2, key3: value3,......}"
      ],
      "metadata": {
        "id": "XjzWcQ7Nm7RT"
      }
    },
    {
      "cell_type": "code",
      "source": [],
      "metadata": {
        "id": "tEq3IvZZn7gi"
      },
      "execution_count": null,
      "outputs": []
    },
    {
      "cell_type": "markdown",
      "source": [
        "### 1) 딕셔너리(dictionary) key 할당 및 사용"
      ],
      "metadata": {
        "id": "fKJUS7z_n9aO"
      }
    },
    {
      "cell_type": "markdown",
      "source": [
        "* '호날도'에게 3번. '손흥민'에게 100번 캐비넷을 배정하고 확인하기"
      ],
      "metadata": {
        "id": "u0mNaNe6rPIZ"
      }
    },
    {
      "cell_type": "code",
      "source": [
        "club = {3:'호날도', 100:\"손흥민\"}\n",
        "print(club, type(club))"
      ],
      "metadata": {
        "id": "17SMhA9irbL3",
        "colab": {
          "base_uri": "https://localhost:8080/"
        },
        "outputId": "73968a75-c304-4d92-8e65-0cd55e28a92d"
      },
      "execution_count": 47,
      "outputs": [
        {
          "output_type": "stream",
          "name": "stdout",
          "text": [
            "{3: '호날도', 100: '손흥민'} <class 'dict'>\n"
          ]
        }
      ]
    },
    {
      "cell_type": "code",
      "source": [
        "club[3]"
      ],
      "metadata": {
        "colab": {
          "base_uri": "https://localhost:8080/",
          "height": 36
        },
        "id": "kRSIDSxHcq9-",
        "outputId": "356454b6-aaab-41b5-e17e-447ad7e8c085"
      },
      "execution_count": 49,
      "outputs": [
        {
          "output_type": "execute_result",
          "data": {
            "text/plain": [
              "'호날도'"
            ],
            "application/vnd.google.colaboratory.intrinsic+json": {
              "type": "string"
            }
          },
          "metadata": {},
          "execution_count": 49
        }
      ]
    },
    {
      "cell_type": "code",
      "source": [
        "club[100]"
      ],
      "metadata": {
        "colab": {
          "base_uri": "https://localhost:8080/",
          "height": 194
        },
        "id": "Y3ULiuowc2Se",
        "outputId": "6621a6da-6010-4f38-98bf-931819cce050"
      },
      "execution_count": 51,
      "outputs": [
        {
          "output_type": "error",
          "ename": "KeyError",
          "evalue": "ignored",
          "traceback": [
            "\u001b[0;31m---------------------------------------------------------------------------\u001b[0m",
            "\u001b[0;31mKeyError\u001b[0m                                  Traceback (most recent call last)",
            "\u001b[0;32m<ipython-input-51-0c4cba26ab4d>\u001b[0m in \u001b[0;36m<module>\u001b[0;34m\u001b[0m\n\u001b[1;32m      1\u001b[0m \u001b[0mclub\u001b[0m\u001b[0;34m[\u001b[0m\u001b[0;36m100\u001b[0m\u001b[0;34m]\u001b[0m\u001b[0;34m\u001b[0m\u001b[0;34m\u001b[0m\u001b[0m\n\u001b[0;32m----> 2\u001b[0;31m \u001b[0mclub\u001b[0m\u001b[0;34m[\u001b[0m\u001b[0;36m50\u001b[0m\u001b[0;34m]\u001b[0m\u001b[0;34m\u001b[0m\u001b[0;34m\u001b[0m\u001b[0m\n\u001b[0m",
            "\u001b[0;31mKeyError\u001b[0m: 50"
          ]
        }
      ]
    },
    {
      "cell_type": "markdown",
      "source": [
        "* get 메소드\n",
        "* 인덱싱으로 찾으면 에러가 발생할 때 에러 메시지를 띄우고 프로그램이 멈추지만, get 방식은 에러가 발생했을 때 'none' 을 반환하고 남은 프로그램을 계속 실행"
      ],
      "metadata": {
        "id": "NJXZjTvHrPE8"
      }
    },
    {
      "cell_type": "code",
      "source": [
        "club.get(100)"
      ],
      "metadata": {
        "id": "wGhON6oGrzgM",
        "colab": {
          "base_uri": "https://localhost:8080/",
          "height": 36
        },
        "outputId": "2be89d9c-a509-4f93-c39e-1049294a1339"
      },
      "execution_count": 55,
      "outputs": [
        {
          "output_type": "execute_result",
          "data": {
            "text/plain": [
              "'손흥민'"
            ],
            "application/vnd.google.colaboratory.intrinsic+json": {
              "type": "string"
            }
          },
          "metadata": {},
          "execution_count": 55
        }
      ]
    },
    {
      "cell_type": "code",
      "source": [
        "club.get(3)"
      ],
      "metadata": {
        "colab": {
          "base_uri": "https://localhost:8080/",
          "height": 36
        },
        "id": "940U7sH8dGP2",
        "outputId": "9ea91fbc-4688-4d5b-8403-19f4a9bf2d4b"
      },
      "execution_count": 56,
      "outputs": [
        {
          "output_type": "execute_result",
          "data": {
            "text/plain": [
              "'호날도'"
            ],
            "application/vnd.google.colaboratory.intrinsic+json": {
              "type": "string"
            }
          },
          "metadata": {},
          "execution_count": 56
        }
      ]
    },
    {
      "cell_type": "code",
      "source": [
        "club.get(1000)"
      ],
      "metadata": {
        "id": "nWdyRGKcr4nG"
      },
      "execution_count": 59,
      "outputs": []
    },
    {
      "cell_type": "markdown",
      "source": [
        "* 락커룸이 구역별(A, B, C)로 나눠져서 '호날도'에게 'A-3'을 '손흥민'에게 'B-100'을 배정"
      ],
      "metadata": {
        "id": "l7u49YAfraWk"
      }
    },
    {
      "cell_type": "code",
      "source": [
        "club = {\"A-3\":'호날도', \"B-100\":'손흥민'}\n",
        "club"
      ],
      "metadata": {
        "id": "0kcR9vuqslTg",
        "colab": {
          "base_uri": "https://localhost:8080/"
        },
        "outputId": "56fdb04d-8d1c-4fc5-c3d1-7772c36c31c0"
      },
      "execution_count": 60,
      "outputs": [
        {
          "output_type": "execute_result",
          "data": {
            "text/plain": [
              "{'A-3': '호날도', 'B-100': '손흥민'}"
            ]
          },
          "metadata": {},
          "execution_count": 60
        }
      ]
    },
    {
      "cell_type": "markdown",
      "source": [
        "* 캐비넷 할당이 되어 있는지 확인하는 방법은 in 을 통해서 확인"
      ],
      "metadata": {
        "id": "VOu3EqJTrPBf"
      }
    },
    {
      "cell_type": "code",
      "source": [
        "'A-3' in club"
      ],
      "metadata": {
        "id": "9m6URmZBsvEG",
        "colab": {
          "base_uri": "https://localhost:8080/"
        },
        "outputId": "ab903192-2bb5-4e35-8a88-b72bf651be3a"
      },
      "execution_count": 61,
      "outputs": [
        {
          "output_type": "execute_result",
          "data": {
            "text/plain": [
              "True"
            ]
          },
          "metadata": {},
          "execution_count": 61
        }
      ]
    },
    {
      "cell_type": "code",
      "source": [
        "'호날도' in club"
      ],
      "metadata": {
        "colab": {
          "base_uri": "https://localhost:8080/"
        },
        "id": "YDn69pateM9m",
        "outputId": "6c40428e-b9bc-4252-c6c2-712b2e92cb35"
      },
      "execution_count": 63,
      "outputs": [
        {
          "output_type": "execute_result",
          "data": {
            "text/plain": [
              "False"
            ]
          },
          "metadata": {},
          "execution_count": 63
        }
      ]
    },
    {
      "cell_type": "markdown",
      "source": [
        "### 2) 딕셔너리 자료에 value 값 추가 및 대체\n"
      ],
      "metadata": {
        "id": "odRhqqi0skip"
      }
    },
    {
      "cell_type": "markdown",
      "source": [
        "* '살라'가 와서 비어있는 캐비넷 \"C-10\"을 배정\n",
        "* '호날도'(A-3)가 나가고 '메시'가 와서 호날도의 캐빈넷을 배정"
      ],
      "metadata": {
        "id": "r3z5SN2hrO9s"
      }
    },
    {
      "cell_type": "code",
      "source": [
        "club[\"C-10\"] = \"살라\""
      ],
      "metadata": {
        "id": "J5DvbzrRthRa"
      },
      "execution_count": 68,
      "outputs": []
    },
    {
      "cell_type": "code",
      "source": [
        "club"
      ],
      "metadata": {
        "colab": {
          "base_uri": "https://localhost:8080/"
        },
        "id": "_F3TMW8Ke1ir",
        "outputId": "df42d2af-2015-408d-8def-8663ad1de4ce"
      },
      "execution_count": 69,
      "outputs": [
        {
          "output_type": "execute_result",
          "data": {
            "text/plain": [
              "{'A-3': '호날도', 'B-100': '손흥민', 'C-10': '살라'}"
            ]
          },
          "metadata": {},
          "execution_count": 69
        }
      ]
    },
    {
      "cell_type": "markdown",
      "source": [
        "'호날도'(A-3)가 나가고 '메시'가 와서 호날도의 캐빈넷을 배정"
      ],
      "metadata": {
        "id": "PA7OLiEOeyil"
      }
    },
    {
      "cell_type": "code",
      "source": [
        "club[\"A-3\"] = \"메시\"\n",
        "club"
      ],
      "metadata": {
        "colab": {
          "base_uri": "https://localhost:8080/"
        },
        "id": "zn9_VQLne0M9",
        "outputId": "9484ca50-b4f1-4b71-a152-21c36af71f0a"
      },
      "execution_count": 70,
      "outputs": [
        {
          "output_type": "execute_result",
          "data": {
            "text/plain": [
              "{'A-3': '메시', 'B-100': '손흥민', 'C-10': '살라'}"
            ]
          },
          "metadata": {},
          "execution_count": 70
        }
      ]
    },
    {
      "cell_type": "markdown",
      "source": [],
      "metadata": {
        "id": "av1bOQO3ex0u"
      }
    },
    {
      "cell_type": "markdown",
      "source": [
        "### 3) 딕셔너리 자료에 메소드 사용"
      ],
      "metadata": {
        "id": "1pXcEjoktjl7"
      }
    },
    {
      "cell_type": "markdown",
      "source": [
        "*  다시 '메시'가 나갔다."
      ],
      "metadata": {
        "id": "gaq4hPxz9ZrU"
      }
    },
    {
      "cell_type": "code",
      "source": [
        "del club[\"A-3\"]\n",
        "club"
      ],
      "metadata": {
        "id": "BL9-SvBA95W_",
        "colab": {
          "base_uri": "https://localhost:8080/"
        },
        "outputId": "018e7aec-b591-4f10-9bd9-3b497cdfa7fb"
      },
      "execution_count": 71,
      "outputs": [
        {
          "output_type": "execute_result",
          "data": {
            "text/plain": [
              "{'B-100': '손흥민', 'C-10': '살라'}"
            ]
          },
          "metadata": {},
          "execution_count": 71
        }
      ]
    },
    {
      "cell_type": "markdown",
      "source": [
        "* '살라'를 뽑아서 방출"
      ],
      "metadata": {
        "id": "bxcGPv779Zlc"
      }
    },
    {
      "cell_type": "code",
      "source": [
        "a = club.pop(\"C-10\")\n",
        "print(a, club)"
      ],
      "metadata": {
        "id": "RoqeHlXH95l-",
        "colab": {
          "base_uri": "https://localhost:8080/"
        },
        "outputId": "5f1d52e0-1c21-43b8-f1a2-3b0960c2e91e"
      },
      "execution_count": 72,
      "outputs": [
        {
          "output_type": "stream",
          "name": "stdout",
          "text": [
            "살라 {'B-100': '손흥민'}\n"
          ]
        }
      ]
    },
    {
      "cell_type": "markdown",
      "source": [
        "* 남아있는 캐비넷 정보 확인"
      ],
      "metadata": {
        "id": "F3qWW5wm-QPa"
      }
    },
    {
      "cell_type": "code",
      "source": [
        "club.keys()"
      ],
      "metadata": {
        "id": "CJbv51tu-ERp",
        "colab": {
          "base_uri": "https://localhost:8080/"
        },
        "outputId": "974505c4-74bc-43d2-f1d4-6f34acfc6d9d"
      },
      "execution_count": 73,
      "outputs": [
        {
          "output_type": "execute_result",
          "data": {
            "text/plain": [
              "dict_keys(['B-100'])"
            ]
          },
          "metadata": {},
          "execution_count": 73
        }
      ]
    },
    {
      "cell_type": "code",
      "source": [
        "club.values()"
      ],
      "metadata": {
        "id": "fQVgCVh8-IWa",
        "colab": {
          "base_uri": "https://localhost:8080/"
        },
        "outputId": "c0ae71df-8950-4782-f52e-02caf4d7d6c5"
      },
      "execution_count": 74,
      "outputs": [
        {
          "output_type": "execute_result",
          "data": {
            "text/plain": [
              "dict_values(['손흥민'])"
            ]
          },
          "metadata": {},
          "execution_count": 74
        }
      ]
    },
    {
      "cell_type": "code",
      "source": [],
      "metadata": {
        "id": "1KxzP_Jz-W1v",
        "colab": {
          "base_uri": "https://localhost:8080/",
          "height": 176
        },
        "outputId": "05b2d7d1-dd37-487f-9da8-fdc904651993"
      },
      "execution_count": 84,
      "outputs": [
        {
          "output_type": "error",
          "ename": "TypeError",
          "evalue": "ignored",
          "traceback": [
            "\u001b[0;31m---------------------------------------------------------------------------\u001b[0m",
            "\u001b[0;31mTypeError\u001b[0m                                 Traceback (most recent call last)",
            "\u001b[0;32m<ipython-input-84-21d86ceeec6d>\u001b[0m in \u001b[0;36m<module>\u001b[0;34m\u001b[0m\n\u001b[0;32m----> 1\u001b[0;31m \u001b[0mclub\u001b[0m\u001b[0;34m.\u001b[0m\u001b[0mitems\u001b[0m\u001b[0;34m[\u001b[0m\u001b[0;36m1\u001b[0m\u001b[0;34m]\u001b[0m\u001b[0;34m\u001b[0m\u001b[0;34m\u001b[0m\u001b[0m\n\u001b[0m",
            "\u001b[0;31mTypeError\u001b[0m: 'builtin_function_or_method' object is not subscriptable"
          ]
        }
      ]
    },
    {
      "cell_type": "markdown",
      "source": [
        "* '손흥민'까지 나가서 캐빈넷을 모두 비움"
      ],
      "metadata": {
        "id": "Fmc6qp4n9Zet"
      }
    },
    {
      "cell_type": "code",
      "source": [
        "club.clear()\n",
        "club"
      ],
      "metadata": {
        "id": "L2FWcDn6951r",
        "colab": {
          "base_uri": "https://localhost:8080/"
        },
        "outputId": "0eceb7da-137b-40d4-b5e2-f7b0c3f3fe1a"
      },
      "execution_count": 85,
      "outputs": [
        {
          "output_type": "execute_result",
          "data": {
            "text/plain": [
              "{}"
            ]
          },
          "metadata": {},
          "execution_count": 85
        }
      ]
    }
  ]
}