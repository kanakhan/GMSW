{
  "nbformat": 4,
  "nbformat_minor": 0,
  "metadata": {
    "colab": {
      "provenance": [],
      "collapsed_sections": [],
      "include_colab_link": true
    },
    "kernelspec": {
      "name": "python3",
      "display_name": "Python 3"
    },
    "language_info": {
      "name": "python"
    }
  },
  "cells": [
    {
      "cell_type": "markdown",
      "metadata": {
        "id": "view-in-github",
        "colab_type": "text"
      },
      "source": [
        "<a href=\"https://colab.research.google.com/github/kanakhan/GMSW/blob/main/TalkFile_7_if_%EB%AC%B8.ipynb\" target=\"_parent\"><img src=\"https://colab.research.google.com/assets/colab-badge.svg\" alt=\"Open In Colab\"/></a>"
      ]
    },
    {
      "cell_type": "markdown",
      "source": [
        "# if 문"
      ],
      "metadata": {
        "id": "2Mzys7tIZeeT"
      }
    },
    {
      "cell_type": "markdown",
      "source": [
        "\n",
        "\n",
        "*   if 의 단어 뜻은 \"만약 ~라면\"으로 파이썬에서도 그 의미가 그대로 사용\n",
        "\n"
      ],
      "metadata": {
        "id": "fzSBpJoAZeiD"
      }
    },
    {
      "cell_type": "markdown",
      "source": [
        "### \"내가 시간되면 내가 가고(if), 네가 시간되면(elif) 네가 가라. 아니면(둘다 시간이 안되면, else) 둘다 가지 말자\" 이 문장을 if 문을 이용해서 나타내 보자."
      ],
      "metadata": {
        "id": "dYa2QsoFZela"
      }
    },
    {
      "cell_type": "markdown",
      "source": [
        "![image.png](data:image/png;base64,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)"
      ],
      "metadata": {
        "id": "jaW4HCydZeoY"
      }
    },
    {
      "cell_type": "markdown",
      "source": [
        "![image.png](data:image/png;base64,iVBORw0KGgoAAAANSUhEUgAAAK8AAAClCAYAAAAqCa0TAAAVSElEQVR4nO2dX2gb157Hv1r60If7kLyUMTgPCimLQ8vWFwoes1mIjA1RcOFK14bIOJC4eWjlXFiUfei1nQd5nIfUvg+tch967QS6aAxx5UKLFehiX7gpM6EBu5cuTi67WF1kkPoHZGhBhhh++zCSPRrNSKN/lo7z+8DB1syZM+dI3/nN75yZ8zseIiIwjID8U7srwDD1wuJlhIXFywgLi5cRFhYvIywsXkZYWLyMsLB4GWF56cSbXQ7CM6u3uxpME+gI8WaXg/B4PC5TEOqupYBdFUGn/ENLSLWlVUyrKRfvkwXAcxUwC2T5KuA5baTZp02vhHQlASIqTboCQIFm3U4JhLotBXSHkCjLR9CiEqQL5+Fteo2ZTqBcvH0RgD4FDgXyFAh9Caj/ACgHzLzd4Cl1zHnmUO3GvfU4AWAD2/9b73m2oK0CE//aWznbrorgqIpsvadh2kZ1t2H3/4y/3tcaPJWOOY8HHk8/pqtl/TmJpT91YeJaHtN/SmKvjrNllxXc6lIwcfHV6plXxtDl8cDDIhYLsqLPE2GcKE1E6jgRTplSYXtNaKQAhGKKalXy71B83EshdYeItmlxuPh/DaTiFJJkUp7midJxCpjPb1sHSx1H4pRxcx51vM7vhGkGlcVLRJReMYSr11q0WRABirv5gX/ZpsVrPRT6ZJvyh9s2aX7YS6FPtinn5rQ/rdNUn+Qo+IwaqHwB6UrtImbaQotGG3TMefoxHdWcO1lmDvbw7NECgoPT2LuuIX6jB4c3+9/0IvLFJib3puEfncPqt85OxN5/L+Fd+V1k/6AhfqXOblrfVKHOGcQxhi52JTqXMjkft+VNJyhy0U/hj9Yp88JcD4UAhUpsZGadYu/5SX4vUZr3p02K/7uPpHMBij2tbJ/Z8p4cWijeIrX6vMV62IjXlh2KX/PThFX8DtiLt06fl2krx/CQQsYUEYg0KABwux8eF0Nl7vEidH8Nizd9kF6p4/BdFcHiCMhIHBki0MMQpKbVj2kVx/iEzSLiVrCrImj3BM6EdCUBmpFLN7JohaQeW9UgMqaoIJ5dFcEzY1itkLvf4zAqPBJHphli6w4h8bDRQph20AbxmugOIUGhtlahIZavAiEAafMTSea48BCdoKnvLiy5QQDxdJXhO6bjOVniZV4qOuKVSIapBxYvIywsXkZYWLyMsLB4GWFh8TLCwuJlhIXFywgLi5cRFhYvIywnWrz6rAfBZadJPDrmKr4+mYU6anN8yWuX1cqogydzDc5iNuo998RuX3EGd7XUzPetW8eJFi8A4CDf7hqgKCgnsThfYCaezLmPIFQFRS8P0HKY9Ja9bd10TrB4U9h+DKx+qbu3YiUC6cLYCrAa6mqaRSoXTQbxEcs5ZIf3lw8nhppT8cV+88Vh1PtlQHjx6rP2t8j9r5dw7zsvvI8jiPzlGfbdFGYrEHOagly9lJoJqJkGLZ+E0MPSC6K5uItydNwIK1591rA0/bdtdn6vYmJkCT0fadj+6wJO3z8P3x9UbP3sruy9r+9h8p3zRhQdz1n0X1/ARrvnv9u6DS6iDzWNafR3mj98TBM9m4YWNUe/KZ9dnNlQyC/JFP7CFHTkRYa0+xHyvxGgxWeHJZFiMyU/vzFFUl+Y4luFKfQv8rSTnCJZCtPaT2QTgcdNQJUMxUdAStkMbGM7rBF97GYv60qFWc3l5ZSfq9hmm/OVJbtZ29ZzuJnZ3VqEEa9ZtAHV4SdMRsg/Mk/rruat24tXi4L8963RdkziS8cpcHicfRk2Naso3pL2OIm0onjdnKuJlFzA7ROxEG6DPutB/+2jcKeJK/bTLqVL81h7GIHP1axMGVM2kXx6BxVkPlmAWozMc7CP1KMYYo/D6D3XUDMwLVtv+zV2rgoBAc/KAxgYGsCAr+DaBNTjjUFsCimrRafR3y5Xok0XTc24sbxO+Z2TvdXMPY5ReLiHJIAAL8nXFFpLFXbWZXlrwLWFdaLc8mbUgIvvwj7ZftcdYnmFEW+Raj5vDSU1X3iuyNFOMkbhER/1SEdt8fb5aCIaJ+2YQ/VUDX91lLPjfF4h3AYz8kzxdgUUe8D2T5OawF4KyY8nERzqx1nz7f71fgyMTmJhWUf2oJYCU1Cv9mDgwT780Tg200fDcNuPFjHRvYnp3n7MPak8sJd9omLu+gAG3jSPQZ9F/1AQkx+u4pljLMJ6nwjqmDt0cYruW2uGDWuizRdPw2hR+85JI24DERGlExSSZArf12gnly/d9yJPudQmJe74yXsxRpsu65r/KkIYjNF2pTzJMGFwkewDtOZp845M0rBCa88yZK1WPrdD2v0wyVKIErbtKr/buLO8GikdYGmtCC9eJ7RoDUH9bMiogeq+54t1moKfFv/HXZmNi9cY6qo8kmAzglFyfDtcpdYgnNtwXEgXxhB6HIPyQEdqz3IbP9jH3vdbWP1wAepFP37rchTi1cEw4pKCy6MLSD7PYt/kcuzvpaA/uIXL1zehRMccFoHphf+OjNidOSSfZ2GtllGGgtjjEMYuvARR19p99bQKd25DFeuc26G1+xGaGJTJaz7mnEy+kTDNq5qrsKqWQhvusGU2FilyzUe+NyRTW7wkDwYofDdB244hit0+pGjxOHGT4Ig5jLCw28AIC4uXERYWLyMsLF5GWFi8jLCweBlhYfEywsLiZYSFxcsIC4uXERYWLyMsLF4rDYdbYo4LMcTrGOrIPpXPrKgUo+sWNlxFJGE6jTrF+xTwnAaWfzQ+PlkAPFeBw+klPwKjp408ntNAo9N07CLZpOMIIIB4ujyyzVSftYDiuselKaMGgJHf4vyrDdaPaQvNsbx9EYBMS5g++U9gZRhI5wDKAWViqoxTCCcze083sIpVbD6r12zuQfuvVfgvyVXWL+7MUEdMq9yG1N8B/EvN6/FWDOFUwhaW7q4hdC2E+O172KqjivtP7kF5FEFkxH7OQikdGOqIcZpJ8QPRyCkimFLJm/XfGNvUH4yP+jwRxonSNseNrFR9I7626ex50qIyyVGN8pSj9f8o/l8Dv2ik9EkUepgh29kFZXPX6pz2nV4p/Z6YpmIj3m/KRafPWwTsJN7CbnWcCPNVT15rIBGiHK3P+Mj3wTodzXTZobWbMskfrLmbkvPLNi2OS86Crxb0o0MCbjB24lXHS4VYJHrKJMjGxWsI1+2Pn6eMvkiRS36KqNs2osvTthoh/6UJim1knK1wZo2mLnrJd0cjx2leNUSsqa0NTLOxiLdw27e71ZcI9Bgt7y+bND8iUyhqmVhYEnapQG6bEtEQycPzpP1i2p7P0PrdAHklH0VW7SeVH7WTLa8ovGLrCK/cADw3bHYMN9XflmcINFMIpBfqgicEGBFZTNFYftOLyEPNXYGnehCYiSNQsnEf+ocTuIcJrD0LoOdUPTXNQh01B8Wz1JFpC/ajDdGvjCGusvRpzSMIbmhtCKdXIc+sITFTr3A7NNQRYxXva8DvhoHbfyvPuXwV8Cy0tDKlIm4FxpO2ihdG3xToYcgy9sui7UTKLe+VmwAUYPSzo227nwGhLwF1/FgqJc8Un5JVeKx7ZgyrWMXYmVYvxyRjikXbkdi4DW8D9A8AN44e7565Aeg54Mprx1w9+8e67lIHCG73s9LH6ExTecki5uiYc7kIiaLbvSPBdBIvmXiZk4QYr0QyjA0sXkZYWLyMsLB4GWFh8TLCwuJlhIXFywgLi5cRFhYvIywsXkZYTo54q0S60Wc9CC47x8HJLgdtjs9CHT06rloZtWOU39C7yxXanV0OugrS0tw2HR8nR7wAcADk210HoEqEHzevahqitj1+tsYXPUfiyDi+eZdBfKTONnYAJ0a8qe82gM8T0F0vCl36rnBXaBVYGUNXxbBRNWAnGl3BUQwIDzwe89QiMxJCDx0i/AClF4fs5h25k4lY4t1VEbS7Rf6qY+nP2/Ce0xD54xKe/eqmsOrvCrfmlcjirIwGLJ85/JWuNL2G2eWgEK6EGOLdVRE8nD1hJQX1/QCW3rwHbWsDC6eWcH5wEuq3e+7K/lnHvfcv43yXYcnOyu9i4a/t/uHs3YauUHnrW8VqqKvz/eGWzUtuBiXTzG2mx2fWSRmWSL65VrJKuhHjoYcCnxytr65FbY7Pr9OUJFNY3aRcIWBJPrVGU30Shb/IUXmkHJfBUZymz+uKy3V+jfM6rv9rLcdhqn5GDbhaZ9i2TZZzuAsKc7x0pnjdxEbIrFHkUoDmN9x9qbbi1RXC8CJZIzlk1EBhQW1DRMXjbMuwo6J4ze1xEmkV8bo5VxOpPbLR8dB5bsOuiuCZMUDNVJ6LJvkxn0wgcrFyjMci8gwhccWS9y0flPQSFpa3sHdgbNr/PonYRxrCb/U01Axr56+eztW07IGn6zwGhgYwMDSA/teNcqa/bqxqtVKc1U3pOBDq6hxXot1Xjy21RqVxuB1bk63V+Emj2Ht+6pGMPN6+CVKSRVtcp+V1TQ0W1okyy2sTONB1sv+uO9XydqZ4i1TzeWug+cJzSUajeHSCfH3eI5FIPeQbCVMsueMcM60laKRYQ2Q5IYDP23lug5nuEBKHUdALPeCWrRexh9Sje5gcPbo9G+ks+oeCmPxQhV7jifefzKG/dxqb3RNYfLRtiuq+iXjUj/0HA+i5qiJVsVopJD+eRHCoH2fNIw9vDmDg+i0sVRgZyS4Ha3+oUTyu4OIECu5bmcvVCbT54qmNdJwCNfTircnZemQoMS6RfHORtFSO8pZQqfncDm2uKuQ/56PYltvK7tDiICicrBQ5eJtig6DIVw550gkKSTKF72u0k7Pkyeco82zNGG25s2kbGfOo41nEneXNqIGOtLRWxBKvE2W9+Bqxizhpw/oHIP/9KlEmD2lcvBk1UH0koULby8V7suhst+G46PZhbFxD7O4S9O/3sH9Qunt/L4Wtz+ewsOKDv9fNMgAA4MVYVMHm9cu49UBHas+0dsbBPrLPk1gYvQxFiiM8aL+ii3RhDKHHMSjW441KIfs8ibk7Mch3/Oh139qTQ7uvnqbg0m2obJ1ztJNcpMg1H8nnzMd4SR4MUPhunLR67qSNdthy25S4G6bAoExeU1ukN3zkuxahxQrj3G4fUrR6nLhVcMQcRljYbWCEhcXLCAuLlxEWFi8jLCxeRlhYvIywsHgZYWHxMsLC4mWEhcXLCAuLlxEWFi8jLHWK9ykvjse0Hba8jLCweBlhcRDvj8Do6aO1hz2ngWpB52Yt+c0LbxdZvlqaZ/ZplUKfuszHvIzYiPcp4PlnAH8BKGckfRqQKwh49jRwe/oof3HhbbPoZk8DIQDpYp6vgNtDVYT5tpF35u26G8icYMrmVqjjRBgnsk5GjJ4iwnzhwzdEOEWk/kBEPxCNnCKKfuM8XyO9YspvQp83tjcSdIN5abFY3h+Bz78ERt4Bui0qH5wG8HegLP7ta8Dvhg0r6rlqsx/A4y8ADAMXXivd3vdvxt8Uj1owtfOK7daVG4Dnhs2OYftSrnwKXPgMOHMDOHP6KG/6U9NF8KVpH8M0jr14o1/V7md2/x6g3xc+PAU8Q8CZq4aAAQDTAEXqrijDWLG4DUUX4G/lOZevAp4Fl8W+bXTy8KXhRlx4B4BS3uHb/czdSAbD2FHuBhc6YyMrR5vKOlw2HTZzfiJLB6/42dwRdDiOYVziEHSkICyYUsmIwDcWMdvkNwu3iDpemqfSCIX5PFXzMS8jHHSEERZ+PMwIC4uXERYWLyMsLF5GWFi8jLCweBlhYfEywsLiZYSFxcsIC4uXERYWLyMsLF5GWE6OeJ/MVVzaVZ/1VFytPLsctDk+C3X06LhqZdSOUf5cI+8zV2h3djlYuuq8Q+qYVdxr5OSIFwAOgHy76wAYgnIUyxyqrwZsiNr2+FrXEh6JI1Nc87gsZRAfqbONHcCJEW/quw3g8wR0uwmgtuiYMy9EHVoFVsbQZdrWkEW0E42uAJhG/+E5ujC2YnewhNDDcrFl1ICx23xxFBa4fhkRS7y7KoJ2t8hfdSz9eRvecxoif1zCs1/dFCZjytEiGWmqr/lNABRojVq+vinLBdFcsstBIVwJMcS7qyLo8cBzZgyrZTtTUN8PYOnNe9C2NrBwagnnByehfrvnruyfddx7/zLOdxmW7Kz8Lhb+2u4fzt5t6AqVt75VrIa6Ot8fPr5JG3WQjlPAtEZuQLWskJtZJ2VYIvnmGpnXYs/oixS51EOBT7YPt2lRm+Pz6zQlyRRWNyn3orAptUZTfRKFv8gRUYbiI6Xr9JaVYYeu2K/n67BGslIWdMU4b/l2h3Ic1g52u/awbZss53DV7mOmM8VbIlqHxa4zaxS5FKD5CgtHm7EVr64QhhdLhE9U+NGjGhVFVDzOtgw7KorX3B4nkVYRr5tzNREt2pki7jy3YVdF8MwYoGYKft0UZLt8kh/zyQQiFyVXxcozhMQVS963fFDSS1hY3sLegbFp//skYh9pCL/V01AzrJ2/ejpX07IHnq7zGBgawMDQAPpfN8qZ/rqxqtWKPFPwr9NxINTVOa5Eu68eW9xYXjMOt2NrsrUaP2kUe89PPZKRx9s3QUqyaIvrtLyuqcHCOlFmeTVSXHwX9sn+u+5Uy9uZ4i1SzeetgeYLzyUZjeLRCfL1eY9EIvWQbyRMseQO5Y61MhopCFDcGkTRDgF83s5zG8x0h5Ao3K4CKPSAKzxFa4w9pB7dw+To0e3ZSGfRPxTE5Icq9BpPvP9kDv2909jsnsDio+2j4a30JuJRP/YfDKDnqopUxWqlkPx4EsGhfpw1jzy8OYCB67ewVGFkJLscrP2hRvG4gosTKLhvZS5XJ9Dmi6c20nEK1NCLtyZn65GhxLhE8s1F0lI5yr8o3ZvP7dDmqkL+cz6Kbbmt7A4tDoLCyXyFPNsUGwRFvnLIk05QSJIpfF+jnZwlTz5HmWdrxmjLnU2yK+Go41nEneXNqIGOtLRWxBKvE2W9+BpJxyng4kdd/wDkv28dm3CicfFm1ED1kYQKbS8X78mis92G46Lbh7FxDbG7S9C/38P+Qenu/b0Utj6fw8KKD/5er8tCvRiLKti8fhm3HuhI7e0f7TrYR/Z5Egujl6FIcYQHX7UtQbowhtDjGBTr8UalkH2exNydGOQ7fvS6b+3Jod1XT1Nw6TZUts452kkuUuSaj+Rz5mO8JA8GKHw3Tlo9d9JGO2y5bUrcDVNgUCavqS3SGz7yXYvQYoVxbrcPKVo9TtwqOFYZIyzsNjDCwuJlhIXFywgLi5cRFhYvIywsXkZYWLyMsLB4GWH5f7fakAA6xYPyAAAAAElFTkSuQmCC)"
      ],
      "metadata": {
        "id": "gZMaJ5TpZerQ"
      }
    },
    {
      "cell_type": "markdown",
      "source": [
        "## (예제) AI와 아침 대화"
      ],
      "metadata": {
        "id": "kMmVIMNrZeui"
      }
    },
    {
      "cell_type": "markdown",
      "source": [
        "\n",
        "\n",
        "*  아침에 일어나서 AI와 대화를 한다고 가정하자. \n",
        "*  AI가 \"오늘 아침 기분이 어때요?\" 라고 묻는다면, 나는 \"좋아\", \"그저그래\", \"나빠\" 등의 답을 한다.\n",
        "\n",
        "*   나의 대답에 따라서 AI의 응대는 달라 진다."
      ],
      "metadata": {
        "id": "nCsWrosqauo9"
      }
    },
    {
      "cell_type": "code",
      "execution_count": 4,
      "metadata": {
        "id": "c-mcrLyUZa1W",
        "colab": {
          "base_uri": "https://localhost:8080/"
        },
        "outputId": "1915d1c0-a1ae-4ef9-ffe6-d3bd1d1edc8b"
      },
      "outputs": [
        {
          "output_type": "stream",
          "name": "stdout",
          "text": [
            "오늘 아침 기분이 어때요?: 이잉\n",
            "그런 대답에 대응하는 응답이 만들어지지 않았습니다\n"
          ]
        }
      ],
      "source": [
        "answer = input(\"오늘 아침 기분이 어때요?: \")\n",
        "\n",
        "if (answer==\"좋아\"):\n",
        "  print(\"감사하십시오\")\n",
        "elif (answer == \"그저그래\"):\n",
        "  print(\"어쩔티비\")\n",
        "elif (answer == \"나빠\"):\n",
        "  print(\"저런!\")\n",
        "else:\n",
        "  print(\"그런 대답에 대응하는 응답이 만들어지지 않았습니다\")"
      ]
    },
    {
      "cell_type": "markdown",
      "source": [
        "### 중첩 if 문 : if 문 안에 if 문 사용"
      ],
      "metadata": {
        "id": "vNwCg-5rZeyS"
      }
    },
    {
      "cell_type": "markdown",
      "source": [],
      "metadata": {
        "id": "XLqRiSvRiREw"
      }
    },
    {
      "cell_type": "markdown",
      "source": [
        "#### BMI 예제"
      ],
      "metadata": {
        "id": "c3Md8QlCZe1U"
      }
    },
    {
      "cell_type": "markdown",
      "source": [
        "![image.png](data:image/png;base64,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)"
      ],
      "metadata": {
        "id": "9DFMQdI2dGRY"
      }
    },
    {
      "cell_type": "code",
      "source": [
        "bmi = float(input(\"BMI를 입력하세요: \"))\n",
        "\n",
        "if (bmi>= 25):\n",
        "  print(\"매우 나쁨\")\n",
        "elif (bmi>=23):\n",
        "  print(\"나쁨\")\n",
        "elif (bmi>18.5):\n",
        "  print(\"보통\")\n",
        "else:\n",
        "  print(\"좋음\")"
      ],
      "metadata": {
        "id": "S50C2rbgg3vN",
        "colab": {
          "base_uri": "https://localhost:8080/"
        },
        "outputId": "cd535935-b300-4eb3-d3c6-35a022c6ba59"
      },
      "execution_count": 10,
      "outputs": [
        {
          "output_type": "stream",
          "name": "stdout",
          "text": [
            "BMI를 입력하세요: 18.6\n",
            "보통\n"
          ]
        }
      ]
    },
    {
      "cell_type": "code",
      "source": [],
      "metadata": {
        "id": "vm-MiJZujdqn"
      },
      "execution_count": null,
      "outputs": []
    },
    {
      "cell_type": "code",
      "source": [
        "height = float(input(\"당신의 키는? (m) : \" ))\n",
        "weight = float(input(\"당신의 몸무게는? (kg): \"))\n",
        "my_bmi = weight/(height**2)\n",
        "\n",
        "if (my_bmi>= 25):\n",
        "  print(\"매우 나쁨\")\n",
        "elif (my_bmi>=23):\n",
        "  print(\"나쁨\")\n",
        "elif (my_bmi>18.5):\n",
        "  print(\"보통\")\n",
        "else:\n",
        "  print(\"좋음\")\n",
        "print(f\"당신의 bmi 지수는 {bmi} 입니다\")"
      ],
      "metadata": {
        "colab": {
          "base_uri": "https://localhost:8080/"
        },
        "id": "EPkG-dIojGU_",
        "outputId": "5c2dcbad-5710-403b-c782-d314d2d078fe"
      },
      "execution_count": 15,
      "outputs": [
        {
          "output_type": "stream",
          "name": "stdout",
          "text": [
            "당신의 키는? (m) : 170\n",
            "당신의 몸무게는? (kg): 50\n",
            "좋음\n",
            "당신의 bmi 지수는 18.6 입니다\n"
          ]
        }
      ]
    },
    {
      "cell_type": "markdown",
      "source": [
        "### pass 문: 조건이 맞지 않아도 그냥 지나감"
      ],
      "metadata": {
        "id": "kdwITIwOdGPF"
      }
    },
    {
      "cell_type": "code",
      "source": [
        "if (10>5):\n",
        "  print(10)\n",
        "else:\n",
        "  pass"
      ],
      "metadata": {
        "id": "OBq0Oj4Lg43E",
        "colab": {
          "base_uri": "https://localhost:8080/"
        },
        "outputId": "6a3430cb-72ae-487a-e359-dd93f40a4f5a"
      },
      "execution_count": 16,
      "outputs": [
        {
          "output_type": "stream",
          "name": "stdout",
          "text": [
            "10\n"
          ]
        }
      ]
    },
    {
      "cell_type": "markdown",
      "source": [
        "### if 문과 연산자"
      ],
      "metadata": {
        "id": "nBj9uVzagm5t"
      }
    },
    {
      "cell_type": "markdown",
      "source": [
        "\n",
        "\n",
        "\n",
        "\n",
        "*  비교 연산자  \n",
        "\n",
        "\n"
      ],
      "metadata": {
        "id": "oSTcap7tg2Fz"
      }
    },
    {
      "cell_type": "code",
      "source": [
        "if 1 != 2:\n",
        "  print('wrong')"
      ],
      "metadata": {
        "id": "SMTC8d8-hMlW",
        "colab": {
          "base_uri": "https://localhost:8080/"
        },
        "outputId": "b36bd379-dd5b-43ea-af41-fde0024a7edb"
      },
      "execution_count": 17,
      "outputs": [
        {
          "output_type": "stream",
          "name": "stdout",
          "text": [
            "wrong\n"
          ]
        }
      ]
    },
    {
      "cell_type": "markdown",
      "source": [
        "*  논리 연산자"
      ],
      "metadata": {
        "id": "d-teRF0lg2CZ"
      }
    },
    {
      "cell_type": "code",
      "source": [
        "rain = bool(int(input(\"rain(0/1): \")))\n",
        "sun = bool(int(input(\"sun(0/1):\")))\n",
        "\n",
        "rain and sun"
      ],
      "metadata": {
        "id": "QQ0slskThM36",
        "colab": {
          "base_uri": "https://localhost:8080/"
        },
        "outputId": "287f195e-f642-4115-b929-1f75756db6c7"
      },
      "execution_count": 26,
      "outputs": [
        {
          "name": "stdout",
          "output_type": "stream",
          "text": [
            "rain(0/1): 1\n",
            "sun(0/1):0\n"
          ]
        },
        {
          "output_type": "execute_result",
          "data": {
            "text/plain": [
              "False"
            ]
          },
          "metadata": {},
          "execution_count": 26
        }
      ]
    },
    {
      "cell_type": "markdown",
      "source": [
        "*  멤버 연산자"
      ],
      "metadata": {
        "id": "GnWfUB2eg1_e"
      }
    },
    {
      "cell_type": "code",
      "source": [
        "list=[\"one\", \"two\", \"Three\"]\n",
        "\n",
        "if 'one' in list:\n",
        "  print(\"Yes\")\n",
        "else:\n",
        "  print (\"no\")"
      ],
      "metadata": {
        "id": "a-OZK4GhhNFU",
        "colab": {
          "base_uri": "https://localhost:8080/"
        },
        "outputId": "c682ad86-e237-43d9-a03e-de046886a663"
      },
      "execution_count": 23,
      "outputs": [
        {
          "output_type": "stream",
          "name": "stdout",
          "text": [
            "Yes\n"
          ]
        }
      ]
    },
    {
      "cell_type": "markdown",
      "source": [
        "*  식별 연산자"
      ],
      "metadata": {
        "id": "_K6qCmqcg176"
      }
    },
    {
      "cell_type": "code",
      "source": [],
      "metadata": {
        "id": "zPA-Iot6hNUB"
      },
      "execution_count": null,
      "outputs": []
    },
    {
      "cell_type": "markdown",
      "source": [
        "## 한줄 if 문"
      ],
      "metadata": {
        "id": "F197wxE5dGOJ"
      }
    },
    {
      "cell_type": "markdown",
      "source": [
        "\n",
        "\n",
        "*   socre가 70을 초과하면 \"합격\", 그렇지 않으면 \"불합력\"을 출력\n",
        "\n"
      ],
      "metadata": {
        "id": "axyA3z4-kf80"
      }
    },
    {
      "cell_type": "code",
      "source": [
        "score = int(input())\n",
        "print(\"합격\" if score > 70 else \"불합격\")"
      ],
      "metadata": {
        "colab": {
          "base_uri": "https://localhost:8080/"
        },
        "id": "yk3Y_Qq6sRPB",
        "outputId": "320b4918-d69c-4a8f-df6e-c199c79cfdf0"
      },
      "execution_count": 27,
      "outputs": [
        {
          "output_type": "stream",
          "name": "stdout",
          "text": [
            "120\n",
            "합격\n"
          ]
        }
      ]
    },
    {
      "cell_type": "markdown",
      "source": [
        "\n",
        "\n",
        "*   일반적 코당\n",
        "\n"
      ],
      "metadata": {
        "id": "_UmO7pwekqN4"
      }
    },
    {
      "cell_type": "code",
      "source": [],
      "metadata": {
        "id": "GfEngUCwk37O"
      },
      "execution_count": null,
      "outputs": []
    },
    {
      "cell_type": "markdown",
      "source": [
        "\n",
        "\n",
        "*   한줄 코딩\n",
        "\n"
      ],
      "metadata": {
        "id": "_JxOsPMTkxAf"
      }
    },
    {
      "cell_type": "code",
      "source": [],
      "metadata": {
        "id": "Q4WAzSO1k4co"
      },
      "execution_count": null,
      "outputs": []
    }
  ]
}