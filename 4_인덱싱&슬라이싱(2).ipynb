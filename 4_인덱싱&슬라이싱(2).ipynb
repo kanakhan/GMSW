{
  "nbformat": 4,
  "nbformat_minor": 0,
  "metadata": {
    "colab": {
      "provenance": [],
      "collapsed_sections": [],
      "include_colab_link": true
    },
    "kernelspec": {
      "name": "python3",
      "display_name": "Python 3"
    },
    "language_info": {
      "name": "python"
    }
  },
  "cells": [
    {
      "cell_type": "markdown",
      "metadata": {
        "id": "view-in-github",
        "colab_type": "text"
      },
      "source": [
        "<a href=\"https://colab.research.google.com/github/kanakhan/GMSW/blob/main/4_%EC%9D%B8%EB%8D%B1%EC%8B%B1%26%EC%8A%AC%EB%9D%BC%EC%9D%B4%EC%8B%B1(2).ipynb\" target=\"_parent\"><img src=\"https://colab.research.google.com/assets/colab-badge.svg\" alt=\"Open In Colab\"/></a>"
      ]
    },
    {
      "cell_type": "markdown",
      "source": [
        "# 인덱싱 indexing과 슬라이싱 slicing"
      ],
      "metadata": {
        "id": "SWsfrQuyJT94"
      }
    },
    {
      "cell_type": "markdown",
      "source": [
        "## 1) 인덱싱(indexing)"
      ],
      "metadata": {
        "id": "ZV-aKAEwJWA9"
      }
    },
    {
      "cell_type": "markdown",
      "source": [
        "\n",
        "\n",
        "\n",
        "\n",
        "*   인덱싱(indexing)이란 연속적인 객체(리스트, 튜플, 문자열)에 번호(순서)를 부여하는 것\n",
        "\n",
        "*   파이썬 자료에서 첫번째 자리 인덱싱 값은 0이고,  가장 마지막 값을 -1로 인덱싱하기도 함.\n",
        "\n",
        "\n"
      ],
      "metadata": {
        "id": "iExYoFJMJWET"
      }
    },
    {
      "cell_type": "markdown",
      "source": [
        "![image.png](data:image/png;base64,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)"
      ],
      "metadata": {
        "id": "vL7i37qVJWHr"
      }
    },
    {
      "cell_type": "markdown",
      "source": [
        "### index 메소드 사용\n",
        "\n"
      ],
      "metadata": {
        "id": "h9VNzakjJWK-"
      }
    },
    {
      "cell_type": "code",
      "source": [
        "python = \"Python is not difficult\""
      ],
      "metadata": {
        "id": "BvQVYqjFJycC"
      },
      "execution_count": 1,
      "outputs": []
    },
    {
      "cell_type": "code",
      "source": [
        "python[0:10]"
      ],
      "metadata": {
        "colab": {
          "base_uri": "https://localhost:8080/",
          "height": 36
        },
        "id": "o20TWvJPiC7u",
        "outputId": "3c2af80d-ce9d-45c4-b214-c2b33439763d"
      },
      "execution_count": 34,
      "outputs": [
        {
          "output_type": "execute_result",
          "data": {
            "text/plain": [
              "'Python is '"
            ],
            "application/vnd.google.colaboratory.intrinsic+json": {
              "type": "string"
            }
          },
          "metadata": {},
          "execution_count": 34
        }
      ]
    },
    {
      "cell_type": "code",
      "source": [
        "indexing = python.index('n', indexing+1)\n",
        "print(\"두 번째 n의 위치는 %d\" %indexing)"
      ],
      "metadata": {
        "colab": {
          "base_uri": "https://localhost:8080/"
        },
        "id": "cBBV8I2aiNLk",
        "outputId": "f9f0356f-fc26-4232-95a0-0b2c531f3729"
      },
      "execution_count": 63,
      "outputs": [
        {
          "output_type": "stream",
          "name": "stdout",
          "text": [
            "두 번째 n의 위치는 10\n"
          ]
        }
      ]
    },
    {
      "cell_type": "markdown",
      "source": [
        "### find 메소드 사용"
      ],
      "metadata": {
        "id": "Gvjbu-r5JWOK"
      }
    },
    {
      "cell_type": "code",
      "source": [
        "#find 사용법\n",
        "print(python)\n",
        "# python index(\"python\")\n",
        "python.find(\"Java\")"
      ],
      "metadata": {
        "id": "Jm-LHKl3J4be",
        "colab": {
          "base_uri": "https://localhost:8080/"
        },
        "outputId": "b3c530f0-95da-48d2-a077-8b890fb7fc8a"
      },
      "execution_count": 44,
      "outputs": [
        {
          "output_type": "stream",
          "name": "stdout",
          "text": [
            "Python is not difficult\n"
          ]
        },
        {
          "output_type": "execute_result",
          "data": {
            "text/plain": [
              "-1"
            ]
          },
          "metadata": {},
          "execution_count": 44
        }
      ]
    },
    {
      "cell_type": "markdown",
      "source": [
        "### count 메소드 사용"
      ],
      "metadata": {
        "id": "N8aAF5keJWRx"
      }
    },
    {
      "cell_type": "code",
      "source": [
        "python.count(\"n\")"
      ],
      "metadata": {
        "id": "rCNDknArJ6fG",
        "colab": {
          "base_uri": "https://localhost:8080/"
        },
        "outputId": "47426c99-1c80-423d-c20f-d3e1b103b754"
      },
      "execution_count": 45,
      "outputs": [
        {
          "output_type": "execute_result",
          "data": {
            "text/plain": [
              "2"
            ]
          },
          "metadata": {},
          "execution_count": 45
        }
      ]
    },
    {
      "cell_type": "markdown",
      "source": [
        "## 2) 슬라이싱(indexing)"
      ],
      "metadata": {
        "id": "JRjE0LIKJWVr"
      }
    },
    {
      "cell_type": "markdown",
      "source": [
        "\n",
        "\n",
        "*   슬라이싱(slicing)은 객체들을 여러개 담고 있는 컨테이너(container) 자료(리스트, 튜플, 문자열) 에서 인덱싱(indexing)을 이용해 범위를 지정하고 해당 객체들을 가져오는 방법\n",
        "\n",
        "\n"
      ],
      "metadata": {
        "id": "JSHUyLwtJWa5"
      }
    },
    {
      "cell_type": "markdown",
      "source": [
        "data[start : end : step]\n",
        "\n",
        "start: 슬라이싱 시작 위치(시작 자리 포함: 이상의 의미)\n",
        "\n",
        "end: 슬라이싱 끝낼 위치(끝자리 포함 안함: 미만의 의미)\n",
        "\n",
        "step: 슬라이상 간격이며, 옵션으로 생락가능하고 생각하면  step=1을 의미"
      ],
      "metadata": {
        "id": "Uq7LXRJlJr7e"
      }
    },
    {
      "cell_type": "code",
      "source": [
        "id = \"20220923-1234567\"\n",
        "id[0:4]"
      ],
      "metadata": {
        "id": "NdG0guJ-KHVA",
        "colab": {
          "base_uri": "https://localhost:8080/",
          "height": 36
        },
        "outputId": "b07895e7-31f2-4cad-925f-b21ab92b0a0e"
      },
      "execution_count": 65,
      "outputs": [
        {
          "output_type": "execute_result",
          "data": {
            "text/plain": [
              "'20220923'"
            ],
            "application/vnd.google.colaboratory.intrinsic+json": {
              "type": "string"
            }
          },
          "metadata": {},
          "execution_count": 65
        }
      ]
    },
    {
      "cell_type": "code",
      "source": [
        "id[4:6]"
      ],
      "metadata": {
        "colab": {
          "base_uri": "https://localhost:8080/",
          "height": 36
        },
        "id": "cpIB1yDElWX1",
        "outputId": "49d9b85a-9d7a-4fc0-b41d-907b2b780f6f"
      },
      "execution_count": 66,
      "outputs": [
        {
          "output_type": "execute_result",
          "data": {
            "text/plain": [
              "'09'"
            ],
            "application/vnd.google.colaboratory.intrinsic+json": {
              "type": "string"
            }
          },
          "metadata": {},
          "execution_count": 66
        }
      ]
    },
    {
      "cell_type": "code",
      "source": [
        "id[6:8]"
      ],
      "metadata": {
        "colab": {
          "base_uri": "https://localhost:8080/",
          "height": 36
        },
        "id": "obid7I6Qlb1c",
        "outputId": "f286fe82-d4cd-474c-d798-b12fc870a8f6"
      },
      "execution_count": 67,
      "outputs": [
        {
          "output_type": "execute_result",
          "data": {
            "text/plain": [
              "'23'"
            ],
            "application/vnd.google.colaboratory.intrinsic+json": {
              "type": "string"
            }
          },
          "metadata": {},
          "execution_count": 67
        }
      ]
    },
    {
      "cell_type": "code",
      "source": [
        "id[9]"
      ],
      "metadata": {
        "colab": {
          "base_uri": "https://localhost:8080/",
          "height": 36
        },
        "id": "LYWj2W9HlgLU",
        "outputId": "0d5b42be-a5fd-4ef9-9851-6d7b0f8b3f8f"
      },
      "execution_count": 69,
      "outputs": [
        {
          "output_type": "execute_result",
          "data": {
            "text/plain": [
              "'1'"
            ],
            "application/vnd.google.colaboratory.intrinsic+json": {
              "type": "string"
            }
          },
          "metadata": {},
          "execution_count": 69
        }
      ]
    },
    {
      "cell_type": "code",
      "source": [
        "id[9:16]"
      ],
      "metadata": {
        "colab": {
          "base_uri": "https://localhost:8080/",
          "height": 36
        },
        "id": "mCVyFzEflqz1",
        "outputId": "4a57420b-48b0-4872-9aa6-b09f3d723f40"
      },
      "execution_count": 70,
      "outputs": [
        {
          "output_type": "execute_result",
          "data": {
            "text/plain": [
              "'1234567'"
            ],
            "application/vnd.google.colaboratory.intrinsic+json": {
              "type": "string"
            }
          },
          "metadata": {},
          "execution_count": 70
        }
      ]
    },
    {
      "cell_type": "code",
      "source": [
        "id[0:8]"
      ],
      "metadata": {
        "colab": {
          "base_uri": "https://localhost:8080/",
          "height": 36
        },
        "id": "FsLEQXhhly-H",
        "outputId": "1c9a6559-67bd-436e-8e9a-cc6f2cade83b"
      },
      "execution_count": 72,
      "outputs": [
        {
          "output_type": "execute_result",
          "data": {
            "text/plain": [
              "'20220923'"
            ],
            "application/vnd.google.colaboratory.intrinsic+json": {
              "type": "string"
            }
          },
          "metadata": {},
          "execution_count": 72
        }
      ]
    }
  ]
}