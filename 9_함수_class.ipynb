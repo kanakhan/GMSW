{
  "nbformat": 4,
  "nbformat_minor": 0,
  "metadata": {
    "colab": {
      "provenance": [],
      "collapsed_sections": [
        "Na3m6w30-4tV"
      ],
      "include_colab_link": true
    },
    "kernelspec": {
      "name": "python3",
      "display_name": "Python 3"
    },
    "language_info": {
      "name": "python"
    }
  },
  "cells": [
    {
      "cell_type": "markdown",
      "metadata": {
        "id": "view-in-github",
        "colab_type": "text"
      },
      "source": [
        "<a href=\"https://colab.research.google.com/github/kanakhan/GMSW/blob/main/9_%ED%95%A8%EC%88%98_class.ipynb\" target=\"_parent\"><img src=\"https://colab.research.google.com/assets/colab-badge.svg\" alt=\"Open In Colab\"/></a>"
      ]
    },
    {
      "cell_type": "markdown",
      "source": [
        "# 함수(function)"
      ],
      "metadata": {
        "id": "__NfTtzh1Wdd"
      }
    },
    {
      "cell_type": "markdown",
      "source": [
        "\n",
        "\n",
        "*   함수(function)란 특정 목적의 작업을 수행하기 위해 독립적으로 설계된 프로그램 코드의 집합\n",
        "*   수학적으로는 x와 y 사이에서 x의 값이 정해지면 거기에 따라 y의 값이 정해지는 관계를 가질 때 y는 x의 함수라고 부른다\n",
        "\n"
      ],
      "metadata": {
        "id": "m9drnoOX1W6j"
      }
    },
    {
      "cell_type": "markdown",
      "source": [
        "![image.png](data:image/png;base64,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)"
      ],
      "metadata": {
        "id": "fa6qWwxu1W-T"
      }
    },
    {
      "cell_type": "markdown",
      "source": [
        "![image.png](data:image/png;base64,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)"
      ],
      "metadata": {
        "id": "N2o7l6Iq1XBy"
      }
    },
    {
      "cell_type": "markdown",
      "source": [
        "### (예제) 파이썬 강좌 오픈 함수"
      ],
      "metadata": {
        "id": "_2iGpYII1XE7"
      }
    },
    {
      "cell_type": "markdown",
      "source": [
        "* 매개변수와 반환값이 없는 함수"
      ],
      "metadata": {
        "id": "znGxme5C1XIB"
      }
    },
    {
      "cell_type": "markdown",
      "source": [
        "* 매개변수만 있는 함수"
      ],
      "metadata": {
        "id": "P6xUT4pi1XLD"
      }
    },
    {
      "cell_type": "markdown",
      "source": [
        "* 반환값만 있는 함수"
      ],
      "metadata": {
        "id": "Po9yRcs41XOq"
      }
    },
    {
      "cell_type": "markdown",
      "source": [
        "* 매개변수와 반환값이 있는 함수"
      ],
      "metadata": {
        "id": "ACBwymbo1XSK"
      }
    },
    {
      "cell_type": "markdown",
      "source": [
        "### (예제) 파이썬 강좌 오픈 수강생과 수강료 함수(학생들을 등록시키고 학생수에 따른 최종수강료를 계산)"
      ],
      "metadata": {
        "id": "1TCZjfC31XVc"
      }
    },
    {
      "cell_type": "markdown",
      "source": [
        "* 수강생이 개강가 동시에 등록(개강 수강생수와 수강료를 매개 변수로 한 함수)\n",
        "* 중간에 수강취소(취소 수강생수와 환불금(50%)을 매개변수로 한 함수)\n",
        "* 최종 추가 등록(추가 수강생과 할인수강료(30%)를 매개로 한 함수) 과정을 거쳐 최종 수익금이 계산"
      ],
      "metadata": {
        "id": "1xB38p0A1XYi"
      }
    },
    {
      "cell_type": "markdown",
      "source": [
        "##### 1. 개강 등록함수(매개변수: 개강학생수, 수강료)"
      ],
      "metadata": {
        "id": "JViuKoso1Xbq"
      }
    },
    {
      "cell_type": "markdown",
      "source": [
        "###### 2. 중간 취소함수(매개변수: 취소학생수, 수강료)"
      ],
      "metadata": {
        "id": "TuWIhlDJ1Xeq"
      }
    },
    {
      "cell_type": "markdown",
      "source": [
        "###### 3. 추가등록 함수(매개변수: 추가등록학생수, 수강료)"
      ],
      "metadata": {
        "id": "2E30hNc11Xh5"
      }
    },
    {
      "cell_type": "markdown",
      "source": [
        "###### 4. 수강 함수 이용"
      ],
      "metadata": {
        "id": "d4_faDV81Xkq"
      }
    },
    {
      "cell_type": "markdown",
      "source": [
        "* 기본 수강료는 100,000원, 최초 등록 10명, 취소 3명, 추가 등록 2명이 했을 때 이번 강의의 총 수강생과 총 수강료 수입을 계산해보자."
      ],
      "metadata": {
        "id": "6-GXZAJy6hLi"
      }
    },
    {
      "cell_type": "markdown",
      "source": [
        "# 매개변수(입력값) 전달 방식"
      ],
      "metadata": {
        "id": "2lBpFqsZ7EpW"
      }
    },
    {
      "cell_type": "markdown",
      "source": [
        "\n",
        "\n",
        "##### 기본값(초기값 설정)\n",
        "\n"
      ],
      "metadata": {
        "id": "lKetjujX7EmZ"
      }
    },
    {
      "cell_type": "markdown",
      "source": [
        "\n",
        "\n",
        "*   전교생을 대상으로 이름, 나이, 전공을 기록하는 명단 작성\n",
        "*   이름, 나이, 전공 모두 유동적인 값을 갖지만 학교는 고정값\n",
        "\n"
      ],
      "metadata": {
        "id": "ZHI3yKNs7Ei-"
      }
    },
    {
      "cell_type": "markdown",
      "source": [
        "##### 키워드 값"
      ],
      "metadata": {
        "id": "c-ipr-kV7Efs"
      }
    },
    {
      "cell_type": "markdown",
      "source": [
        "* 매개변수에 입력값을 직접 넣으면(name=\"손흥민\" 등), 매개변수의 순서가 바뀌어도 함수에 정의된 매개변수 자리를 찾아서 입력됨."
      ],
      "metadata": {
        "id": "I29nSw2a7Ecf"
      }
    },
    {
      "cell_type": "markdown",
      "source": [
        "##### 가변인자(*)"
      ],
      "metadata": {
        "id": "tVE2P2sd7EZX"
      }
    },
    {
      "cell_type": "markdown",
      "source": [
        "\n",
        "\n",
        "*   함수를 정의할 때 매개변수가 몇 개인지 정해지지 않을 때 가변인자를 사용\n",
        "\n"
      ],
      "metadata": {
        "id": "H8c7rIJb7EVv"
      }
    },
    {
      "cell_type": "markdown",
      "source": [
        "* 가변인자를 쓰지 않을 경우 '손흥민'은 취미가 5개, '호날두'는 취미가 3개라면, 매개변수는 5개 필요"
      ],
      "metadata": {
        "id": "pEMS_GKz7ESE"
      }
    },
    {
      "cell_type": "markdown",
      "source": [
        "* 취미를 가변인자를 사용"
      ],
      "metadata": {
        "id": "aAfcOoRz7EO8"
      }
    },
    {
      "cell_type": "markdown",
      "source": [
        "# 지역변수와 전역 변수"
      ],
      "metadata": {
        "id": "4d-ODy8C7EL8"
      }
    },
    {
      "cell_type": "markdown",
      "source": [
        "* 지역변수: 함수 내에서만 유효한 변수\n",
        "* 전역변수: 함수 내는 물론이고 함수 밖 어디서든지 유효한 변수"
      ],
      "metadata": {
        "id": "_1cD6DC87EJE"
      }
    },
    {
      "cell_type": "markdown",
      "source": [
        "###### (예제) 전역변수로 인해 함수 값 오류(백발 백중 명사수)"
      ],
      "metadata": {
        "id": "2V_xcna87EFc"
      }
    },
    {
      "cell_type": "markdown",
      "source": [
        "###### 지역변수를 전역변수로 변환: global"
      ],
      "metadata": {
        "id": "rU7C-EF4-4qE"
      }
    },
    {
      "cell_type": "markdown",
      "source": [
        "######  전역변수를 함수내 매개변수로 사용"
      ],
      "metadata": {
        "id": "Jsp8f2pRARw5"
      }
    },
    {
      "cell_type": "markdown",
      "source": [
        "* 함수를 만들 때 함수 밖에서 정의된 변수를 매개변수로 사용"
      ],
      "metadata": {
        "id": "QU-XEG5EAjSB"
      }
    },
    {
      "cell_type": "code",
      "source": [],
      "metadata": {
        "colab": {
          "base_uri": "https://localhost:8080/"
        },
        "id": "rKDyiP2P_W98",
        "outputId": "10ca813f-c814-4053-8f01-1282ded690c7"
      },
      "execution_count": null,
      "outputs": [
        {
          "output_type": "stream",
          "name": "stdout",
          "text": [
            "[함수 내] 남은 새: 8\n",
            "None\n"
          ]
        }
      ]
    },
    {
      "cell_type": "markdown",
      "source": [
        "# 람다(lambda"
      ],
      "metadata": {
        "id": "1gMHvlTM-4m0"
      }
    },
    {
      "cell_type": "markdown",
      "source": [
        "* 한 줄로 함수를 작성\n",
        "* 람다는 행(raw)과 열(column)을 한꺼번에 처리할 수 있기 때문에 데이터 프레임 (dataframe)처럼 테이블 형태로 되어 있는 자료 처리에 매우 유용\n",
        "*  def 함수처럼 리턴 값을 바로 반환하지 않기 때문에 변수에 저장해서 함수를 실행\n"
      ],
      "metadata": {
        "id": "O_aXihN7BJam"
      }
    },
    {
      "cell_type": "markdown",
      "source": [
        "* lamda 매개변수 : 실행문\n",
        "\n"
      ],
      "metadata": {
        "id": "PoY91HNyBJWP"
      }
    },
    {
      "cell_type": "markdown",
      "source": [
        "![image.png](data:image/png;base64,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)"
      ],
      "metadata": {
        "id": "RPY1ihivBJJ5"
      }
    },
    {
      "cell_type": "markdown",
      "source": [
        "* 람다로 작성한 함수식 자체를 입력 값과 함께 바로 호출"
      ],
      "metadata": {
        "id": "O9KTkYYpCcos"
      }
    },
    {
      "cell_type": "markdown",
      "source": [
        "* 람다 함수식 안에 새로운 변수를 생성할 수 없기 때문에 함수 값을 저장해 불러와야 한다. "
      ],
      "metadata": {
        "id": "MOdREBay-4jc"
      }
    },
    {
      "cell_type": "markdown",
      "source": [
        "# 맵(map) 함수"
      ],
      "metadata": {
        "id": "5kn4Ts6QDtls"
      }
    },
    {
      "cell_type": "markdown",
      "source": [
        "* map 함수는 리스트나 튜블에 있는 객체를 순서대로 하나씩 함수에 넣어라는 구문\n",
        "* 매개변수: 함수명과 리스트(튜플)명\n",
        "* map 함수를 쓰면 반복문(for)을 이용해 하나하나 리스트 요소에 접근해서 계산을 하고 리스트에 하나씩 append 해주어야 하는 번거로움을 줄여줌.\n",
        "* map(함수, 리스트)"
      ],
      "metadata": {
        "id": "JtES_nd_Dxt5"
      }
    },
    {
      "cell_type": "markdown",
      "source": [
        "###### ﻿(예제) 리스트에 100씩을 더하는 함수"
      ],
      "metadata": {
        "id": "-gN7WZnLEOtA"
      }
    },
    {
      "cell_type": "markdown",
      "source": [
        "* for 문 활용"
      ],
      "metadata": {
        "id": "elZnISvTEZfN"
      }
    },
    {
      "cell_type": "markdown",
      "source": [
        "* map 함수 활용(map(lamda:) 함수"
      ],
      "metadata": {
        "id": "07F4LOgiEoT_"
      }
    },
    {
      "cell_type": "markdown",
      "source": [
        "* (예제) 두 개의 리스트를 더하는 함수: map(lamda: ) 함수"
      ],
      "metadata": {
        "id": "l-idCGxVF5e3"
      }
    },
    {
      "cell_type": "markdown",
      "source": [
        "# 필터(filter)"
      ],
      "metadata": {
        "id": "7zMXAWCwGuLS"
      }
    },
    {
      "cell_type": "markdown",
      "source": [
        "* 리스트나 튜플과 같은 데이터를 하나씩 가져와 특정조건에 해당하는 값으로만 필터링하는 함수"
      ],
      "metadata": {
        "id": "0Flmt4wrGyTs"
      }
    },
    {
      "cell_type": "markdown",
      "source": [
        "# 정렬(sorted)"
      ],
      "metadata": {
        "id": "L88ntOkOPe6u"
      }
    },
    {
      "cell_type": "markdown",
      "source": [
        "* sorted() 함수는 데이터를 정렬시켜 새로운 데이터를 만들 때 사용한다\n",
        "* list.sort() 메서드와 차이는 기존 데이터는 그대로 놔두고 새로운 리스트 형성\n",
        "* sorted(리스트, key 옵션. reverse 옵션), reverse= False(default) : 오름차순, True: 내림차순\n"
      ],
      "metadata": {
        "id": "O4mqpHD5Pe2e"
      }
    },
    {
      "cell_type": "markdown",
      "source": [
        "###### (예제)key와 value를 가진 딕셔너리 데이터 정렬"
      ],
      "metadata": {
        "id": "SREIpffYQlgR"
      }
    },
    {
      "cell_type": "markdown",
      "source": [
        "###### (예제)value를 가진 딕셔너리 데이터 정렬"
      ],
      "metadata": {
        "id": "wv_uWUYWU4KB"
      }
    }
  ]
}