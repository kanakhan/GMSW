{
  "nbformat": 4,
  "nbformat_minor": 0,
  "metadata": {
    "colab": {
      "provenance": [],
      "collapsed_sections": [],
      "toc_visible": true,
      "include_colab_link": true
    },
    "kernelspec": {
      "name": "python3",
      "display_name": "Python 3"
    },
    "language_info": {
      "name": "python"
    }
  },
  "cells": [
    {
      "cell_type": "markdown",
      "metadata": {
        "id": "view-in-github",
        "colab_type": "text"
      },
      "source": [
        "<a href=\"https://colab.research.google.com/github/kanakhan/GMSW/blob/main/8_%EB%B0%98%EB%B3%B5%EB%AC%B8(for%2C_while)_class.ipynb\" target=\"_parent\"><img src=\"https://colab.research.google.com/assets/colab-badge.svg\" alt=\"Open In Colab\"/></a>"
      ]
    },
    {
      "cell_type": "markdown",
      "source": [
        "## 반복문(for, while)"
      ],
      "metadata": {
        "id": "5Pg87xabc0sT"
      }
    },
    {
      "cell_type": "markdown",
      "source": [
        "\n",
        "\n",
        "*   for 나 while 을 이용해 같은 계산이나 명령을 계속 해서 반복\n",
        "*   반복문을 사용하면 프로그램을 짜는 시간을 절약할 수 있고 계산 속도도 매우 빨라짐\n",
        "\n",
        "\n"
      ],
      "metadata": {
        "id": "L5LL1o9ec0o9"
      }
    },
    {
      "cell_type": "markdown",
      "source": [
        "\n",
        "\n",
        "1.   for: 몇 번 실행해야 하는지 정해진 상황이거나, list 등과 같이 길이(length)가 정해져 있는 값을 이용할 때 사용\n",
        "2.   while : 몇 번 실행해야 할지 모르거나 사용자의 입력 또는 특정한 값이 나올 때까지 지속적으로 반복할 때, 또는 무한 루프를 만들기 위해서도 사용\n"
      ],
      "metadata": {
        "id": "CTM70LeXc0lM"
      }
    },
    {
      "cell_type": "markdown",
      "source": [
        "![image.png](data:image/png;base64,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)"
      ],
      "metadata": {
        "id": "mayHOjvPc0cU"
      }
    },
    {
      "cell_type": "markdown",
      "source": [
        "# for 문"
      ],
      "metadata": {
        "id": "AxGIAOwudvPa"
      }
    },
    {
      "cell_type": "markdown",
      "source": [
        "\n",
        "*   list 객체 수만큼 반복: for 카운트 변수 in 리스트\n",
        "\n",
        "\n",
        "\n",
        "\n",
        "\n"
      ],
      "metadata": {
        "id": "XUVGHTTFdu_K"
      }
    },
    {
      "cell_type": "code",
      "source": [],
      "metadata": {
        "id": "1bJfoX4FDX-z"
      },
      "execution_count": null,
      "outputs": []
    },
    {
      "cell_type": "code",
      "source": [],
      "metadata": {
        "id": "TnolSJGhDX2z"
      },
      "execution_count": null,
      "outputs": []
    },
    {
      "cell_type": "markdown",
      "source": [
        "\n",
        "\n",
        "*   (예제)'손흥민', '호날두', '메시', '살라' 순으로 가자 인터뷰\n",
        "\n",
        "\n"
      ],
      "metadata": {
        "id": "3nE7cs8YfAwo"
      }
    },
    {
      "cell_type": "markdown",
      "source": [
        "\n",
        "\n",
        "*   (예제)은행이나 식당에서 대기번호를 뽑는 것"
      ],
      "metadata": {
        "id": "ZKNSB2WUfTvW"
      }
    },
    {
      "cell_type": "markdown",
      "source": [
        "*  문자열을 역순으로 출력\n"
      ],
      "metadata": {
        "id": "Ha2gUR4PfdDq"
      }
    },
    {
      "cell_type": "markdown",
      "source": [
        "### 중복 for 문"
      ],
      "metadata": {
        "id": "p3MgShNdf03B"
      }
    },
    {
      "cell_type": "markdown",
      "source": [
        "*   for 문을 중복해서 서로 다른 두 수를 반복"
      ],
      "metadata": {
        "id": "O4ReYgb9f0zg"
      }
    },
    {
      "cell_type": "markdown",
      "source": [
        "*   (예제) 구구단 작성"
      ],
      "metadata": {
        "id": "6awCV2q2f0vo"
      }
    },
    {
      "cell_type": "markdown",
      "source": [
        "###  한 줄 for 문"
      ],
      "metadata": {
        "id": "DJo8vcv2f0sY"
      }
    },
    {
      "cell_type": "markdown",
      "source": [
        "\n",
        "\n",
        "*   자료가 리스트인 경우 리스트 자료 안에서 for 문을 사용해 한 줄로 반복문을 구현\n",
        "*   [실행문 for 변수 in 반복 대상]\n",
        "\n",
        "\n"
      ],
      "metadata": {
        "id": "MInkPbCvf0cY"
      }
    },
    {
      "cell_type": "markdown",
      "source": [
        "*   (예제) 5명의 학생 번호 1-5를 101-105로 바꾸고 A반이라는 반명을 붙여서 표현"
      ],
      "metadata": {
        "id": "SIaZuN5ygbns"
      }
    },
    {
      "cell_type": "markdown",
      "source": [
        "*  (예제) 문자열로 된 리스트를 한 줄 for 문을 가지고 글자 수 계산\n"
      ],
      "metadata": {
        "id": "vPKuZzSAg0SL"
      }
    },
    {
      "cell_type": "markdown",
      "source": [
        "*   (예제) 축구선수 이름을 대문자로 변환"
      ],
      "metadata": {
        "id": "_Fvpw3ZXg0Bb"
      }
    },
    {
      "cell_type": "markdown",
      "source": [
        "### 한 줄 for 문과 if 조건 문 연결"
      ],
      "metadata": {
        "id": "yN_wTcxhhRwX"
      }
    },
    {
      "cell_type": "markdown",
      "source": [
        "*   특정 조건에 맞는 경우에만 반복하고 싶은 경우 if 문과 for 문을 동시에 사용\n",
        "*   [실행문 for 변수 in 반복대상 if 조건]"
      ],
      "metadata": {
        "id": "FetejNMehRti"
      }
    },
    {
      "cell_type": "markdown",
      "source": [
        "* (예제) 짝수만 뽑아서 리스트 만들기(여러줄)"
      ],
      "metadata": {
        "id": "hKb-1JUthRqW"
      }
    },
    {
      "cell_type": "markdown",
      "source": [
        "* (예제) 짝수만 뽑아서 리스트 만들기(한줄)"
      ],
      "metadata": {
        "id": "xRsRIuOlhRnQ"
      }
    },
    {
      "cell_type": "markdown",
      "source": [
        "* (예제) 리코딩: 1과 2는 'bad'로 3은 '보통', 4와 5는 'good'(여러줄)\n"
      ],
      "metadata": {
        "id": "ui7zfHyhkdfo"
      }
    },
    {
      "cell_type": "markdown",
      "source": [
        "\n",
        "\n",
        "* (예제) 리코딩: 1과 2는 'bad'로 3은 '보통', 4와 5는 'good'(한줄)\n",
        "\n",
        "\n"
      ],
      "metadata": {
        "id": "bPtbG6rrx5Qh"
      }
    },
    {
      "cell_type": "markdown",
      "source": [],
      "metadata": {
        "id": "pPtOzCWphRkN"
      }
    },
    {
      "cell_type": "markdown",
      "source": [
        "# while 문"
      ],
      "metadata": {
        "id": "i7TxPugBhRg_"
      }
    },
    {
      "cell_type": "markdown",
      "source": [
        "* while 문은 어떤 조건이 만족하는 동안 명령 블록을 수행하고, 해당 조건이 거짓일 경우 반복을 멈추는 구문"
      ],
      "metadata": {
        "id": "23xZfYwQhRdf"
      }
    },
    {
      "cell_type": "markdown",
      "source": [
        "###### while 조건 else 구문\n",
        "\n"
      ],
      "metadata": {
        "id": "loHzDyAStP5e"
      }
    },
    {
      "cell_type": "markdown",
      "source": [
        "*  (예제) 1+10 까지 더하기"
      ],
      "metadata": {
        "id": "f621d9xjtZRp"
      }
    },
    {
      "cell_type": "markdown",
      "source": [
        "* for 문으로 1부터 10까지 더하기"
      ],
      "metadata": {
        "id": "sAczVVGCtsRl"
      }
    },
    {
      "cell_type": "markdown",
      "source": [
        "##### while 조건에 if 조건문 추가"
      ],
      "metadata": {
        "id": "8J3o-keTt-yy"
      }
    },
    {
      "cell_type": "markdown",
      "source": [
        "*  (예제) 은행에서 대기 번호를 5번 부른 후 그래도 해당 고객이 오지 않으면 다음 대기번호로 넘어감"
      ],
      "metadata": {
        "id": "SCQ0NuGquLUZ"
      }
    },
    {
      "cell_type": "markdown",
      "source": [
        "##### while True: 무한반복"
      ],
      "metadata": {
        "id": "dTDGjW2YvA93"
      }
    },
    {
      "cell_type": "markdown",
      "source": [
        "\n",
        "\n",
        "*   (예제) 손님이 올 때까 호출\n",
        "\n"
      ],
      "metadata": {
        "id": "GD36WN2PuLRI"
      }
    },
    {
      "cell_type": "markdown",
      "source": [
        "# Bleak와 continue"
      ],
      "metadata": {
        "id": "LKywzGM2uLNv"
      }
    },
    {
      "cell_type": "markdown",
      "source": [
        "* break: for 나 while 문을 사용하는 반복문에서 반복문 전체를 멈추고 빠져나올 때\n",
        "\n",
        "*   (ex) 1~10을 프린트하는 반복문에서 5까지 프린터 하고 break를 하면 6 이상은 프린터하지 않고 반복문을 탈출"
      ],
      "metadata": {
        "id": "LJbKY_5uuLKg"
      }
    },
    {
      "cell_type": "markdown",
      "source": [
        "* continue: 특정 조건에 대항되는 실행문만 건너뛰고 싶을 때 \n",
        "* (ex) 만약 6과 7에서 countiue를 하면 6과 7을 건너뛰고 8부터 다시 프린트\n"
      ],
      "metadata": {
        "id": "3px8dFn1xX8W"
      }
    },
    {
      "cell_type": "markdown",
      "source": [
        "\n",
        "*    (예제) \n",
        "*   한 반이 10명인 학생(1~10번)이 있는데 2명(3번과 7번)이 결석\n",
        "*   체육시간에 1번부터 나와서 공차기를 하는데 결석한 학생 3번과 7번은 스킵(continue)\n",
        "*   그런데 5번 학생이 공을 차려고 하는데 체육복을 안입고 온 것이 확인\n",
        "*   체육 선생님은 화가 나서 수업을 중단(break) 하고 5번 학생을 교무실로 데려감\n",
        "\n"
      ],
      "metadata": {
        "id": "acgo3Jtywokr"
      }
    },
    {
      "cell_type": "markdown",
      "source": [],
      "metadata": {
        "id": "LuKOlpLIuLHn"
      }
    },
    {
      "cell_type": "markdown",
      "source": [],
      "metadata": {
        "id": "cZi3SpPuuLER"
      }
    },
    {
      "cell_type": "markdown",
      "source": [],
      "metadata": {
        "id": "hrbqUiqWuLA_"
      }
    },
    {
      "cell_type": "markdown",
      "source": [],
      "metadata": {
        "id": "_KQXItyiuK9v"
      }
    }
  ]
}