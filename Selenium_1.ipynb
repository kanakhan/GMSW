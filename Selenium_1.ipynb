{
  "nbformat": 4,
  "nbformat_minor": 0,
  "metadata": {
    "colab": {
      "provenance": [],
      "include_colab_link": true
    },
    "kernelspec": {
      "name": "python3",
      "display_name": "Python 3"
    },
    "language_info": {
      "name": "python"
    }
  },
  "cells": [
    {
      "cell_type": "markdown",
      "metadata": {
        "id": "view-in-github",
        "colab_type": "text"
      },
      "source": [
        "<a href=\"https://colab.research.google.com/github/kanakhan/GMSW/blob/main/Selenium_1.ipynb\" target=\"_parent\"><img src=\"https://colab.research.google.com/assets/colab-badge.svg\" alt=\"Open In Colab\"/></a>"
      ]
    },
    {
      "cell_type": "markdown",
      "source": [
        "## 1. Selenium 소개"
      ],
      "metadata": {
        "id": "9zUknoQKBaRn"
      }
    },
    {
      "cell_type": "markdown",
      "source": [
        "* 셀레리움(Selenium)은 원래 웹 페이지를 테스트하기 위해 개발된 도구\n",
        "* 그러다 보니 웹을 자유자재로 사용 및 통제할 수 있기 때문에 이를 이용하면 웹 스크랩핑 또는 크롤링이 보다 쉬워짐.\n",
        "* BeautifulSoup은 자바스크립로 동적으로 생성된 정보를 가져오지 못하는 한계가 있음.\n",
        "* Selenium은 URL 주소로만 웹 페이지에 접근하는 것이 아니라 마우스나 키보드 작동을 조절해 웹 페이지에 접속할 수 있고 자바스크립트에 의해 동적으로 변하는 웹페지의 자료를 가져오는 것이 가능"
      ],
      "metadata": {
        "id": "Iwkm22jSBaU2"
      }
    },
    {
      "cell_type": "markdown",
      "source": [
        "## 2. Selenium 설치"
      ],
      "metadata": {
        "id": "3Csp_KtjDW43"
      }
    },
    {
      "cell_type": "markdown",
      "source": [
        "* 구글 Colab과 같이 클라우드 환경에서는 Selenium을 바로 사용할 수가 없음.\n",
        "* 로컬에서 사용하는 것처럼 웹브라우저를 직접 띄어서 사용 및 통제가 불가능.\n",
        "* 따라서 Selenium과 이를 이용해 브라우저를 조정하는 크롬드리아버(chromedriver)를 별도로 설치한 후 클라우드 환경에서 크롬드라이브가 사용가능하도록 옵션들을 직접 설정해 주어야 암."
      ],
      "metadata": {
        "id": "SAX9S4jhDWz2"
      }
    },
    {
      "cell_type": "markdown",
      "source": [
        "* Selenium을 설치하기 위해서는 우선 pip을 사용하여 파이썬 패키지 저장소인(PyPI: Python Package index)에서 Selenium Client 모듈을 설치(install selenium)\n",
        "* 다음으로 우분투(ubuntu) 저장소에서 운영체제에 사용 가능한 패키지들을 업데이트(apt-get update)한 후 최신 크롬드라이버를 설치한다(install chromium-chromedriver)"
      ],
      "metadata": {
        "id": "-nRl3FoWDWmX"
      }
    },
    {
      "cell_type": "code",
      "source": [
        "!pip install Selenium\n",
        "!apt-get update\n",
        "!apt install chromium-chromedriver"
      ],
      "metadata": {
        "id": "gOePqi8zDWO3",
        "colab": {
          "base_uri": "https://localhost:8080/"
        },
        "outputId": "bc875746-5fd3-4f97-9738-2ea9b6691982"
      },
      "execution_count": 1,
      "outputs": [
        {
          "output_type": "stream",
          "name": "stdout",
          "text": [
            "Looking in indexes: https://pypi.org/simple, https://us-python.pkg.dev/colab-wheels/public/simple/\n",
            "Collecting Selenium\n",
            "  Downloading selenium-4.6.0-py3-none-any.whl (5.2 MB)\n",
            "\u001b[K     |████████████████████████████████| 5.2 MB 5.2 MB/s \n",
            "\u001b[?25hCollecting urllib3[socks]~=1.26\n",
            "  Downloading urllib3-1.26.13-py2.py3-none-any.whl (140 kB)\n",
            "\u001b[K     |████████████████████████████████| 140 kB 20.4 MB/s \n",
            "\u001b[?25hCollecting trio-websocket~=0.9\n",
            "  Downloading trio_websocket-0.9.2-py3-none-any.whl (16 kB)\n",
            "Collecting trio~=0.17\n",
            "  Downloading trio-0.22.0-py3-none-any.whl (384 kB)\n",
            "\u001b[K     |████████████████████████████████| 384 kB 45.8 MB/s \n",
            "\u001b[?25hRequirement already satisfied: certifi>=2021.10.8 in /usr/local/lib/python3.7/dist-packages (from Selenium) (2022.9.24)\n",
            "Requirement already satisfied: idna in /usr/local/lib/python3.7/dist-packages (from trio~=0.17->Selenium) (2.10)\n",
            "Collecting sniffio\n",
            "  Downloading sniffio-1.3.0-py3-none-any.whl (10 kB)\n",
            "Collecting outcome\n",
            "  Downloading outcome-1.2.0-py2.py3-none-any.whl (9.7 kB)\n",
            "Requirement already satisfied: attrs>=19.2.0 in /usr/local/lib/python3.7/dist-packages (from trio~=0.17->Selenium) (22.1.0)\n",
            "Collecting exceptiongroup>=1.0.0rc9\n",
            "  Downloading exceptiongroup-1.0.4-py3-none-any.whl (14 kB)\n",
            "Requirement already satisfied: sortedcontainers in /usr/local/lib/python3.7/dist-packages (from trio~=0.17->Selenium) (2.4.0)\n",
            "Collecting async-generator>=1.9\n",
            "  Downloading async_generator-1.10-py3-none-any.whl (18 kB)\n",
            "Collecting wsproto>=0.14\n",
            "  Downloading wsproto-1.2.0-py3-none-any.whl (24 kB)\n",
            "Requirement already satisfied: PySocks!=1.5.7,<2.0,>=1.5.6 in /usr/local/lib/python3.7/dist-packages (from urllib3[socks]~=1.26->Selenium) (1.7.1)\n",
            "Collecting h11<1,>=0.9.0\n",
            "  Downloading h11-0.14.0-py3-none-any.whl (58 kB)\n",
            "\u001b[K     |████████████████████████████████| 58 kB 3.6 MB/s \n",
            "\u001b[?25hRequirement already satisfied: typing-extensions in /usr/local/lib/python3.7/dist-packages (from h11<1,>=0.9.0->wsproto>=0.14->trio-websocket~=0.9->Selenium) (4.1.1)\n",
            "Installing collected packages: sniffio, outcome, h11, exceptiongroup, async-generator, wsproto, urllib3, trio, trio-websocket, Selenium\n",
            "  Attempting uninstall: urllib3\n",
            "    Found existing installation: urllib3 1.24.3\n",
            "    Uninstalling urllib3-1.24.3:\n",
            "      Successfully uninstalled urllib3-1.24.3\n",
            "\u001b[31mERROR: pip's dependency resolver does not currently take into account all the packages that are installed. This behaviour is the source of the following dependency conflicts.\n",
            "requests 2.23.0 requires urllib3!=1.25.0,!=1.25.1,<1.26,>=1.21.1, but you have urllib3 1.26.13 which is incompatible.\u001b[0m\n",
            "Successfully installed Selenium-4.6.0 async-generator-1.10 exceptiongroup-1.0.4 h11-0.14.0 outcome-1.2.0 sniffio-1.3.0 trio-0.22.0 trio-websocket-0.9.2 urllib3-1.26.13 wsproto-1.2.0\n",
            "Get:1 https://cloud.r-project.org/bin/linux/ubuntu bionic-cran40/ InRelease [3,626 B]\n",
            "Ign:2 https://developer.download.nvidia.com/compute/machine-learning/repos/ubuntu1804/x86_64  InRelease\n",
            "Get:3 https://developer.download.nvidia.com/compute/cuda/repos/ubuntu1804/x86_64  InRelease [1,581 B]\n",
            "Hit:4 https://developer.download.nvidia.com/compute/machine-learning/repos/ubuntu1804/x86_64  Release\n",
            "Hit:5 http://archive.ubuntu.com/ubuntu bionic InRelease\n",
            "Get:6 http://security.ubuntu.com/ubuntu bionic-security InRelease [88.7 kB]\n",
            "Hit:7 http://ppa.launchpad.net/c2d4u.team/c2d4u4.0+/ubuntu bionic InRelease\n",
            "Get:8 http://archive.ubuntu.com/ubuntu bionic-updates InRelease [88.7 kB]\n",
            "Get:9 http://archive.ubuntu.com/ubuntu bionic-backports InRelease [83.3 kB]\n",
            "Hit:10 http://ppa.launchpad.net/cran/libgit2/ubuntu bionic InRelease\n",
            "Hit:11 http://ppa.launchpad.net/deadsnakes/ppa/ubuntu bionic InRelease\n",
            "Get:12 https://developer.download.nvidia.com/compute/cuda/repos/ubuntu1804/x86_64  Packages [1,038 kB]\n",
            "Hit:13 http://ppa.launchpad.net/graphics-drivers/ppa/ubuntu bionic InRelease\n",
            "Get:15 http://security.ubuntu.com/ubuntu bionic-security/main amd64 Packages [3,068 kB]\n",
            "Get:16 http://security.ubuntu.com/ubuntu bionic-security/universe amd64 Packages [1,563 kB]\n",
            "Get:17 http://archive.ubuntu.com/ubuntu bionic-updates/restricted amd64 Packages [1,303 kB]\n",
            "Get:18 http://archive.ubuntu.com/ubuntu bionic-updates/universe amd64 Packages [2,338 kB]\n",
            "Get:19 http://archive.ubuntu.com/ubuntu bionic-updates/main amd64 Packages [3,496 kB]\n",
            "Fetched 13.1 MB in 5s (2,696 kB/s)\n",
            "Reading package lists... Done\n",
            "Reading package lists... Done\n",
            "Building dependency tree       \n",
            "Reading state information... Done\n",
            "The following package was automatically installed and is no longer required:\n",
            "  libnvidia-common-460\n",
            "Use 'apt autoremove' to remove it.\n",
            "The following additional packages will be installed:\n",
            "  chromium-browser chromium-browser-l10n chromium-codecs-ffmpeg-extra\n",
            "Suggested packages:\n",
            "  webaccounts-chromium-extension unity-chromium-extension\n",
            "The following NEW packages will be installed:\n",
            "  chromium-browser chromium-browser-l10n chromium-chromedriver\n",
            "  chromium-codecs-ffmpeg-extra\n",
            "0 upgraded, 4 newly installed, 0 to remove and 11 not upgraded.\n",
            "Need to get 95.1 MB of archives.\n",
            "After this operation, 319 MB of additional disk space will be used.\n",
            "Get:1 http://archive.ubuntu.com/ubuntu bionic-updates/universe amd64 chromium-codecs-ffmpeg-extra amd64 107.0.5304.87-0ubuntu11.18.04.1 [1,158 kB]\n",
            "Get:2 http://archive.ubuntu.com/ubuntu bionic-updates/universe amd64 chromium-browser amd64 107.0.5304.87-0ubuntu11.18.04.1 [83.1 MB]\n",
            "Get:3 http://archive.ubuntu.com/ubuntu bionic-updates/universe amd64 chromium-browser-l10n all 107.0.5304.87-0ubuntu11.18.04.1 [5,260 kB]\n",
            "Get:4 http://archive.ubuntu.com/ubuntu bionic-updates/universe amd64 chromium-chromedriver amd64 107.0.5304.87-0ubuntu11.18.04.1 [5,570 kB]\n",
            "Fetched 95.1 MB in 2s (46.6 MB/s)\n",
            "Selecting previously unselected package chromium-codecs-ffmpeg-extra.\n",
            "(Reading database ... 123991 files and directories currently installed.)\n",
            "Preparing to unpack .../chromium-codecs-ffmpeg-extra_107.0.5304.87-0ubuntu11.18.04.1_amd64.deb ...\n",
            "Unpacking chromium-codecs-ffmpeg-extra (107.0.5304.87-0ubuntu11.18.04.1) ...\n",
            "Selecting previously unselected package chromium-browser.\n",
            "Preparing to unpack .../chromium-browser_107.0.5304.87-0ubuntu11.18.04.1_amd64.deb ...\n",
            "Unpacking chromium-browser (107.0.5304.87-0ubuntu11.18.04.1) ...\n",
            "Selecting previously unselected package chromium-browser-l10n.\n",
            "Preparing to unpack .../chromium-browser-l10n_107.0.5304.87-0ubuntu11.18.04.1_all.deb ...\n",
            "Unpacking chromium-browser-l10n (107.0.5304.87-0ubuntu11.18.04.1) ...\n",
            "Selecting previously unselected package chromium-chromedriver.\n",
            "Preparing to unpack .../chromium-chromedriver_107.0.5304.87-0ubuntu11.18.04.1_amd64.deb ...\n",
            "Unpacking chromium-chromedriver (107.0.5304.87-0ubuntu11.18.04.1) ...\n",
            "Setting up chromium-codecs-ffmpeg-extra (107.0.5304.87-0ubuntu11.18.04.1) ...\n",
            "Setting up chromium-browser (107.0.5304.87-0ubuntu11.18.04.1) ...\n",
            "update-alternatives: using /usr/bin/chromium-browser to provide /usr/bin/x-www-browser (x-www-browser) in auto mode\n",
            "update-alternatives: using /usr/bin/chromium-browser to provide /usr/bin/gnome-www-browser (gnome-www-browser) in auto mode\n",
            "Setting up chromium-chromedriver (107.0.5304.87-0ubuntu11.18.04.1) ...\n",
            "Setting up chromium-browser-l10n (107.0.5304.87-0ubuntu11.18.04.1) ...\n",
            "Processing triggers for man-db (2.8.3-2ubuntu0.1) ...\n",
            "Processing triggers for hicolor-icon-theme (0.17-2) ...\n",
            "Processing triggers for mime-support (3.60ubuntu1) ...\n",
            "Processing triggers for libc-bin (2.27-3ubuntu1.6) ...\n"
          ]
        }
      ]
    },
    {
      "cell_type": "markdown",
      "source": [
        "#### 크롬드라이버(chromedriver) 옵션 지정"
      ],
      "metadata": {
        "id": "vxsRamihEZ3b"
      }
    },
    {
      "cell_type": "markdown",
      "source": [
        "* 코랩(colab) 환경에서는 웹 브라우저를 직접 띄울 수 없기 때문에 웹브라우저 띄우지 않고 실행(headless), 별도의 웹페이지 작동 해제(no sandbox), 크롬과 충돌 방지(disable-setuid-sandbox), 공유안함(disable-dev-shm-usag)을 옵션으로 설정"
      ],
      "metadata": {
        "id": "_UHX6fpAENCl"
      }
    },
    {
      "cell_type": "code",
      "source": [
        "from selenium import webdriver\n",
        "\n",
        "chrome_options = webdriver.ChromeOptions()             # 웹 드라이버 옵션 지정\n",
        "chrome_options.add_argument('--headless')              # 웹 브라우저 띄우지 않음\n",
        "chrome_options.add_argument('--no-sandbox')            # 별도 웹페이지 작동 해제\n",
        "chrome_options.add_argument('--disable-dev-shm-usage') # 공유 안함"
      ],
      "metadata": {
        "id": "I9JTiuwFEhz2"
      },
      "execution_count": 2,
      "outputs": []
    },
    {
      "cell_type": "markdown",
      "source": [
        "* 크롬 브라우저 실행"
      ],
      "metadata": {
        "id": "4dpRZPeVEM19"
      }
    },
    {
      "cell_type": "code",
      "source": [
        "wd = webdriver.Chrome('chromedriver', options = chrome_options)"
      ],
      "metadata": {
        "id": "tKSX7cQFFU1I"
      },
      "execution_count": 3,
      "outputs": []
    },
    {
      "cell_type": "code",
      "source": [
        "url = '......'\n",
        "\n",
        "wd.get(url)"
      ],
      "metadata": {
        "id": "UbgDHHS_wvF_"
      },
      "execution_count": null,
      "outputs": []
    },
    {
      "cell_type": "markdown",
      "source": [
        "* Find_elements(by.속성, \"속성값)"
      ],
      "metadata": {
        "id": "YS32-ziSF24X"
      }
    },
    {
      "cell_type": "markdown",
      "source": [
        "![image.png](data:image/png;base64,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)"
      ],
      "metadata": {
        "id": "vcPsG2NsF_tu"
      }
    },
    {
      "cell_type": "markdown",
      "source": [
        "* 웹 드라이브를 사용한 find_elements(By.속성, '속성값') 예제\n"
      ],
      "metadata": {
        "id": "u_rIHusaGQyX"
      }
    },
    {
      "cell_type": "code",
      "source": [
        "from selenium.webdriver.common.by import By\n",
        "\n",
        "wd.find_elements(By.TAG_NAME, \"label\")\n",
        "wd.find_elements(By.CSS_SELECTOR, \"#wrapper > section > div > div > div > div > div > label\")\n",
        "wd.find_elements(By.XPATH, '//*[@id=\"wrapper\"]/section/div/div/div/div/div/label')\n",
        "wd.find_elements(By.CLASS_NAME, 'toggle')"
      ],
      "metadata": {
        "id": "6MQfPlAOGMzw"
      },
      "execution_count": null,
      "outputs": []
    },
    {
      "cell_type": "markdown",
      "source": [
        "## Selenium 사용한 실제 웹 크롤링"
      ],
      "metadata": {
        "id": "Bw5VbU9JIEom"
      }
    },
    {
      "cell_type": "markdown",
      "source": [
        "﻿wd = webdriver.Chrome('chromedriver', options=chrome_options)\n",
        "\n",
        "\n",
        "url= 'https://entertain.naver.com/home'"
      ],
      "metadata": {
        "id": "UWfAoVzgIHwo"
      }
    },
    {
      "cell_type": "code",
      "source": [
        "wd = webdriver.Chrome('chromedriver', options=chrome_options)\n",
        "url= 'https://entertain.naver.com/home'\n",
        "wd.get(url)\n"
      ],
      "metadata": {
        "id": "cPV2yyIgF2iu"
      },
      "execution_count": 6,
      "outputs": []
    },
    {
      "cell_type": "code",
      "source": [
        "from selenium.webdriver.common.by import By     \n",
        "\n",
        "for ul in wd.find_elements(By.CSS_SELECTOR, \"#ranking_news > div > div.rank_lst > ul\"):\n",
        "  print(ul.text)"
      ],
      "metadata": {
        "colab": {
          "base_uri": "https://localhost:8080/"
        },
        "id": "9Yk-1VwFzHq2",
        "outputId": "e2abfa78-4ba3-40e2-a9fb-e93b4c91ea5b"
      },
      "execution_count": 7,
      "outputs": [
        {
          "output_type": "stream",
          "name": "stdout",
          "text": [
            "1\n",
            "후크 \"이승기 정산 내용 사실과 달라..이선희 경영 관여 NO\" [종합]\n",
            "2\n",
            "\"오영수, 여성에 부적절 신체접촉\"…강제추행 혐의 재판\n",
            "3\n",
            "김연아, '고우림♥' 출연 '마마 어워즈' 시상자…부부의 시상식 동행\n",
            "4\n",
            "윤은혜, 메이크업 하나 안 하고 털털..염색中 팩 관리까지(은혜로그 in)\n",
            "5\n",
            "[종합] 별♥하하, 10주년 리마인드 웨딩…하하, 미래 사위에 경고 \"내 모든 걸 이용해서\"('별빛튜브')\n",
            "6\n",
            "'SM 이사' 보아 \"암흑기 시절 방시혁에 택시비 받기도..내가 건물 많이 세워\"('원더케이')\n",
            "7\n",
            "한가인, 아들에 극대노한 사연 \"엄마 코로 먹고 사는 사람인데!\" ('미우새')\n",
            "8\n",
            "살 쏙 빠진 박나래, 다리 불편해도 우대갈비·풀드포크 준비 (나혼산)\n",
            "9\n",
            "직장 생활 안 해본 유재석, 연차 사유로 논란 (유퀴즈)\n",
            "10\n",
            "박명수 “이승기가 착한 것, 기획사 변해야” 소신 발언\n"
          ]
        }
      ]
    },
    {
      "cell_type": "code",
      "source": [
        "for ul in wd.find_elements(By.XPATH, '//*[@id=\"ranking_news\"]/div/div[2]/ul'):\n",
        "  print(ul.text)"
      ],
      "metadata": {
        "colab": {
          "base_uri": "https://localhost:8080/"
        },
        "id": "ksAMwouXz6jl",
        "outputId": "753f7dcc-10e6-4cfd-a9d6-2a4c4a5c8947"
      },
      "execution_count": 8,
      "outputs": [
        {
          "output_type": "stream",
          "name": "stdout",
          "text": [
            "1\n",
            "후크 \"이승기 정산 내용 사실과 달라..이선희 경영 관여 NO\" [종합]\n",
            "2\n",
            "\"오영수, 여성에 부적절 신체접촉\"…강제추행 혐의 재판\n",
            "3\n",
            "김연아, '고우림♥' 출연 '마마 어워즈' 시상자…부부의 시상식 동행\n",
            "4\n",
            "윤은혜, 메이크업 하나 안 하고 털털..염색中 팩 관리까지(은혜로그 in)\n",
            "5\n",
            "[종합] 별♥하하, 10주년 리마인드 웨딩…하하, 미래 사위에 경고 \"내 모든 걸 이용해서\"('별빛튜브')\n",
            "6\n",
            "'SM 이사' 보아 \"암흑기 시절 방시혁에 택시비 받기도..내가 건물 많이 세워\"('원더케이')\n",
            "7\n",
            "한가인, 아들에 극대노한 사연 \"엄마 코로 먹고 사는 사람인데!\" ('미우새')\n",
            "8\n",
            "살 쏙 빠진 박나래, 다리 불편해도 우대갈비·풀드포크 준비 (나혼산)\n",
            "9\n",
            "직장 생활 안 해본 유재석, 연차 사유로 논란 (유퀴즈)\n",
            "10\n",
            "박명수 “이승기가 착한 것, 기획사 변해야” 소신 발언\n"
          ]
        }
      ]
    },
    {
      "cell_type": "code",
      "source": [],
      "metadata": {
        "id": "gJRXbLaHz6fN"
      },
      "execution_count": null,
      "outputs": []
    }
  ]
}