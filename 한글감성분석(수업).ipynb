{
  "nbformat": 4,
  "nbformat_minor": 0,
  "metadata": {
    "colab": {
      "provenance": [],
      "include_colab_link": true
    },
    "kernelspec": {
      "name": "python3",
      "display_name": "Python 3"
    },
    "language_info": {
      "name": "python"
    }
  },
  "cells": [
    {
      "cell_type": "markdown",
      "metadata": {
        "id": "view-in-github",
        "colab_type": "text"
      },
      "source": [
        "<a href=\"https://colab.research.google.com/github/kanakhan/GMSW/blob/main/%ED%95%9C%EA%B8%80%EA%B0%90%EC%84%B1%EB%B6%84%EC%84%9D(%EC%88%98%EC%97%85).ipynb\" target=\"_parent\"><img src=\"https://colab.research.google.com/assets/colab-badge.svg\" alt=\"Open In Colab\"/></a>"
      ]
    },
    {
      "cell_type": "markdown",
      "source": [
        "## 한국어 감성분석"
      ],
      "metadata": {
        "id": "yRtgKgNFMSXB"
      }
    },
    {
      "cell_type": "markdown",
      "source": [
        "#### 1. 분석할 텍스트 수집하기"
      ],
      "metadata": {
        "id": "cq0CrKdoMXXi"
      }
    },
    {
      "cell_type": "code",
      "source": [
        "from bs4 import BeautifulSoup\n",
        "import requests\n",
        "import pandas as pd"
      ],
      "metadata": {
        "id": "00hteYAcT2e-"
      },
      "execution_count": 5,
      "outputs": []
    },
    {
      "cell_type": "code",
      "source": [
        "def get_movie_reviews(mcode,  page_num=10):\n",
        "\n",
        "  # 크롤링할 변수를 가진 데이터프레임 생성\n",
        "  m_review_df = pd.DataFrame(columns=(\"Title\", \"Score\",\"Review\"))\n",
        "  idx = 0\n",
        "\n",
        "  # 태그를 활용한 데이터 크롤링 \n",
        "  for p in range(1, page_num+1):\n",
        "    url = \"https://movie.naver.com/movie/point/af/list.naver?st=mcode&sword=\" \\\n",
        "    + str(mcode) + \"&target=&page=\" + str(p)\n",
        "    print(url)\n",
        "    m_page = requests.get(url)\n",
        "    m_soup = BeautifulSoup(m_page.text, \"html.parser\")\n",
        "    reviews = m_soup.find_all('td', {'class': 'title'})\n",
        "    for review in reviews:\n",
        "      title = review.find('a', {'class' : 'movie color_b'}).get_text()\n",
        "      score = review.find('em').get_text()\n",
        "      review_text = review.find('a', {'class': 'report'}).get('onclick').split(',')[2]\n",
        "      m_review_df.loc[idx] = [title, score, review_text]\n",
        "      idx += 1\n",
        "      print(\"#\", end=\"\")\n",
        "    page_num += 1\n",
        "    \n",
        "   # 페이지가 없을 때 에러처리\n",
        "    try:\n",
        "      url = \"https://movie.naver.com/movie/point/af/list.naver?st=mcode&sword=\" \\\n",
        "      + str(mcode) + \"&target=&page\" + str(page_num)\n",
        "    except:\n",
        "      break\n",
        "  return m_review_df"
      ],
      "metadata": {
        "id": "m2s-VZU1T2bf"
      },
      "execution_count": 6,
      "outputs": []
    },
    {
      "cell_type": "code",
      "source": [
        "m_review_df = get_movie_reviews(195758, 5)\n"
      ],
      "metadata": {
        "id": "tTVclcz1T2YW",
        "colab": {
          "base_uri": "https://localhost:8080/"
        },
        "outputId": "a1a66ca0-d8f2-4171-bd85-d18df9493b1d"
      },
      "execution_count": 7,
      "outputs": [
        {
          "output_type": "stream",
          "name": "stdout",
          "text": [
            "https://movie.naver.com/movie/point/af/list.naver?st=mcode&sword=195758&target=&page=1\n",
            "##########https://movie.naver.com/movie/point/af/list.naver?st=mcode&sword=195758&target=&page=2\n",
            "##########https://movie.naver.com/movie/point/af/list.naver?st=mcode&sword=195758&target=&page=3\n",
            "##########https://movie.naver.com/movie/point/af/list.naver?st=mcode&sword=195758&target=&page=4\n",
            "##########https://movie.naver.com/movie/point/af/list.naver?st=mcode&sword=195758&target=&page=5\n",
            "##########"
          ]
        }
      ]
    },
    {
      "cell_type": "code",
      "source": [
        "m_review_df.head()"
      ],
      "metadata": {
        "id": "n67asKnQT2VN",
        "colab": {
          "base_uri": "https://localhost:8080/",
          "height": 206
        },
        "outputId": "d9d0df72-627a-4893-c49c-aebcabfc1087"
      },
      "execution_count": 8,
      "outputs": [
        {
          "output_type": "execute_result",
          "data": {
            "text/plain": [
              "  Title Score                                             Review\n",
              "0    헌트    10   '역사적사실을 근거로 스토리 좋은 잘 만든 수작이다 배우들의 연기도 좋았고 간전의...\n",
              "1    헌트     8                          '두 남자가 가고 싶었던 서로 다른 신세계.'\n",
              "2    헌트    10   '진짜 감독상 받을만하다. 연기 구멍이 없고 연출도 좋고 고증도 훌륭함. 단역들이...\n",
              "3    헌트     8   '흔한 폭력 영화가 아닌 개념있는 영화에서 정우성  이정재 두배우의 진정성 있는 ...\n",
              "4    헌트     1                                '연기랑 캐스팅은 호화인데... '"
            ],
            "text/html": [
              "\n",
              "  <div id=\"df-a515be04-10d5-4774-a83a-fda98ffcbbef\">\n",
              "    <div class=\"colab-df-container\">\n",
              "      <div>\n",
              "<style scoped>\n",
              "    .dataframe tbody tr th:only-of-type {\n",
              "        vertical-align: middle;\n",
              "    }\n",
              "\n",
              "    .dataframe tbody tr th {\n",
              "        vertical-align: top;\n",
              "    }\n",
              "\n",
              "    .dataframe thead th {\n",
              "        text-align: right;\n",
              "    }\n",
              "</style>\n",
              "<table border=\"1\" class=\"dataframe\">\n",
              "  <thead>\n",
              "    <tr style=\"text-align: right;\">\n",
              "      <th></th>\n",
              "      <th>Title</th>\n",
              "      <th>Score</th>\n",
              "      <th>Review</th>\n",
              "    </tr>\n",
              "  </thead>\n",
              "  <tbody>\n",
              "    <tr>\n",
              "      <th>0</th>\n",
              "      <td>헌트</td>\n",
              "      <td>10</td>\n",
              "      <td>'역사적사실을 근거로 스토리 좋은 잘 만든 수작이다 배우들의 연기도 좋았고 간전의...</td>\n",
              "    </tr>\n",
              "    <tr>\n",
              "      <th>1</th>\n",
              "      <td>헌트</td>\n",
              "      <td>8</td>\n",
              "      <td>'두 남자가 가고 싶었던 서로 다른 신세계.'</td>\n",
              "    </tr>\n",
              "    <tr>\n",
              "      <th>2</th>\n",
              "      <td>헌트</td>\n",
              "      <td>10</td>\n",
              "      <td>'진짜 감독상 받을만하다. 연기 구멍이 없고 연출도 좋고 고증도 훌륭함. 단역들이...</td>\n",
              "    </tr>\n",
              "    <tr>\n",
              "      <th>3</th>\n",
              "      <td>헌트</td>\n",
              "      <td>8</td>\n",
              "      <td>'흔한 폭력 영화가 아닌 개념있는 영화에서 정우성  이정재 두배우의 진정성 있는 ...</td>\n",
              "    </tr>\n",
              "    <tr>\n",
              "      <th>4</th>\n",
              "      <td>헌트</td>\n",
              "      <td>1</td>\n",
              "      <td>'연기랑 캐스팅은 호화인데... '</td>\n",
              "    </tr>\n",
              "  </tbody>\n",
              "</table>\n",
              "</div>\n",
              "      <button class=\"colab-df-convert\" onclick=\"convertToInteractive('df-a515be04-10d5-4774-a83a-fda98ffcbbef')\"\n",
              "              title=\"Convert this dataframe to an interactive table.\"\n",
              "              style=\"display:none;\">\n",
              "        \n",
              "  <svg xmlns=\"http://www.w3.org/2000/svg\" height=\"24px\"viewBox=\"0 0 24 24\"\n",
              "       width=\"24px\">\n",
              "    <path d=\"M0 0h24v24H0V0z\" fill=\"none\"/>\n",
              "    <path d=\"M18.56 5.44l.94 2.06.94-2.06 2.06-.94-2.06-.94-.94-2.06-.94 2.06-2.06.94zm-11 1L8.5 8.5l.94-2.06 2.06-.94-2.06-.94L8.5 2.5l-.94 2.06-2.06.94zm10 10l.94 2.06.94-2.06 2.06-.94-2.06-.94-.94-2.06-.94 2.06-2.06.94z\"/><path d=\"M17.41 7.96l-1.37-1.37c-.4-.4-.92-.59-1.43-.59-.52 0-1.04.2-1.43.59L10.3 9.45l-7.72 7.72c-.78.78-.78 2.05 0 2.83L4 21.41c.39.39.9.59 1.41.59.51 0 1.02-.2 1.41-.59l7.78-7.78 2.81-2.81c.8-.78.8-2.07 0-2.86zM5.41 20L4 18.59l7.72-7.72 1.47 1.35L5.41 20z\"/>\n",
              "  </svg>\n",
              "      </button>\n",
              "      \n",
              "  <style>\n",
              "    .colab-df-container {\n",
              "      display:flex;\n",
              "      flex-wrap:wrap;\n",
              "      gap: 12px;\n",
              "    }\n",
              "\n",
              "    .colab-df-convert {\n",
              "      background-color: #E8F0FE;\n",
              "      border: none;\n",
              "      border-radius: 50%;\n",
              "      cursor: pointer;\n",
              "      display: none;\n",
              "      fill: #1967D2;\n",
              "      height: 32px;\n",
              "      padding: 0 0 0 0;\n",
              "      width: 32px;\n",
              "    }\n",
              "\n",
              "    .colab-df-convert:hover {\n",
              "      background-color: #E2EBFA;\n",
              "      box-shadow: 0px 1px 2px rgba(60, 64, 67, 0.3), 0px 1px 3px 1px rgba(60, 64, 67, 0.15);\n",
              "      fill: #174EA6;\n",
              "    }\n",
              "\n",
              "    [theme=dark] .colab-df-convert {\n",
              "      background-color: #3B4455;\n",
              "      fill: #D2E3FC;\n",
              "    }\n",
              "\n",
              "    [theme=dark] .colab-df-convert:hover {\n",
              "      background-color: #434B5C;\n",
              "      box-shadow: 0px 1px 3px 1px rgba(0, 0, 0, 0.15);\n",
              "      filter: drop-shadow(0px 1px 2px rgba(0, 0, 0, 0.3));\n",
              "      fill: #FFFFFF;\n",
              "    }\n",
              "  </style>\n",
              "\n",
              "      <script>\n",
              "        const buttonEl =\n",
              "          document.querySelector('#df-a515be04-10d5-4774-a83a-fda98ffcbbef button.colab-df-convert');\n",
              "        buttonEl.style.display =\n",
              "          google.colab.kernel.accessAllowed ? 'block' : 'none';\n",
              "\n",
              "        async function convertToInteractive(key) {\n",
              "          const element = document.querySelector('#df-a515be04-10d5-4774-a83a-fda98ffcbbef');\n",
              "          const dataTable =\n",
              "            await google.colab.kernel.invokeFunction('convertToInteractive',\n",
              "                                                     [key], {});\n",
              "          if (!dataTable) return;\n",
              "\n",
              "          const docLinkHtml = 'Like what you see? Visit the ' +\n",
              "            '<a target=\"_blank\" href=https://colab.research.google.com/notebooks/data_table.ipynb>data table notebook</a>'\n",
              "            + ' to learn more about interactive tables.';\n",
              "          element.innerHTML = '';\n",
              "          dataTable['output_type'] = 'display_data';\n",
              "          await google.colab.output.renderOutput(dataTable, element);\n",
              "          const docLink = document.createElement('div');\n",
              "          docLink.innerHTML = docLinkHtml;\n",
              "          element.appendChild(docLink);\n",
              "        }\n",
              "      </script>\n",
              "    </div>\n",
              "  </div>\n",
              "  "
            ]
          },
          "metadata": {},
          "execution_count": 8
        }
      ]
    },
    {
      "cell_type": "code",
      "source": [
        "reviews = m_review_df.Review"
      ],
      "metadata": {
        "id": "65BsH4XGT2Rw"
      },
      "execution_count": 9,
      "outputs": []
    },
    {
      "cell_type": "code",
      "source": [
        "reviews[:10]"
      ],
      "metadata": {
        "id": "2C5T9EIgUT4m",
        "colab": {
          "base_uri": "https://localhost:8080/"
        },
        "outputId": "d0592eea-7866-4172-8001-829785c6adf3"
      },
      "execution_count": 10,
      "outputs": [
        {
          "output_type": "execute_result",
          "data": {
            "text/plain": [
              "0     '역사적사실을 근거로 스토리 좋은 잘 만든 수작이다 배우들의 연기도 좋았고 간전의...\n",
              "1                            '두 남자가 가고 싶었던 서로 다른 신세계.'\n",
              "2     '진짜 감독상 받을만하다. 연기 구멍이 없고 연출도 좋고 고증도 훌륭함. 단역들이...\n",
              "3     '흔한 폭력 영화가 아닌 개념있는 영화에서 정우성  이정재 두배우의 진정성 있는 ...\n",
              "4                                  '연기랑 캐스팅은 호화인데... '\n",
              "5     '넷플릭스로 보면서 볼륨 높였다가 와이프가 소리 줄이래서 줄여서 보다가 대사 안들...\n",
              "6     '고문기술자. 이근안을 모티브로 했겠죠? 그 역할 하신 분 고생 많으셨네요. 이정...\n",
              "7                                                   ''\n",
              "8                                      '듣던대로 기대이상이었다.'\n",
              "9                            '재밌네요 그당시 전두환이 죽었더라면...?'\n",
              "Name: Review, dtype: object"
            ]
          },
          "metadata": {},
          "execution_count": 10
        }
      ]
    },
    {
      "cell_type": "markdown",
      "source": [
        "#### 2. 형태소 분석"
      ],
      "metadata": {
        "id": "wCS6tFXtMo_r"
      }
    },
    {
      "cell_type": "code",
      "source": [
        "# 한글 자연어 처리기 설치\n",
        "!pip install konlpy    \n",
        "      \n",
        "\n",
        "# 한글 형태소 분석기인 Mecab 설치\n",
        "!bash <(curl -s https://raw.githubusercontent.com/konlpy/konlpy/master/scripts/mecab.sh)"
      ],
      "metadata": {
        "id": "5HTuuddUUeHF",
        "colab": {
          "base_uri": "https://localhost:8080/"
        },
        "outputId": "2d0b4c65-3736-4e49-f9b3-8ac7fd28e765"
      },
      "execution_count": 11,
      "outputs": [
        {
          "output_type": "stream",
          "name": "stdout",
          "text": [
            "Looking in indexes: https://pypi.org/simple, https://us-python.pkg.dev/colab-wheels/public/simple/\n",
            "Requirement already satisfied: konlpy in /usr/local/lib/python3.8/dist-packages (0.6.0)\n",
            "Requirement already satisfied: numpy>=1.6 in /usr/local/lib/python3.8/dist-packages (from konlpy) (1.21.6)\n",
            "Requirement already satisfied: lxml>=4.1.0 in /usr/local/lib/python3.8/dist-packages (from konlpy) (4.9.1)\n",
            "Requirement already satisfied: JPype1>=0.7.0 in /usr/local/lib/python3.8/dist-packages (from konlpy) (1.4.1)\n",
            "Requirement already satisfied: packaging in /usr/local/lib/python3.8/dist-packages (from JPype1>=0.7.0->konlpy) (21.3)\n",
            "Requirement already satisfied: pyparsing!=3.0.5,>=2.0.2 in /usr/local/lib/python3.8/dist-packages (from packaging->JPype1>=0.7.0->konlpy) (3.0.9)\n",
            "mecab-ko is already installed\n",
            "mecab-ko-dic is already installed\n",
            "mecab-python is already installed\n",
            "Done.\n"
          ]
        }
      ]
    },
    {
      "cell_type": "code",
      "source": [
        "from konlpy.tag import Mecab\n",
        "\n",
        "mecab = Mecab()\n",
        "\n",
        "tokens = [mecab.morphs(word) for word in reviews]\n",
        "\n",
        "tokens = list(map(lambda x : \" \".join(x), tokens))\n",
        "\n",
        "tokens[:10]"
      ],
      "metadata": {
        "colab": {
          "base_uri": "https://localhost:8080/"
        },
        "id": "ZWgrXVbMVIdg",
        "outputId": "a11d8210-717d-4f19-99cd-139379311ec4"
      },
      "execution_count": 12,
      "outputs": [
        {
          "output_type": "execute_result",
          "data": {
            "text/plain": [
              "[\"' 역사 적 사실 을 근거 로 스토리 좋 은 잘 만든 수작 이 다 배우 들 의 연기 도 좋 았 고 간전 의 반전 좋 은 영화 강추 '\",\n",
              " \"' 두 남자 가 가 고 싶 었 던 서로 다른 신세계 . '\",\n",
              " \"' 진짜 감독 상 받 을 만 하 다 . 연기 구멍 이 없 고 연출 도 좋 고 고증 도 훌륭 함 . 단역 들 이 다 대 배우 들 이 라서 누가 중요 한 인물 일지 가늠 이 안 되 서 더 흥미진진 함 ! ! 신세계 st . 안기부 '\",\n",
              " \"' 흔한 폭력 영화 가 아닌 개념 있 는 영화 에서 정우성 이정재 두 배우 의 진정 성 있 는 연기 가 아주 좋 았 어요 . '\",\n",
              " \"' 연기 랑 캐스팅 은 호화 인데 . .. '\",\n",
              " \"' 넷플릭스 로 보 면서 볼륨 높였 다가 와이프 가 소리 줄이 래서 줄여서 보 다가 대사 안 들려서 뒤 로 건너뛰 기 볼륨 업 재생 반복 혼자 조용히 다시 봐야 겠 어요 ^^'\",\n",
              " \"' 고 문 기술자 . 이근안 을 모티브 로 했 겠 죠 ? 그 역할 하 신 분 고생 많 으셨 네요 . 이정재 가 뚜 까 팰 때 진짜 통 괘 하 더라 . 대신 맞 아 주 셔서 감사 합니다 . '\",\n",
              " \"''\",\n",
              " \"' 듣 던 대로 기대 이상 이 었 다 . '\",\n",
              " \"' 재밌 네요 그 당시 전두환 이 죽 었 더라면 . ..?'\"]"
            ]
          },
          "metadata": {},
          "execution_count": 12
        }
      ]
    },
    {
      "cell_type": "markdown",
      "source": [
        "### 3. 사전 업로드(KNU 한국어 감성사전)"
      ],
      "metadata": {
        "id": "QwLpUpUwM9rJ"
      }
    },
    {
      "cell_type": "markdown",
      "source": [
        "* 감성사전 데이터프레임으로 만들기"
      ],
      "metadata": {
        "id": "d7rSU3tsNLyF"
      }
    },
    {
      "cell_type": "code",
      "source": [
        "import json\n",
        "import pandas as pd\n",
        "\n",
        "with open('SentiWord_info.json', encoding='utf-8-sig', mode='r') as f:\n",
        "  SentiWord_info = json.load(f)\n",
        "\n",
        "sentiword_dic = pd.DataFrame(SentiWord_info)\n"
      ],
      "metadata": {
        "id": "KL27M8FAYN39"
      },
      "execution_count": 13,
      "outputs": []
    },
    {
      "cell_type": "markdown",
      "source": [
        "#### 분석할 문장에 포함된 단어와 감성 사전을 비교해 극성 값 계산"
      ],
      "metadata": {
        "id": "RNK_SCvpNQeJ"
      }
    },
    {
      "cell_type": "code",
      "source": [
        "import pandas as pd\n",
        "\n",
        "df = pd.DataFrame(columns=(\"review\", \"sentiment\"))\n",
        "idx = 0\n",
        " \n",
        "for token in tokens:\n",
        "  sentiment = 0\n",
        "  for i in range(0, len(sentiword_dic)):\n",
        "    if sentiword_dic.word[i] in token:\n",
        "      sentiment += int(sentiword_dic.polarity[i])\n",
        "  df.loc[idx] = [token, sentiment]\n",
        "  idx += 1\n"
      ],
      "metadata": {
        "id": "n76AFXYSwbn6"
      },
      "execution_count": 14,
      "outputs": []
    },
    {
      "cell_type": "code",
      "source": [
        "df"
      ],
      "metadata": {
        "id": "N_GQ0pwuDONk",
        "colab": {
          "base_uri": "https://localhost:8080/",
          "height": 1000
        },
        "outputId": "cb4adefd-52b8-4d55-ad19-05679d2fea1f"
      },
      "execution_count": 11,
      "outputs": [
        {
          "output_type": "execute_result",
          "data": {
            "text/plain": [
              "                                               review sentiment\n",
              "0   ' 진짜 감독 상 받 을 만 하 다 . 연기 구멍 이 없 고 연출 도 좋 고 고증 ...        -1\n",
              "1   ' 흔한 폭력 영화 가 아닌 개념 있 는 영화 에서 정우성 이정재 두 배우 의 진정...        -3\n",
              "2                           ' 연기 랑 캐스팅 은 호화 인데 . .. '        -2\n",
              "3   ' 넷플릭스 로 보 면서 볼륨 높였 다가 와이프 가 소리 줄이 래서 줄여서 보 다가...         1\n",
              "4   ' 고 문 기술자 . 이근안 을 모티브 로 했 겠 죠 ? 그 역할 하 신 분 고생 ...         3\n",
              "5                                                  ''         0\n",
              "6                            ' 듣 던 대로 기대 이상 이 었 다 . '         1\n",
              "7                   ' 재밌 네요 그 당시 전두환 이 죽 었 더라면 . ..?'         0\n",
              "8                                  ' 스토리 가 재미없 어요 . '         2\n",
              "9                      ' 긴장감 넘치 고 진행 이 빨라서 만족 스러웠 음 '         2\n",
              "10  ' 실화 를 모티브 로 했 지만 개연 성 말아먹 은 스토리 의 반복 이 긴장 을 끌...        -3\n",
              "11  ' 정말 잘 만들 었 음 . 정말 스토리 도 좋 음 . 근데 웨이브 에서 한 세 번...        -1\n",
              "12                  ' 독재자 놈 이 죽 기 전 에 나왔 으면 좋 았 을 걸 '        -2\n",
              "13  ' 이정재 & amp ;# 39 ; 감독 & amp ;# 39 ; 님 의 연출 로 ...        -2\n",
              "14  ' 처음 으로 극장 에서 안 본 거 후회 하 게 만든 영화 감독 이정재 에 대한 새...        -5\n",
              "15  ' 이 야 . .. 북한 관련 해서 실화 바탕 아닌 영화 중 에 제일 스토리 탄탄 ...        -3\n",
              "16  ' 강철 비 보다 더 쇼킹한 스토리 에 놀라 고 정말 이럴 수 도 있 겠 다 싶 은...         0\n",
              "17  ' 이정재 가 감독 한 영화 라 궁금 해서 봄 . 아직 은 약간 날 것 의 느낌 ....        -4\n",
              "18  ' 이정재 감독 인지 모르 고 봤 네 ~ 맘 아픈 근현 대사 에 함께 속상해 하 며...        -7\n",
              "19  ' 99 / 100 까지 는 재미있 었 는데 마지막 장면 이 정말 말 도 안 되게 ...         0\n",
              "20                                                 ''         0\n",
              "21                                                 ''         0\n",
              "22                               ' 재밌 네요 . 정우성 연기 굿 '         1\n",
              "23            ' 와 진심 재밌 네요 뭔가 영화 밀정 느낌 이 있 네요 . 굿 궁 '        -1\n",
              "24  ' 초호 화 캐스팅 이 전혀 아깝 지 않 다 . 황정민 단역 으로 나오 고 조우진 ...        -2\n",
              "25  ' 진짜 간첩 이랑 좌 빨 이랑 싸우 는 내용 인데 간첩 보다 좌 빨 이 더 독하 ...        -2\n",
              "26                                                 ''         0\n",
              "27                       ' 타이밍 미스 . . 추후 대박 날 듯 . ..'         0\n",
              "28                            ' 킬링 타임 용 영화 로 괜찮 습니다 '        -2\n",
              "29                            ' 보 는 사람 집중 하 게 만드 네요 '         0\n",
              "30  ' 와 ? 평점 이 왜 이리 높 지 이런 개연 성 없 는 영화 참 오랜만 이 다 이...        -5\n",
              "31  ' 독재자 대머리 23 만 원 이 저 때 디 졌 다면 우리 나라 역사 는 어찌 됐 ...        -3\n",
              "32  ' 역사 적 바탕 으로 너무 재미있 게 봤 고 몰 입감 이 높 아요 온 가족 이 집...        -1\n",
              "33  ' 결국 전두환 돌려 까 기 영화 . 근데 북 파 공작원 이랑 혁명 조직 이 같이 ...        -3\n",
              "34                             ' 빨갱이 간첩 들 너무 많 아 . .'         0\n",
              "35                               ' 재 밋 게 봤 네요 ㅋㅋㅋ 굳 '         0\n",
              "36                            ' 내용 복잡 하 지 않 고 잘 만 듬 '         1\n",
              "37                             ' 생 각지 도 않 게 재밌 네요 . '         0\n",
              "38  ' 중요 한 건 간첩 은 있 었 다는 거 네 ㅋㅋ 근데 진짜 대사 가 안 들리 는 ...        -1\n",
              "39                             ' 역대 급 반전 과 영화 네요 . 연기        -2\n",
              "40                                              ' 이정재         1\n",
              "41  ' 배우 들 은 있 는데 영화 가 없 어서 아쉽 네요 40 초 남 입니다 그리고 이...        -1\n",
              "42  ' 와 정재형 님 이런 훌륭 한 영화 를 만드 시 다니 . . 연기 뿐 아니 라 영...        -1\n",
              "43                                                 ''         0\n",
              "44  ' 기대 한 만큼 은 아니 지만 그럭저럭 재밌 게 봤 습니다 빠른 전개 와 액션 들...         1\n",
              "45                           ' 우리 나라 에 이런 영화 가 ? 대박 '        -2\n",
              "46  ' 총격 전투 씬 은 역대 한국 영화 중 최고 ! ! 이야기 가 너무 나간 것 같 ...         1\n",
              "47                               ' 근래 재미있 게 본 유일 영화 '         0\n",
              "48                             ' 조잡 하 고 산만 한 연출 입니다 '         0\n",
              "49                                                 ''         0"
            ],
            "text/html": [
              "\n",
              "  <div id=\"df-6c3c797d-19b7-4ebc-bc1b-a444f6ddcf93\">\n",
              "    <div class=\"colab-df-container\">\n",
              "      <div>\n",
              "<style scoped>\n",
              "    .dataframe tbody tr th:only-of-type {\n",
              "        vertical-align: middle;\n",
              "    }\n",
              "\n",
              "    .dataframe tbody tr th {\n",
              "        vertical-align: top;\n",
              "    }\n",
              "\n",
              "    .dataframe thead th {\n",
              "        text-align: right;\n",
              "    }\n",
              "</style>\n",
              "<table border=\"1\" class=\"dataframe\">\n",
              "  <thead>\n",
              "    <tr style=\"text-align: right;\">\n",
              "      <th></th>\n",
              "      <th>review</th>\n",
              "      <th>sentiment</th>\n",
              "    </tr>\n",
              "  </thead>\n",
              "  <tbody>\n",
              "    <tr>\n",
              "      <th>0</th>\n",
              "      <td>' 진짜 감독 상 받 을 만 하 다 . 연기 구멍 이 없 고 연출 도 좋 고 고증 ...</td>\n",
              "      <td>-1</td>\n",
              "    </tr>\n",
              "    <tr>\n",
              "      <th>1</th>\n",
              "      <td>' 흔한 폭력 영화 가 아닌 개념 있 는 영화 에서 정우성 이정재 두 배우 의 진정...</td>\n",
              "      <td>-3</td>\n",
              "    </tr>\n",
              "    <tr>\n",
              "      <th>2</th>\n",
              "      <td>' 연기 랑 캐스팅 은 호화 인데 . .. '</td>\n",
              "      <td>-2</td>\n",
              "    </tr>\n",
              "    <tr>\n",
              "      <th>3</th>\n",
              "      <td>' 넷플릭스 로 보 면서 볼륨 높였 다가 와이프 가 소리 줄이 래서 줄여서 보 다가...</td>\n",
              "      <td>1</td>\n",
              "    </tr>\n",
              "    <tr>\n",
              "      <th>4</th>\n",
              "      <td>' 고 문 기술자 . 이근안 을 모티브 로 했 겠 죠 ? 그 역할 하 신 분 고생 ...</td>\n",
              "      <td>3</td>\n",
              "    </tr>\n",
              "    <tr>\n",
              "      <th>5</th>\n",
              "      <td>''</td>\n",
              "      <td>0</td>\n",
              "    </tr>\n",
              "    <tr>\n",
              "      <th>6</th>\n",
              "      <td>' 듣 던 대로 기대 이상 이 었 다 . '</td>\n",
              "      <td>1</td>\n",
              "    </tr>\n",
              "    <tr>\n",
              "      <th>7</th>\n",
              "      <td>' 재밌 네요 그 당시 전두환 이 죽 었 더라면 . ..?'</td>\n",
              "      <td>0</td>\n",
              "    </tr>\n",
              "    <tr>\n",
              "      <th>8</th>\n",
              "      <td>' 스토리 가 재미없 어요 . '</td>\n",
              "      <td>2</td>\n",
              "    </tr>\n",
              "    <tr>\n",
              "      <th>9</th>\n",
              "      <td>' 긴장감 넘치 고 진행 이 빨라서 만족 스러웠 음 '</td>\n",
              "      <td>2</td>\n",
              "    </tr>\n",
              "    <tr>\n",
              "      <th>10</th>\n",
              "      <td>' 실화 를 모티브 로 했 지만 개연 성 말아먹 은 스토리 의 반복 이 긴장 을 끌...</td>\n",
              "      <td>-3</td>\n",
              "    </tr>\n",
              "    <tr>\n",
              "      <th>11</th>\n",
              "      <td>' 정말 잘 만들 었 음 . 정말 스토리 도 좋 음 . 근데 웨이브 에서 한 세 번...</td>\n",
              "      <td>-1</td>\n",
              "    </tr>\n",
              "    <tr>\n",
              "      <th>12</th>\n",
              "      <td>' 독재자 놈 이 죽 기 전 에 나왔 으면 좋 았 을 걸 '</td>\n",
              "      <td>-2</td>\n",
              "    </tr>\n",
              "    <tr>\n",
              "      <th>13</th>\n",
              "      <td>' 이정재 &amp; amp ;# 39 ; 감독 &amp; amp ;# 39 ; 님 의 연출 로 ...</td>\n",
              "      <td>-2</td>\n",
              "    </tr>\n",
              "    <tr>\n",
              "      <th>14</th>\n",
              "      <td>' 처음 으로 극장 에서 안 본 거 후회 하 게 만든 영화 감독 이정재 에 대한 새...</td>\n",
              "      <td>-5</td>\n",
              "    </tr>\n",
              "    <tr>\n",
              "      <th>15</th>\n",
              "      <td>' 이 야 . .. 북한 관련 해서 실화 바탕 아닌 영화 중 에 제일 스토리 탄탄 ...</td>\n",
              "      <td>-3</td>\n",
              "    </tr>\n",
              "    <tr>\n",
              "      <th>16</th>\n",
              "      <td>' 강철 비 보다 더 쇼킹한 스토리 에 놀라 고 정말 이럴 수 도 있 겠 다 싶 은...</td>\n",
              "      <td>0</td>\n",
              "    </tr>\n",
              "    <tr>\n",
              "      <th>17</th>\n",
              "      <td>' 이정재 가 감독 한 영화 라 궁금 해서 봄 . 아직 은 약간 날 것 의 느낌 ....</td>\n",
              "      <td>-4</td>\n",
              "    </tr>\n",
              "    <tr>\n",
              "      <th>18</th>\n",
              "      <td>' 이정재 감독 인지 모르 고 봤 네 ~ 맘 아픈 근현 대사 에 함께 속상해 하 며...</td>\n",
              "      <td>-7</td>\n",
              "    </tr>\n",
              "    <tr>\n",
              "      <th>19</th>\n",
              "      <td>' 99 / 100 까지 는 재미있 었 는데 마지막 장면 이 정말 말 도 안 되게 ...</td>\n",
              "      <td>0</td>\n",
              "    </tr>\n",
              "    <tr>\n",
              "      <th>20</th>\n",
              "      <td>''</td>\n",
              "      <td>0</td>\n",
              "    </tr>\n",
              "    <tr>\n",
              "      <th>21</th>\n",
              "      <td>''</td>\n",
              "      <td>0</td>\n",
              "    </tr>\n",
              "    <tr>\n",
              "      <th>22</th>\n",
              "      <td>' 재밌 네요 . 정우성 연기 굿 '</td>\n",
              "      <td>1</td>\n",
              "    </tr>\n",
              "    <tr>\n",
              "      <th>23</th>\n",
              "      <td>' 와 진심 재밌 네요 뭔가 영화 밀정 느낌 이 있 네요 . 굿 궁 '</td>\n",
              "      <td>-1</td>\n",
              "    </tr>\n",
              "    <tr>\n",
              "      <th>24</th>\n",
              "      <td>' 초호 화 캐스팅 이 전혀 아깝 지 않 다 . 황정민 단역 으로 나오 고 조우진 ...</td>\n",
              "      <td>-2</td>\n",
              "    </tr>\n",
              "    <tr>\n",
              "      <th>25</th>\n",
              "      <td>' 진짜 간첩 이랑 좌 빨 이랑 싸우 는 내용 인데 간첩 보다 좌 빨 이 더 독하 ...</td>\n",
              "      <td>-2</td>\n",
              "    </tr>\n",
              "    <tr>\n",
              "      <th>26</th>\n",
              "      <td>''</td>\n",
              "      <td>0</td>\n",
              "    </tr>\n",
              "    <tr>\n",
              "      <th>27</th>\n",
              "      <td>' 타이밍 미스 . . 추후 대박 날 듯 . ..'</td>\n",
              "      <td>0</td>\n",
              "    </tr>\n",
              "    <tr>\n",
              "      <th>28</th>\n",
              "      <td>' 킬링 타임 용 영화 로 괜찮 습니다 '</td>\n",
              "      <td>-2</td>\n",
              "    </tr>\n",
              "    <tr>\n",
              "      <th>29</th>\n",
              "      <td>' 보 는 사람 집중 하 게 만드 네요 '</td>\n",
              "      <td>0</td>\n",
              "    </tr>\n",
              "    <tr>\n",
              "      <th>30</th>\n",
              "      <td>' 와 ? 평점 이 왜 이리 높 지 이런 개연 성 없 는 영화 참 오랜만 이 다 이...</td>\n",
              "      <td>-5</td>\n",
              "    </tr>\n",
              "    <tr>\n",
              "      <th>31</th>\n",
              "      <td>' 독재자 대머리 23 만 원 이 저 때 디 졌 다면 우리 나라 역사 는 어찌 됐 ...</td>\n",
              "      <td>-3</td>\n",
              "    </tr>\n",
              "    <tr>\n",
              "      <th>32</th>\n",
              "      <td>' 역사 적 바탕 으로 너무 재미있 게 봤 고 몰 입감 이 높 아요 온 가족 이 집...</td>\n",
              "      <td>-1</td>\n",
              "    </tr>\n",
              "    <tr>\n",
              "      <th>33</th>\n",
              "      <td>' 결국 전두환 돌려 까 기 영화 . 근데 북 파 공작원 이랑 혁명 조직 이 같이 ...</td>\n",
              "      <td>-3</td>\n",
              "    </tr>\n",
              "    <tr>\n",
              "      <th>34</th>\n",
              "      <td>' 빨갱이 간첩 들 너무 많 아 . .'</td>\n",
              "      <td>0</td>\n",
              "    </tr>\n",
              "    <tr>\n",
              "      <th>35</th>\n",
              "      <td>' 재 밋 게 봤 네요 ㅋㅋㅋ 굳 '</td>\n",
              "      <td>0</td>\n",
              "    </tr>\n",
              "    <tr>\n",
              "      <th>36</th>\n",
              "      <td>' 내용 복잡 하 지 않 고 잘 만 듬 '</td>\n",
              "      <td>1</td>\n",
              "    </tr>\n",
              "    <tr>\n",
              "      <th>37</th>\n",
              "      <td>' 생 각지 도 않 게 재밌 네요 . '</td>\n",
              "      <td>0</td>\n",
              "    </tr>\n",
              "    <tr>\n",
              "      <th>38</th>\n",
              "      <td>' 중요 한 건 간첩 은 있 었 다는 거 네 ㅋㅋ 근데 진짜 대사 가 안 들리 는 ...</td>\n",
              "      <td>-1</td>\n",
              "    </tr>\n",
              "    <tr>\n",
              "      <th>39</th>\n",
              "      <td>' 역대 급 반전 과 영화 네요 . 연기</td>\n",
              "      <td>-2</td>\n",
              "    </tr>\n",
              "    <tr>\n",
              "      <th>40</th>\n",
              "      <td>' 이정재</td>\n",
              "      <td>1</td>\n",
              "    </tr>\n",
              "    <tr>\n",
              "      <th>41</th>\n",
              "      <td>' 배우 들 은 있 는데 영화 가 없 어서 아쉽 네요 40 초 남 입니다 그리고 이...</td>\n",
              "      <td>-1</td>\n",
              "    </tr>\n",
              "    <tr>\n",
              "      <th>42</th>\n",
              "      <td>' 와 정재형 님 이런 훌륭 한 영화 를 만드 시 다니 . . 연기 뿐 아니 라 영...</td>\n",
              "      <td>-1</td>\n",
              "    </tr>\n",
              "    <tr>\n",
              "      <th>43</th>\n",
              "      <td>''</td>\n",
              "      <td>0</td>\n",
              "    </tr>\n",
              "    <tr>\n",
              "      <th>44</th>\n",
              "      <td>' 기대 한 만큼 은 아니 지만 그럭저럭 재밌 게 봤 습니다 빠른 전개 와 액션 들...</td>\n",
              "      <td>1</td>\n",
              "    </tr>\n",
              "    <tr>\n",
              "      <th>45</th>\n",
              "      <td>' 우리 나라 에 이런 영화 가 ? 대박 '</td>\n",
              "      <td>-2</td>\n",
              "    </tr>\n",
              "    <tr>\n",
              "      <th>46</th>\n",
              "      <td>' 총격 전투 씬 은 역대 한국 영화 중 최고 ! ! 이야기 가 너무 나간 것 같 ...</td>\n",
              "      <td>1</td>\n",
              "    </tr>\n",
              "    <tr>\n",
              "      <th>47</th>\n",
              "      <td>' 근래 재미있 게 본 유일 영화 '</td>\n",
              "      <td>0</td>\n",
              "    </tr>\n",
              "    <tr>\n",
              "      <th>48</th>\n",
              "      <td>' 조잡 하 고 산만 한 연출 입니다 '</td>\n",
              "      <td>0</td>\n",
              "    </tr>\n",
              "    <tr>\n",
              "      <th>49</th>\n",
              "      <td>''</td>\n",
              "      <td>0</td>\n",
              "    </tr>\n",
              "  </tbody>\n",
              "</table>\n",
              "</div>\n",
              "      <button class=\"colab-df-convert\" onclick=\"convertToInteractive('df-6c3c797d-19b7-4ebc-bc1b-a444f6ddcf93')\"\n",
              "              title=\"Convert this dataframe to an interactive table.\"\n",
              "              style=\"display:none;\">\n",
              "        \n",
              "  <svg xmlns=\"http://www.w3.org/2000/svg\" height=\"24px\"viewBox=\"0 0 24 24\"\n",
              "       width=\"24px\">\n",
              "    <path d=\"M0 0h24v24H0V0z\" fill=\"none\"/>\n",
              "    <path d=\"M18.56 5.44l.94 2.06.94-2.06 2.06-.94-2.06-.94-.94-2.06-.94 2.06-2.06.94zm-11 1L8.5 8.5l.94-2.06 2.06-.94-2.06-.94L8.5 2.5l-.94 2.06-2.06.94zm10 10l.94 2.06.94-2.06 2.06-.94-2.06-.94-.94-2.06-.94 2.06-2.06.94z\"/><path d=\"M17.41 7.96l-1.37-1.37c-.4-.4-.92-.59-1.43-.59-.52 0-1.04.2-1.43.59L10.3 9.45l-7.72 7.72c-.78.78-.78 2.05 0 2.83L4 21.41c.39.39.9.59 1.41.59.51 0 1.02-.2 1.41-.59l7.78-7.78 2.81-2.81c.8-.78.8-2.07 0-2.86zM5.41 20L4 18.59l7.72-7.72 1.47 1.35L5.41 20z\"/>\n",
              "  </svg>\n",
              "      </button>\n",
              "      \n",
              "  <style>\n",
              "    .colab-df-container {\n",
              "      display:flex;\n",
              "      flex-wrap:wrap;\n",
              "      gap: 12px;\n",
              "    }\n",
              "\n",
              "    .colab-df-convert {\n",
              "      background-color: #E8F0FE;\n",
              "      border: none;\n",
              "      border-radius: 50%;\n",
              "      cursor: pointer;\n",
              "      display: none;\n",
              "      fill: #1967D2;\n",
              "      height: 32px;\n",
              "      padding: 0 0 0 0;\n",
              "      width: 32px;\n",
              "    }\n",
              "\n",
              "    .colab-df-convert:hover {\n",
              "      background-color: #E2EBFA;\n",
              "      box-shadow: 0px 1px 2px rgba(60, 64, 67, 0.3), 0px 1px 3px 1px rgba(60, 64, 67, 0.15);\n",
              "      fill: #174EA6;\n",
              "    }\n",
              "\n",
              "    [theme=dark] .colab-df-convert {\n",
              "      background-color: #3B4455;\n",
              "      fill: #D2E3FC;\n",
              "    }\n",
              "\n",
              "    [theme=dark] .colab-df-convert:hover {\n",
              "      background-color: #434B5C;\n",
              "      box-shadow: 0px 1px 3px 1px rgba(0, 0, 0, 0.15);\n",
              "      filter: drop-shadow(0px 1px 2px rgba(0, 0, 0, 0.3));\n",
              "      fill: #FFFFFF;\n",
              "    }\n",
              "  </style>\n",
              "\n",
              "      <script>\n",
              "        const buttonEl =\n",
              "          document.querySelector('#df-6c3c797d-19b7-4ebc-bc1b-a444f6ddcf93 button.colab-df-convert');\n",
              "        buttonEl.style.display =\n",
              "          google.colab.kernel.accessAllowed ? 'block' : 'none';\n",
              "\n",
              "        async function convertToInteractive(key) {\n",
              "          const element = document.querySelector('#df-6c3c797d-19b7-4ebc-bc1b-a444f6ddcf93');\n",
              "          const dataTable =\n",
              "            await google.colab.kernel.invokeFunction('convertToInteractive',\n",
              "                                                     [key], {});\n",
              "          if (!dataTable) return;\n",
              "\n",
              "          const docLinkHtml = 'Like what you see? Visit the ' +\n",
              "            '<a target=\"_blank\" href=https://colab.research.google.com/notebooks/data_table.ipynb>data table notebook</a>'\n",
              "            + ' to learn more about interactive tables.';\n",
              "          element.innerHTML = '';\n",
              "          dataTable['output_type'] = 'display_data';\n",
              "          await google.colab.output.renderOutput(dataTable, element);\n",
              "          const docLink = document.createElement('div');\n",
              "          docLink.innerHTML = docLinkHtml;\n",
              "          element.appendChild(docLink);\n",
              "        }\n",
              "      </script>\n",
              "    </div>\n",
              "  </div>\n",
              "  "
            ]
          },
          "metadata": {},
          "execution_count": 11
        }
      ]
    },
    {
      "cell_type": "markdown",
      "source": [
        "## 감성단어별로 워드클라우드 그리기"
      ],
      "metadata": {
        "id": "SAXhEzy-FIG7"
      }
    },
    {
      "cell_type": "markdown",
      "source": [
        "* 단어별로 토큰화"
      ],
      "metadata": {
        "id": "Bb9UG6pONjCn"
      }
    },
    {
      "cell_type": "code",
      "source": [
        "tokenized_tex = [mecab.morphs(token) for token in tokens]\n",
        "#total_tokens = [toekn for doc in word for word in mecab.morphs(token) for if len(word)>1]\n",
        "total_tokens = [token for word in tokenized_tex for token in word if len(token) > 1 ]"
      ],
      "metadata": {
        "id": "FVqte5B_FI1n"
      },
      "execution_count": 15,
      "outputs": []
    },
    {
      "cell_type": "markdown",
      "source": [
        "* Counter() 함수를 이용해 단어 빈도수 계산"
      ],
      "metadata": {
        "id": "poIus0hONm4R"
      }
    },
    {
      "cell_type": "code",
      "source": [
        "from collections import Counter\n",
        "token_counter = Counter(total_tokens)\n",
        "noun_list = token_counter.most_common(50)\n",
        "count_tokens=pd.DataFrame(dict(token_counter).items(),columns=['word','count'])"
      ],
      "metadata": {
        "id": "6L9mIDEtZDCi"
      },
      "execution_count": 16,
      "outputs": []
    },
    {
      "cell_type": "code",
      "source": [
        "count_tokens.head()"
      ],
      "metadata": {
        "colab": {
          "base_uri": "https://localhost:8080/",
          "height": 206
        },
        "id": "dRh60IA_I8j5",
        "outputId": "87198ac3-217c-4eae-897c-c87ebf3c6798"
      },
      "execution_count": 18,
      "outputs": [
        {
          "output_type": "execute_result",
          "data": {
            "text/plain": [
              "  word  count\n",
              "0   진짜      5\n",
              "1   감독      5\n",
              "2   연기      7\n",
              "3   구멍      1\n",
              "4   연출      4"
            ],
            "text/html": [
              "\n",
              "  <div id=\"df-909acfc3-5d24-4f17-96cf-5fc4449d2d01\">\n",
              "    <div class=\"colab-df-container\">\n",
              "      <div>\n",
              "<style scoped>\n",
              "    .dataframe tbody tr th:only-of-type {\n",
              "        vertical-align: middle;\n",
              "    }\n",
              "\n",
              "    .dataframe tbody tr th {\n",
              "        vertical-align: top;\n",
              "    }\n",
              "\n",
              "    .dataframe thead th {\n",
              "        text-align: right;\n",
              "    }\n",
              "</style>\n",
              "<table border=\"1\" class=\"dataframe\">\n",
              "  <thead>\n",
              "    <tr style=\"text-align: right;\">\n",
              "      <th></th>\n",
              "      <th>word</th>\n",
              "      <th>count</th>\n",
              "    </tr>\n",
              "  </thead>\n",
              "  <tbody>\n",
              "    <tr>\n",
              "      <th>0</th>\n",
              "      <td>진짜</td>\n",
              "      <td>5</td>\n",
              "    </tr>\n",
              "    <tr>\n",
              "      <th>1</th>\n",
              "      <td>감독</td>\n",
              "      <td>5</td>\n",
              "    </tr>\n",
              "    <tr>\n",
              "      <th>2</th>\n",
              "      <td>연기</td>\n",
              "      <td>7</td>\n",
              "    </tr>\n",
              "    <tr>\n",
              "      <th>3</th>\n",
              "      <td>구멍</td>\n",
              "      <td>1</td>\n",
              "    </tr>\n",
              "    <tr>\n",
              "      <th>4</th>\n",
              "      <td>연출</td>\n",
              "      <td>4</td>\n",
              "    </tr>\n",
              "  </tbody>\n",
              "</table>\n",
              "</div>\n",
              "      <button class=\"colab-df-convert\" onclick=\"convertToInteractive('df-909acfc3-5d24-4f17-96cf-5fc4449d2d01')\"\n",
              "              title=\"Convert this dataframe to an interactive table.\"\n",
              "              style=\"display:none;\">\n",
              "        \n",
              "  <svg xmlns=\"http://www.w3.org/2000/svg\" height=\"24px\"viewBox=\"0 0 24 24\"\n",
              "       width=\"24px\">\n",
              "    <path d=\"M0 0h24v24H0V0z\" fill=\"none\"/>\n",
              "    <path d=\"M18.56 5.44l.94 2.06.94-2.06 2.06-.94-2.06-.94-.94-2.06-.94 2.06-2.06.94zm-11 1L8.5 8.5l.94-2.06 2.06-.94-2.06-.94L8.5 2.5l-.94 2.06-2.06.94zm10 10l.94 2.06.94-2.06 2.06-.94-2.06-.94-.94-2.06-.94 2.06-2.06.94z\"/><path d=\"M17.41 7.96l-1.37-1.37c-.4-.4-.92-.59-1.43-.59-.52 0-1.04.2-1.43.59L10.3 9.45l-7.72 7.72c-.78.78-.78 2.05 0 2.83L4 21.41c.39.39.9.59 1.41.59.51 0 1.02-.2 1.41-.59l7.78-7.78 2.81-2.81c.8-.78.8-2.07 0-2.86zM5.41 20L4 18.59l7.72-7.72 1.47 1.35L5.41 20z\"/>\n",
              "  </svg>\n",
              "      </button>\n",
              "      \n",
              "  <style>\n",
              "    .colab-df-container {\n",
              "      display:flex;\n",
              "      flex-wrap:wrap;\n",
              "      gap: 12px;\n",
              "    }\n",
              "\n",
              "    .colab-df-convert {\n",
              "      background-color: #E8F0FE;\n",
              "      border: none;\n",
              "      border-radius: 50%;\n",
              "      cursor: pointer;\n",
              "      display: none;\n",
              "      fill: #1967D2;\n",
              "      height: 32px;\n",
              "      padding: 0 0 0 0;\n",
              "      width: 32px;\n",
              "    }\n",
              "\n",
              "    .colab-df-convert:hover {\n",
              "      background-color: #E2EBFA;\n",
              "      box-shadow: 0px 1px 2px rgba(60, 64, 67, 0.3), 0px 1px 3px 1px rgba(60, 64, 67, 0.15);\n",
              "      fill: #174EA6;\n",
              "    }\n",
              "\n",
              "    [theme=dark] .colab-df-convert {\n",
              "      background-color: #3B4455;\n",
              "      fill: #D2E3FC;\n",
              "    }\n",
              "\n",
              "    [theme=dark] .colab-df-convert:hover {\n",
              "      background-color: #434B5C;\n",
              "      box-shadow: 0px 1px 3px 1px rgba(0, 0, 0, 0.15);\n",
              "      filter: drop-shadow(0px 1px 2px rgba(0, 0, 0, 0.3));\n",
              "      fill: #FFFFFF;\n",
              "    }\n",
              "  </style>\n",
              "\n",
              "      <script>\n",
              "        const buttonEl =\n",
              "          document.querySelector('#df-909acfc3-5d24-4f17-96cf-5fc4449d2d01 button.colab-df-convert');\n",
              "        buttonEl.style.display =\n",
              "          google.colab.kernel.accessAllowed ? 'block' : 'none';\n",
              "\n",
              "        async function convertToInteractive(key) {\n",
              "          const element = document.querySelector('#df-909acfc3-5d24-4f17-96cf-5fc4449d2d01');\n",
              "          const dataTable =\n",
              "            await google.colab.kernel.invokeFunction('convertToInteractive',\n",
              "                                                     [key], {});\n",
              "          if (!dataTable) return;\n",
              "\n",
              "          const docLinkHtml = 'Like what you see? Visit the ' +\n",
              "            '<a target=\"_blank\" href=https://colab.research.google.com/notebooks/data_table.ipynb>data table notebook</a>'\n",
              "            + ' to learn more about interactive tables.';\n",
              "          element.innerHTML = '';\n",
              "          dataTable['output_type'] = 'display_data';\n",
              "          await google.colab.output.renderOutput(dataTable, element);\n",
              "          const docLink = document.createElement('div');\n",
              "          docLink.innerHTML = docLinkHtml;\n",
              "          element.appendChild(docLink);\n",
              "        }\n",
              "      </script>\n",
              "    </div>\n",
              "  </div>\n",
              "  "
            ]
          },
          "metadata": {},
          "execution_count": 18
        }
      ]
    },
    {
      "cell_type": "markdown",
      "source": [
        "* 토큰화된 단어와 감성사전 속 단어 매칭(merge)"
      ],
      "metadata": {
        "id": "7MWj5GtcN1qs"
      }
    },
    {
      "cell_type": "code",
      "source": [
        "sentword_df = pd.merge(left=sentiword_dic, right=count_tokens, how='inner',on='word')"
      ],
      "metadata": {
        "id": "1AGVAUYLY4hh"
      },
      "execution_count": 17,
      "outputs": []
    },
    {
      "cell_type": "code",
      "source": [
        "sentword_df.head()"
      ],
      "metadata": {
        "colab": {
          "base_uri": "https://localhost:8080/",
          "height": 206
        },
        "id": "D-6R0am1JOko",
        "outputId": "eb09fdd0-eee8-492c-fea9-6eb0e6ce4016"
      },
      "execution_count": 18,
      "outputs": [
        {
          "output_type": "execute_result",
          "data": {
            "text/plain": [
              "  word word_root polarity  count\n",
              "0   감사        감사        2      1\n",
              "1   강추        강추        2      1\n",
              "2   기대        기대        1      2\n",
              "3   능력        능력        1      1\n",
              "4   만족        만족        2      1"
            ],
            "text/html": [
              "\n",
              "  <div id=\"df-06922ed2-a659-4c5c-a936-cb2afc9cdb51\">\n",
              "    <div class=\"colab-df-container\">\n",
              "      <div>\n",
              "<style scoped>\n",
              "    .dataframe tbody tr th:only-of-type {\n",
              "        vertical-align: middle;\n",
              "    }\n",
              "\n",
              "    .dataframe tbody tr th {\n",
              "        vertical-align: top;\n",
              "    }\n",
              "\n",
              "    .dataframe thead th {\n",
              "        text-align: right;\n",
              "    }\n",
              "</style>\n",
              "<table border=\"1\" class=\"dataframe\">\n",
              "  <thead>\n",
              "    <tr style=\"text-align: right;\">\n",
              "      <th></th>\n",
              "      <th>word</th>\n",
              "      <th>word_root</th>\n",
              "      <th>polarity</th>\n",
              "      <th>count</th>\n",
              "    </tr>\n",
              "  </thead>\n",
              "  <tbody>\n",
              "    <tr>\n",
              "      <th>0</th>\n",
              "      <td>감사</td>\n",
              "      <td>감사</td>\n",
              "      <td>2</td>\n",
              "      <td>1</td>\n",
              "    </tr>\n",
              "    <tr>\n",
              "      <th>1</th>\n",
              "      <td>강추</td>\n",
              "      <td>강추</td>\n",
              "      <td>2</td>\n",
              "      <td>1</td>\n",
              "    </tr>\n",
              "    <tr>\n",
              "      <th>2</th>\n",
              "      <td>기대</td>\n",
              "      <td>기대</td>\n",
              "      <td>1</td>\n",
              "      <td>2</td>\n",
              "    </tr>\n",
              "    <tr>\n",
              "      <th>3</th>\n",
              "      <td>능력</td>\n",
              "      <td>능력</td>\n",
              "      <td>1</td>\n",
              "      <td>1</td>\n",
              "    </tr>\n",
              "    <tr>\n",
              "      <th>4</th>\n",
              "      <td>만족</td>\n",
              "      <td>만족</td>\n",
              "      <td>2</td>\n",
              "      <td>1</td>\n",
              "    </tr>\n",
              "  </tbody>\n",
              "</table>\n",
              "</div>\n",
              "      <button class=\"colab-df-convert\" onclick=\"convertToInteractive('df-06922ed2-a659-4c5c-a936-cb2afc9cdb51')\"\n",
              "              title=\"Convert this dataframe to an interactive table.\"\n",
              "              style=\"display:none;\">\n",
              "        \n",
              "  <svg xmlns=\"http://www.w3.org/2000/svg\" height=\"24px\"viewBox=\"0 0 24 24\"\n",
              "       width=\"24px\">\n",
              "    <path d=\"M0 0h24v24H0V0z\" fill=\"none\"/>\n",
              "    <path d=\"M18.56 5.44l.94 2.06.94-2.06 2.06-.94-2.06-.94-.94-2.06-.94 2.06-2.06.94zm-11 1L8.5 8.5l.94-2.06 2.06-.94-2.06-.94L8.5 2.5l-.94 2.06-2.06.94zm10 10l.94 2.06.94-2.06 2.06-.94-2.06-.94-.94-2.06-.94 2.06-2.06.94z\"/><path d=\"M17.41 7.96l-1.37-1.37c-.4-.4-.92-.59-1.43-.59-.52 0-1.04.2-1.43.59L10.3 9.45l-7.72 7.72c-.78.78-.78 2.05 0 2.83L4 21.41c.39.39.9.59 1.41.59.51 0 1.02-.2 1.41-.59l7.78-7.78 2.81-2.81c.8-.78.8-2.07 0-2.86zM5.41 20L4 18.59l7.72-7.72 1.47 1.35L5.41 20z\"/>\n",
              "  </svg>\n",
              "      </button>\n",
              "      \n",
              "  <style>\n",
              "    .colab-df-container {\n",
              "      display:flex;\n",
              "      flex-wrap:wrap;\n",
              "      gap: 12px;\n",
              "    }\n",
              "\n",
              "    .colab-df-convert {\n",
              "      background-color: #E8F0FE;\n",
              "      border: none;\n",
              "      border-radius: 50%;\n",
              "      cursor: pointer;\n",
              "      display: none;\n",
              "      fill: #1967D2;\n",
              "      height: 32px;\n",
              "      padding: 0 0 0 0;\n",
              "      width: 32px;\n",
              "    }\n",
              "\n",
              "    .colab-df-convert:hover {\n",
              "      background-color: #E2EBFA;\n",
              "      box-shadow: 0px 1px 2px rgba(60, 64, 67, 0.3), 0px 1px 3px 1px rgba(60, 64, 67, 0.15);\n",
              "      fill: #174EA6;\n",
              "    }\n",
              "\n",
              "    [theme=dark] .colab-df-convert {\n",
              "      background-color: #3B4455;\n",
              "      fill: #D2E3FC;\n",
              "    }\n",
              "\n",
              "    [theme=dark] .colab-df-convert:hover {\n",
              "      background-color: #434B5C;\n",
              "      box-shadow: 0px 1px 3px 1px rgba(0, 0, 0, 0.15);\n",
              "      filter: drop-shadow(0px 1px 2px rgba(0, 0, 0, 0.3));\n",
              "      fill: #FFFFFF;\n",
              "    }\n",
              "  </style>\n",
              "\n",
              "      <script>\n",
              "        const buttonEl =\n",
              "          document.querySelector('#df-06922ed2-a659-4c5c-a936-cb2afc9cdb51 button.colab-df-convert');\n",
              "        buttonEl.style.display =\n",
              "          google.colab.kernel.accessAllowed ? 'block' : 'none';\n",
              "\n",
              "        async function convertToInteractive(key) {\n",
              "          const element = document.querySelector('#df-06922ed2-a659-4c5c-a936-cb2afc9cdb51');\n",
              "          const dataTable =\n",
              "            await google.colab.kernel.invokeFunction('convertToInteractive',\n",
              "                                                     [key], {});\n",
              "          if (!dataTable) return;\n",
              "\n",
              "          const docLinkHtml = 'Like what you see? Visit the ' +\n",
              "            '<a target=\"_blank\" href=https://colab.research.google.com/notebooks/data_table.ipynb>data table notebook</a>'\n",
              "            + ' to learn more about interactive tables.';\n",
              "          element.innerHTML = '';\n",
              "          dataTable['output_type'] = 'display_data';\n",
              "          await google.colab.output.renderOutput(dataTable, element);\n",
              "          const docLink = document.createElement('div');\n",
              "          docLink.innerHTML = docLinkHtml;\n",
              "          element.appendChild(docLink);\n",
              "        }\n",
              "      </script>\n",
              "    </div>\n",
              "  </div>\n",
              "  "
            ]
          },
          "metadata": {},
          "execution_count": 18
        }
      ]
    },
    {
      "cell_type": "markdown",
      "source": [
        "* 감성어 사전과 매칭된 단어별로 극성을 정수타입으로 바꿔서 긍정, 중립, 부정으로 범주화"
      ],
      "metadata": {
        "id": "Waf1sFQdODmQ"
      }
    },
    {
      "cell_type": "code",
      "source": [
        "# 감성어 극성( -2,-1,0,1,2 ) 정수타입으로 바꾸기 \n",
        "sentword_df['polarity'] = sentword_df['polarity'].astype(int)\n",
        "\n",
        "# 긍, 부정 라벨링\n",
        "sentword_df['senti_cat'] = list(map(lambda x:'긍정' if  x> 0 else '부정' if x < 0 else '중립', sentword_df.polarity))\n",
        "\n"
      ],
      "metadata": {
        "id": "jFL5_V72ZWO0"
      },
      "execution_count": 19,
      "outputs": []
    },
    {
      "cell_type": "code",
      "source": [
        "sentword_df.head()"
      ],
      "metadata": {
        "id": "SbsHvGZIZh_D",
        "colab": {
          "base_uri": "https://localhost:8080/",
          "height": 206
        },
        "outputId": "408bfaf2-c6d6-43f4-b5c7-ab3c244eddd5"
      },
      "execution_count": 20,
      "outputs": [
        {
          "output_type": "execute_result",
          "data": {
            "text/plain": [
              "  word word_root  polarity  count senti_cat\n",
              "0   감사        감사         2      1        긍정\n",
              "1   강추        강추         2      1        긍정\n",
              "2   기대        기대         1      2        긍정\n",
              "3   능력        능력         1      1        긍정\n",
              "4   만족        만족         2      1        긍정"
            ],
            "text/html": [
              "\n",
              "  <div id=\"df-a160afb5-eba5-4025-816a-d6f96bb97dae\">\n",
              "    <div class=\"colab-df-container\">\n",
              "      <div>\n",
              "<style scoped>\n",
              "    .dataframe tbody tr th:only-of-type {\n",
              "        vertical-align: middle;\n",
              "    }\n",
              "\n",
              "    .dataframe tbody tr th {\n",
              "        vertical-align: top;\n",
              "    }\n",
              "\n",
              "    .dataframe thead th {\n",
              "        text-align: right;\n",
              "    }\n",
              "</style>\n",
              "<table border=\"1\" class=\"dataframe\">\n",
              "  <thead>\n",
              "    <tr style=\"text-align: right;\">\n",
              "      <th></th>\n",
              "      <th>word</th>\n",
              "      <th>word_root</th>\n",
              "      <th>polarity</th>\n",
              "      <th>count</th>\n",
              "      <th>senti_cat</th>\n",
              "    </tr>\n",
              "  </thead>\n",
              "  <tbody>\n",
              "    <tr>\n",
              "      <th>0</th>\n",
              "      <td>감사</td>\n",
              "      <td>감사</td>\n",
              "      <td>2</td>\n",
              "      <td>1</td>\n",
              "      <td>긍정</td>\n",
              "    </tr>\n",
              "    <tr>\n",
              "      <th>1</th>\n",
              "      <td>강추</td>\n",
              "      <td>강추</td>\n",
              "      <td>2</td>\n",
              "      <td>1</td>\n",
              "      <td>긍정</td>\n",
              "    </tr>\n",
              "    <tr>\n",
              "      <th>2</th>\n",
              "      <td>기대</td>\n",
              "      <td>기대</td>\n",
              "      <td>1</td>\n",
              "      <td>2</td>\n",
              "      <td>긍정</td>\n",
              "    </tr>\n",
              "    <tr>\n",
              "      <th>3</th>\n",
              "      <td>능력</td>\n",
              "      <td>능력</td>\n",
              "      <td>1</td>\n",
              "      <td>1</td>\n",
              "      <td>긍정</td>\n",
              "    </tr>\n",
              "    <tr>\n",
              "      <th>4</th>\n",
              "      <td>만족</td>\n",
              "      <td>만족</td>\n",
              "      <td>2</td>\n",
              "      <td>1</td>\n",
              "      <td>긍정</td>\n",
              "    </tr>\n",
              "  </tbody>\n",
              "</table>\n",
              "</div>\n",
              "      <button class=\"colab-df-convert\" onclick=\"convertToInteractive('df-a160afb5-eba5-4025-816a-d6f96bb97dae')\"\n",
              "              title=\"Convert this dataframe to an interactive table.\"\n",
              "              style=\"display:none;\">\n",
              "        \n",
              "  <svg xmlns=\"http://www.w3.org/2000/svg\" height=\"24px\"viewBox=\"0 0 24 24\"\n",
              "       width=\"24px\">\n",
              "    <path d=\"M0 0h24v24H0V0z\" fill=\"none\"/>\n",
              "    <path d=\"M18.56 5.44l.94 2.06.94-2.06 2.06-.94-2.06-.94-.94-2.06-.94 2.06-2.06.94zm-11 1L8.5 8.5l.94-2.06 2.06-.94-2.06-.94L8.5 2.5l-.94 2.06-2.06.94zm10 10l.94 2.06.94-2.06 2.06-.94-2.06-.94-.94-2.06-.94 2.06-2.06.94z\"/><path d=\"M17.41 7.96l-1.37-1.37c-.4-.4-.92-.59-1.43-.59-.52 0-1.04.2-1.43.59L10.3 9.45l-7.72 7.72c-.78.78-.78 2.05 0 2.83L4 21.41c.39.39.9.59 1.41.59.51 0 1.02-.2 1.41-.59l7.78-7.78 2.81-2.81c.8-.78.8-2.07 0-2.86zM5.41 20L4 18.59l7.72-7.72 1.47 1.35L5.41 20z\"/>\n",
              "  </svg>\n",
              "      </button>\n",
              "      \n",
              "  <style>\n",
              "    .colab-df-container {\n",
              "      display:flex;\n",
              "      flex-wrap:wrap;\n",
              "      gap: 12px;\n",
              "    }\n",
              "\n",
              "    .colab-df-convert {\n",
              "      background-color: #E8F0FE;\n",
              "      border: none;\n",
              "      border-radius: 50%;\n",
              "      cursor: pointer;\n",
              "      display: none;\n",
              "      fill: #1967D2;\n",
              "      height: 32px;\n",
              "      padding: 0 0 0 0;\n",
              "      width: 32px;\n",
              "    }\n",
              "\n",
              "    .colab-df-convert:hover {\n",
              "      background-color: #E2EBFA;\n",
              "      box-shadow: 0px 1px 2px rgba(60, 64, 67, 0.3), 0px 1px 3px 1px rgba(60, 64, 67, 0.15);\n",
              "      fill: #174EA6;\n",
              "    }\n",
              "\n",
              "    [theme=dark] .colab-df-convert {\n",
              "      background-color: #3B4455;\n",
              "      fill: #D2E3FC;\n",
              "    }\n",
              "\n",
              "    [theme=dark] .colab-df-convert:hover {\n",
              "      background-color: #434B5C;\n",
              "      box-shadow: 0px 1px 3px 1px rgba(0, 0, 0, 0.15);\n",
              "      filter: drop-shadow(0px 1px 2px rgba(0, 0, 0, 0.3));\n",
              "      fill: #FFFFFF;\n",
              "    }\n",
              "  </style>\n",
              "\n",
              "      <script>\n",
              "        const buttonEl =\n",
              "          document.querySelector('#df-a160afb5-eba5-4025-816a-d6f96bb97dae button.colab-df-convert');\n",
              "        buttonEl.style.display =\n",
              "          google.colab.kernel.accessAllowed ? 'block' : 'none';\n",
              "\n",
              "        async function convertToInteractive(key) {\n",
              "          const element = document.querySelector('#df-a160afb5-eba5-4025-816a-d6f96bb97dae');\n",
              "          const dataTable =\n",
              "            await google.colab.kernel.invokeFunction('convertToInteractive',\n",
              "                                                     [key], {});\n",
              "          if (!dataTable) return;\n",
              "\n",
              "          const docLinkHtml = 'Like what you see? Visit the ' +\n",
              "            '<a target=\"_blank\" href=https://colab.research.google.com/notebooks/data_table.ipynb>data table notebook</a>'\n",
              "            + ' to learn more about interactive tables.';\n",
              "          element.innerHTML = '';\n",
              "          dataTable['output_type'] = 'display_data';\n",
              "          await google.colab.output.renderOutput(dataTable, element);\n",
              "          const docLink = document.createElement('div');\n",
              "          docLink.innerHTML = docLinkHtml;\n",
              "          element.appendChild(docLink);\n",
              "        }\n",
              "      </script>\n",
              "    </div>\n",
              "  </div>\n",
              "  "
            ]
          },
          "metadata": {},
          "execution_count": 20
        }
      ]
    },
    {
      "cell_type": "markdown",
      "source": [
        "##### 한글워드클라우드를 위해 한글 폰트 설치"
      ],
      "metadata": {
        "id": "Y95kfxsrOdGq"
      }
    },
    {
      "cell_type": "code",
      "source": [
        "!apt -qq -y install fonts-nanum \n"
      ],
      "metadata": {
        "id": "yAi99E9iKBmd",
        "colab": {
          "base_uri": "https://localhost:8080/"
        },
        "outputId": "1c0c1469-42b1-4d3b-a4bc-551f5e1c2380"
      },
      "execution_count": 1,
      "outputs": [
        {
          "output_type": "stream",
          "name": "stdout",
          "text": [
            "fonts-nanum is already the newest version (20170925-1).\n",
            "The following package was automatically installed and is no longer required:\n",
            "  libnvidia-common-460\n",
            "Use 'apt autoremove' to remove it.\n",
            "0 upgraded, 0 newly installed, 0 to remove and 34 not upgraded.\n"
          ]
        }
      ]
    },
    {
      "cell_type": "code",
      "source": [
        "import matplotlib as mpl\n",
        "import matplotlib.pyplot as plt\n",
        "import matplotlib.font_manager as fm\n",
        "\n",
        "# 높은 해상도로 폰트 주변이 흐릿하게 보이는 것을 방지\n",
        "%config InlineBamkend.figure_format = 'retina'\n",
        "\n",
        "# matplotlib가 사용하는 폰트 경로 확인\n",
        "fontpath = '/usr/share/fonts/truetype/nanum/NanumBarunGothic.ttf'\n",
        "\n",
        "# 폰트 경로를 전달해 폰트이름을 가져옴\n",
        "font_name = fm.FontProperties(fname=fontpath, size=10).get_name() \n",
        "\n",
        "# matplotlib가 사용할 글꼴을 나눔바른고딕으로 변경\n",
        "plt.rc('font', family=font_name)\n",
        "\n",
        "# 폰트 매니저 리빌딩\n",
        "fm._rebuild()\n"
      ],
      "metadata": {
        "id": "B8Afy5dwKBXu"
      },
      "execution_count": 21,
      "outputs": []
    },
    {
      "cell_type": "markdown",
      "source": [
        "##### 워드클라우드 그리기(긍정과 부정을 구분)"
      ],
      "metadata": {
        "id": "pbI9ssu1Oo3-"
      }
    },
    {
      "cell_type": "code",
      "source": [
        "!pip install wordcloud\n"
      ],
      "metadata": {
        "id": "eLA6Qc1hL1B8",
        "colab": {
          "base_uri": "https://localhost:8080/"
        },
        "outputId": "076c45db-7de0-4a69-df50-31d8cb24010b"
      },
      "execution_count": 22,
      "outputs": [
        {
          "output_type": "stream",
          "name": "stdout",
          "text": [
            "Looking in indexes: https://pypi.org/simple, https://us-python.pkg.dev/colab-wheels/public/simple/\n",
            "Requirement already satisfied: wordcloud in /usr/local/lib/python3.8/dist-packages (1.8.2.2)\n",
            "Requirement already satisfied: numpy>=1.6.1 in /usr/local/lib/python3.8/dist-packages (from wordcloud) (1.21.6)\n",
            "Requirement already satisfied: matplotlib in /usr/local/lib/python3.8/dist-packages (from wordcloud) (3.2.2)\n",
            "Requirement already satisfied: pillow in /usr/local/lib/python3.8/dist-packages (from wordcloud) (7.1.2)\n",
            "Requirement already satisfied: cycler>=0.10 in /usr/local/lib/python3.8/dist-packages (from matplotlib->wordcloud) (0.11.0)\n",
            "Requirement already satisfied: python-dateutil>=2.1 in /usr/local/lib/python3.8/dist-packages (from matplotlib->wordcloud) (2.8.2)\n",
            "Requirement already satisfied: kiwisolver>=1.0.1 in /usr/local/lib/python3.8/dist-packages (from matplotlib->wordcloud) (1.4.4)\n",
            "Requirement already satisfied: pyparsing!=2.0.4,!=2.1.2,!=2.1.6,>=2.0.1 in /usr/local/lib/python3.8/dist-packages (from matplotlib->wordcloud) (3.0.9)\n",
            "Requirement already satisfied: six>=1.5 in /usr/local/lib/python3.8/dist-packages (from python-dateutil>=2.1->matplotlib->wordcloud) (1.15.0)\n"
          ]
        }
      ]
    },
    {
      "cell_type": "code",
      "source": [
        "class SimpleGroupedColorFunc(object):\n",
        "    def __init__(self, color_to_words, default_color):\n",
        "        self.word_to_color = {word: color\n",
        "                              for (color, words) in color_to_words.items()\n",
        "                              for word in words}\n",
        "\n",
        "        self.default_color = default_color\n",
        "\n",
        "    def __call__(self, word, **kwargs):\n",
        "        return self.word_to_color.get(word, self.default_color)\n",
        "    \n",
        "color_to_words = {\n",
        "    'orange' : list(sentword_df.loc[sentword_df.senti_cat == '부정', 'word']),\n",
        "    'navy': list(sentword_df.loc[sentword_df.senti_cat == '긍정', 'word'])\n",
        "}\n",
        "default_color = 'grey'\n",
        "\n",
        "\n",
        "import matplotlib.pyplot as plt\n",
        "from wordcloud import WordCloud\n",
        "\n",
        "simple_color_func = SimpleGroupedColorFunc(color_to_words, default_color)\n",
        "wc = WordCloud(font_path='./font/NanumBarunGothic.ttf', scale=2.0, max_font_size=250, color_func = simple_color_func,\n",
        "               background_color=\"white\").generate_from_frequencies(token_counter)\n",
        "plt.figure(figsize = (16,  16))\n",
        "plt.imshow(wc)\n",
        "plt.axis(\"off\")"
      ],
      "metadata": {
        "colab": {
          "base_uri": "https://localhost:8080/",
          "height": 470
        },
        "id": "Wqrm7PTATC_l",
        "outputId": "a4876c44-931b-4e6f-bfaa-407200e388f0"
      },
      "execution_count": 23,
      "outputs": [
        {
          "output_type": "execute_result",
          "data": {
            "text/plain": [
              "(-0.5, 799.5, 399.5, -0.5)"
            ]
          },
          "metadata": {},
          "execution_count": 23
        },
        {
          "output_type": "display_data",
          "data": {
            "text/plain": [
              "<Figure size 1152x1152 with 1 Axes>"
            ],
            "image/png": "[encoded data removed]"
          },
          "metadata": {
            "needs_background": "light"
          }
        }
      ]
    }
  ]
}