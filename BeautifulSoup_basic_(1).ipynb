{
  "nbformat": 4,
  "nbformat_minor": 0,
  "metadata": {
    "colab": {
      "provenance": [],
      "include_colab_link": true
    },
    "kernelspec": {
      "name": "python3",
      "display_name": "Python 3"
    },
    "language_info": {
      "name": "python"
    }
  },
  "cells": [
    {
      "cell_type": "markdown",
      "metadata": {
        "id": "view-in-github",
        "colab_type": "text"
      },
      "source": [
        "<a href=\"https://colab.research.google.com/github/kanakhan/GMSW/blob/main/BeautifulSoup_basic_(1).ipynb\" target=\"_parent\"><img src=\"https://colab.research.google.com/assets/colab-badge.svg\" alt=\"Open In Colab\"/></a>"
      ]
    },
    {
      "cell_type": "markdown",
      "source": [
        "## 1. BeautifulSoup의 개념"
      ],
      "metadata": {
        "id": "MtnMe6R043LF"
      }
    },
    {
      "cell_type": "markdown",
      "source": [
        "* BetifulSoup은 파이썬(python)에서 html과 xml 파일에서 데이터나 자료를 뽑아오는 라이브러리\n",
        "\n",
        "*  BeautifulSoup을 이용해 HTML과 XML의 트리 구조를 탐색, 검색, 변경 가능.\n",
        "\n",
        "* 이렇게 문서의 구조나 패턴, 순서를 추출해 탐색 가능하도록 가공하는 작업을 파싱(parsing)이라고 함.\n",
        "\n",
        "\n",
        "* 파싱 작업을 하는 도구가 파서(parser)이고, 파서(parser)는 HTML 문서 등에서 테그(tag) 등을 입력받은 구문을 해석할 수 있는 단위와 여로 부분으로 분할하는 역할\n",
        "\n",
        "* BeutifulSoup은 파이썬에서 웹 문서를 탐색할 수 있도록 구조화시키는 파서(parser)의 역할을 한다고 할 수 있다."
      ],
      "metadata": {
        "id": "ZeFQSBYT44O1"
      }
    },
    {
      "cell_type": "markdown",
      "source": [
        "#### HTML 문서 만들기"
      ],
      "metadata": {
        "id": "k16Z2m1744Y8"
      }
    },
    {
      "cell_type": "code",
      "source": [
        "%%writefile schoolbell.html\n",
        "\n",
        "<!DOCTYPE html>\n",
        "<html>\n",
        "<head>\n",
        "  <title>Homepage title</title>\n",
        "</head>\n",
        "<body>\n",
        "  <h1>Head title</h1>\n",
        "  <p>Head Title</p>\n",
        "  <div>\n",
        "    <a href = \"www.google.com\">Google</a>\n",
        "  </div>\n",
        "  <div class='class1'>\n",
        "    <a href=\"www.naver.com\">naver</a>\n",
        "  </div>\n",
        "  <div>\n",
        "    <p id = \"title\">학교종이 땡땡떙</p>\n",
        "    <p id = \"content\">학교종이 땡땡땡 어서 모이자.<br/>선생님이 우리를 기다리신다.<br/>\n",
        "    </p>\n",
        "    <p id = \"content\">학교종이 땡땡땡 어서모이자.<br/>사이좋게 오늘도 공부잘하자.<br/>\n",
        "    </p>\n",
        "  </div>\n",
        "  </body>\n",
        "  </html>\n",
        "\n",
        "\n"
      ],
      "metadata": {
        "colab": {
          "base_uri": "https://localhost:8080/"
        },
        "id": "014umR0afTtt",
        "outputId": "5fa4acbd-768d-42bf-f022-d0505bc37f6d"
      },
      "execution_count": 1,
      "outputs": [
        {
          "output_type": "stream",
          "name": "stdout",
          "text": [
            "Writing schoolbell.html\n"
          ]
        }
      ]
    },
    {
      "cell_type": "markdown",
      "source": [
        "## 2. BeautifulSoup으로 html 파싱(parsing)\n",
        "\n"
      ],
      "metadata": {
        "id": "tlw8XSfh44dN"
      }
    },
    {
      "cell_type": "code",
      "source": [
        "from bs4 import BeautifulSoup\n"
      ],
      "metadata": {
        "id": "uHGLj0duiK4-"
      },
      "execution_count": 2,
      "outputs": []
    },
    {
      "cell_type": "code",
      "source": [
        "with open(\"schoolbell.html\") as sb:\n",
        "  soup = BeautifulSoup(sb, 'html.parser')"
      ],
      "metadata": {
        "id": "WHYOO013iTN9"
      },
      "execution_count": 3,
      "outputs": []
    },
    {
      "cell_type": "code",
      "source": [
        "soup"
      ],
      "metadata": {
        "colab": {
          "base_uri": "https://localhost:8080/"
        },
        "id": "JLnkIv4hiycG",
        "outputId": "c6fd2502-8028-449e-986d-52a9013afeb6"
      },
      "execution_count": 4,
      "outputs": [
        {
          "output_type": "execute_result",
          "data": {
            "text/plain": [
              "\n",
              "<!DOCTYPE html>\n",
              "\n",
              "<html>\n",
              "<head>\n",
              "<title>Homepage title</title>\n",
              "</head>\n",
              "<body>\n",
              "<h1>Head title</h1>\n",
              "<p>Head Title</p>\n",
              "<div>\n",
              "<a href=\"www.google.com\">Google</a>\n",
              "</div>\n",
              "<div class=\"class1\">\n",
              "<a href=\"www.naver.com\">naver</a>\n",
              "</div>\n",
              "<div>\n",
              "<p id=\"title\">학교종이 땡땡떙</p>\n",
              "<p id=\"content\">학교종이 땡땡땡 어서 모이자.<br/>선생님이 우리를 기다리신다.<br/>\n",
              "</p>\n",
              "<p id=\"content\">학교종이 땡땡땡 어서모이자.<br/>사이좋게 오늘도 공부잘하자.<br/>\n",
              "</p>\n",
              "</div>\n",
              "</body>\n",
              "</html>"
            ]
          },
          "metadata": {},
          "execution_count": 4
        }
      ]
    },
    {
      "cell_type": "markdown",
      "source": [
        "## 3. BeautifulSoup으로 태그(tag) 파싱(parsing)"
      ],
      "metadata": {
        "id": "V6ooaIS844hm"
      }
    },
    {
      "cell_type": "code",
      "source": [
        "soup.title"
      ],
      "metadata": {
        "id": "RxcBXM3J9KQk",
        "colab": {
          "base_uri": "https://localhost:8080/"
        },
        "outputId": "c3ce9fcc-aa51-45ab-9c01-0ab2250d6e06"
      },
      "execution_count": 5,
      "outputs": [
        {
          "output_type": "execute_result",
          "data": {
            "text/plain": [
              "<title>Homepage title</title>"
            ]
          },
          "metadata": {},
          "execution_count": 5
        }
      ]
    },
    {
      "cell_type": "code",
      "source": [
        "soup.h1"
      ],
      "metadata": {
        "id": "0ulxJ7fJ9KL8",
        "colab": {
          "base_uri": "https://localhost:8080/"
        },
        "outputId": "9143a039-e6d0-49bb-918a-ece4c4f73b88"
      },
      "execution_count": 6,
      "outputs": [
        {
          "output_type": "execute_result",
          "data": {
            "text/plain": [
              "<h1>Head title</h1>"
            ]
          },
          "metadata": {},
          "execution_count": 6
        }
      ]
    },
    {
      "cell_type": "code",
      "source": [
        "soup.div"
      ],
      "metadata": {
        "id": "g9N8zxlE9KGd",
        "colab": {
          "base_uri": "https://localhost:8080/"
        },
        "outputId": "17cf6215-3744-4865-ea31-e74e49fcc026"
      },
      "execution_count": 7,
      "outputs": [
        {
          "output_type": "execute_result",
          "data": {
            "text/plain": [
              "<div>\n",
              "<a href=\"www.google.com\">Google</a>\n",
              "</div>"
            ]
          },
          "metadata": {},
          "execution_count": 7
        }
      ]
    },
    {
      "cell_type": "code",
      "source": [
        "soup.a"
      ],
      "metadata": {
        "colab": {
          "base_uri": "https://localhost:8080/"
        },
        "id": "I4NPV9D-jJ1m",
        "outputId": "7c47f963-c5c6-458c-ae2a-8ce05ac88722"
      },
      "execution_count": 8,
      "outputs": [
        {
          "output_type": "execute_result",
          "data": {
            "text/plain": [
              "<a href=\"www.google.com\">Google</a>"
            ]
          },
          "metadata": {},
          "execution_count": 8
        }
      ]
    },
    {
      "cell_type": "code",
      "source": [
        "soup.title.name"
      ],
      "metadata": {
        "colab": {
          "base_uri": "https://localhost:8080/",
          "height": 36
        },
        "id": "3RPq-i6WjLae",
        "outputId": "d7625b63-e024-4bdd-bf40-a003f2575f5b"
      },
      "execution_count": 9,
      "outputs": [
        {
          "output_type": "execute_result",
          "data": {
            "text/plain": [
              "'title'"
            ],
            "application/vnd.google.colaboratory.intrinsic+json": {
              "type": "string"
            }
          },
          "metadata": {},
          "execution_count": 9
        }
      ]
    },
    {
      "cell_type": "markdown",
      "source": [
        "## 4. BeautifulSoup으로 태그(tag) 검색: find(), find_all(), select()"
      ],
      "metadata": {
        "id": "7Qy9SARr9MDk"
      }
    },
    {
      "cell_type": "markdown",
      "source": [
        "* find() : 해당 조건에 맞는 하나의 테그를 가져옴"
      ],
      "metadata": {
        "id": "t8RjK3vX9MAX"
      }
    },
    {
      "cell_type": "code",
      "source": [
        "soup.find = soup.find(\"div\")\n",
        "print(soup.find)"
      ],
      "metadata": {
        "id": "A9Jkj9Ly9SSG",
        "colab": {
          "base_uri": "https://localhost:8080/"
        },
        "outputId": "3f719aec-18ce-4a68-a1c4-c2748c6cf673"
      },
      "execution_count": 10,
      "outputs": [
        {
          "output_type": "stream",
          "name": "stdout",
          "text": [
            "<div>\n",
            "<a href=\"www.google.com\">Google</a>\n",
            "</div>\n"
          ]
        }
      ]
    },
    {
      "cell_type": "markdown",
      "source": [
        "* findall() : 해당 조건에 맞는 모든 테그를 가져와 리스트(list) 자료 형태로 반환"
      ],
      "metadata": {
        "id": "mme968zk9L78"
      }
    },
    {
      "cell_type": "code",
      "source": [
        "soup_findall = soup.find_all(\"div\")\n",
        "print(soup_findall)"
      ],
      "metadata": {
        "id": "sgQCPuBl9h6i",
        "colab": {
          "base_uri": "https://localhost:8080/"
        },
        "outputId": "e238b5cd-9404-4bcf-d775-0564044f32e0"
      },
      "execution_count": 11,
      "outputs": [
        {
          "output_type": "stream",
          "name": "stdout",
          "text": [
            "[<div>\n",
            "<a href=\"www.google.com\">Google</a>\n",
            "</div>, <div class=\"class1\">\n",
            "<a href=\"www.naver.com\">naver</a>\n",
            "</div>, <div>\n",
            "<p id=\"title\">학교종이 땡땡떙</p>\n",
            "<p id=\"content\">학교종이 땡땡땡 어서 모이자.<br/>선생님이 우리를 기다리신다.<br/>\n",
            "</p>\n",
            "<p id=\"content\">학교종이 땡땡땡 어서모이자.<br/>사이좋게 오늘도 공부잘하자.<br/>\n",
            "</p>\n",
            "</div>]\n"
          ]
        }
      ]
    },
    {
      "cell_type": "markdown",
      "source": [
        "* select(): find_all과 거의 같지만, 경로지정이나 id와 class를 이용할때는 CSS 선택자와 같은 형식(#, .)으로 태그를 선택"
      ],
      "metadata": {
        "id": "YAMBECrZ9i3i"
      }
    },
    {
      "cell_type": "code",
      "source": [
        "soup_select = soup.select(\"div\")\n",
        "print(soup_select)"
      ],
      "metadata": {
        "colab": {
          "base_uri": "https://localhost:8080/"
        },
        "id": "JA3_8pZkj_02",
        "outputId": "bbf1dc09-eb69-4f8b-d282-328a6851f178"
      },
      "execution_count": 12,
      "outputs": [
        {
          "output_type": "stream",
          "name": "stdout",
          "text": [
            "[<div>\n",
            "<a href=\"www.google.com\">Google</a>\n",
            "</div>, <div class=\"class1\">\n",
            "<a href=\"www.naver.com\">naver</a>\n",
            "</div>, <div>\n",
            "<p id=\"title\">학교종이 땡땡떙</p>\n",
            "<p id=\"content\">학교종이 땡땡땡 어서 모이자.<br/>선생님이 우리를 기다리신다.<br/>\n",
            "</p>\n",
            "<p id=\"content\">학교종이 땡땡땡 어서모이자.<br/>사이좋게 오늘도 공부잘하자.<br/>\n",
            "</p>\n",
            "</div>]\n"
          ]
        }
      ]
    },
    {
      "cell_type": "markdown",
      "source": [
        "## 5. BeautifulSoup으로 id나 class를 이용해 태그(tag) 검색"
      ],
      "metadata": {
        "id": "fT4BX3CzBJ4v"
      }
    },
    {
      "cell_type": "code",
      "source": [
        "find_all('태그명', {'id' : 'id명'}\n",
        "find_all('태그명', {'class' : 'class명'}\n",
        "\n",
        "select('태그명#id명 태그명)\n",
        "select('태그명.class명 태크명) \n"
      ],
      "metadata": {
        "id": "9nmOEkX7kvCX"
      },
      "execution_count": null,
      "outputs": []
    },
    {
      "cell_type": "markdown",
      "source": [
        "* id를 이용"
      ],
      "metadata": {
        "id": "ya2u_v3SBJ1w"
      }
    },
    {
      "cell_type": "code",
      "source": [
        "find_id = soup.find_all('p', {'id':'title'})\n",
        "print(find_id)"
      ],
      "metadata": {
        "id": "956_YkUVEomh",
        "colab": {
          "base_uri": "https://localhost:8080/"
        },
        "outputId": "e655811c-81d5-410b-feb2-82be6445ae4f"
      },
      "execution_count": 13,
      "outputs": [
        {
          "output_type": "stream",
          "name": "stdout",
          "text": [
            "[<p id=\"title\">학교종이 땡땡떙</p>]\n"
          ]
        }
      ]
    },
    {
      "cell_type": "code",
      "source": [
        "select_id = soup.select('p#title')\n",
        "print(select_id)"
      ],
      "metadata": {
        "colab": {
          "base_uri": "https://localhost:8080/"
        },
        "id": "63bZfFr3laJe",
        "outputId": "93aaaa0b-fd17-4264-b3f9-f8e5317604c2"
      },
      "execution_count": 14,
      "outputs": [
        {
          "output_type": "stream",
          "name": "stdout",
          "text": [
            "[<p id=\"title\">학교종이 땡땡떙</p>]\n"
          ]
        }
      ]
    },
    {
      "cell_type": "code",
      "source": [
        "find_class = soup.find_all('div', {'class': 'class1'})\n",
        "print(find_class)"
      ],
      "metadata": {
        "colab": {
          "base_uri": "https://localhost:8080/"
        },
        "id": "d6AjjO3nlthH",
        "outputId": "4bc1fc12-fcf7-4468-b37a-236c2cc38137"
      },
      "execution_count": 15,
      "outputs": [
        {
          "output_type": "stream",
          "name": "stdout",
          "text": [
            "[<div class=\"class1\">\n",
            "<a href=\"www.naver.com\">naver</a>\n",
            "</div>]\n"
          ]
        }
      ]
    },
    {
      "cell_type": "code",
      "source": [],
      "metadata": {
        "id": "hSGgW3lYlynm"
      },
      "execution_count": null,
      "outputs": []
    },
    {
      "cell_type": "markdown",
      "source": [
        "* class를 이용"
      ],
      "metadata": {
        "id": "zHmM0Ws2BPep"
      }
    },
    {
      "cell_type": "code",
      "source": [
        "find_class = soup.find_all('div', {'class': 'class1'})\n",
        "print(find_class)"
      ],
      "metadata": {
        "id": "ks_aqvs-ErGC",
        "colab": {
          "base_uri": "https://localhost:8080/"
        },
        "outputId": "6ba2a43a-3bf0-4d01-c265-007831383f47"
      },
      "execution_count": 16,
      "outputs": [
        {
          "output_type": "stream",
          "name": "stdout",
          "text": [
            "[<div class=\"class1\">\n",
            "<a href=\"www.naver.com\">naver</a>\n",
            "</div>]\n"
          ]
        }
      ]
    },
    {
      "cell_type": "code",
      "source": [
        "select_class = soup.select('div.class1 a')\n",
        "print(select_class)"
      ],
      "metadata": {
        "colab": {
          "base_uri": "https://localhost:8080/"
        },
        "id": "5jR6sfvIl1Hf",
        "outputId": "161971d6-ef0a-4ee7-b79c-bdeb16012b97"
      },
      "execution_count": 18,
      "outputs": [
        {
          "output_type": "stream",
          "name": "stdout",
          "text": [
            "[<a href=\"www.naver.com\">naver</a>]\n"
          ]
        }
      ]
    },
    {
      "cell_type": "markdown",
      "source": [
        "## 6. BeautifulSoup으로 링크(link) 태그(tag) 검색"
      ],
      "metadata": {
        "id": "92KBcREPBJyf"
      }
    },
    {
      "cell_type": "markdown",
      "source": [
        "* HTML 문서에서 하이퍼링크(hyperlink)의 링크 테그(tag)는 < a >와 속성 \"href\"를 사용\n",
        "* 링크 주소만 가져오고 싶다면 먼저 find_all('a')를 통해 태그 < a >를 가져온 다음에 get('href') 메서드를 이용해 'herf' 속성을 가진 내용을 가져옴"
      ],
      "metadata": {
        "id": "alxWfzCYBJvI"
      }
    },
    {
      "cell_type": "code",
      "source": [
        "find_link = soup.find_all('a')\n",
        "print(find_link)"
      ],
      "metadata": {
        "id": "G493rW_vGEV1",
        "colab": {
          "base_uri": "https://localhost:8080/"
        },
        "outputId": "b00da017-3a9a-4653-b493-431f1e08f15d"
      },
      "execution_count": 21,
      "outputs": [
        {
          "output_type": "stream",
          "name": "stdout",
          "text": [
            "[<a href=\"www.google.com\">Google</a>, <a href=\"www.naver.com\">naver</a>]\n"
          ]
        }
      ]
    },
    {
      "cell_type": "code",
      "source": [
        "find_link = soup.find_all('a')\n",
        "for link in find_link:\n",
        "  print(link.get('href'))"
      ],
      "metadata": {
        "colab": {
          "base_uri": "https://localhost:8080/"
        },
        "id": "Vq3tJqzymhpP",
        "outputId": "f1afb25d-e2a2-437f-b708-8ae20c2f09e4"
      },
      "execution_count": 22,
      "outputs": [
        {
          "output_type": "stream",
          "name": "stdout",
          "text": [
            "www.google.com\n",
            "www.naver.com\n"
          ]
        }
      ]
    },
    {
      "cell_type": "code",
      "source": [
        "find_link = soup.find_all('a')\n",
        "for link in find_link:\n",
        "  print(link['href'])"
      ],
      "metadata": {
        "colab": {
          "base_uri": "https://localhost:8080/"
        },
        "id": "Vj8MPuHvnR__",
        "outputId": "3de574c6-bf26-41b4-997a-32226fc46286"
      },
      "execution_count": 23,
      "outputs": [
        {
          "output_type": "stream",
          "name": "stdout",
          "text": [
            "www.google.com\n",
            "www.naver.com\n"
          ]
        }
      ]
    },
    {
      "cell_type": "markdown",
      "source": [
        "## 7. BeautifulSoup으로 태그(tag) 내 텍스트 가져오기"
      ],
      "metadata": {
        "id": "jHld1x8TBJrQ"
      }
    },
    {
      "cell_type": "code",
      "source": [
        "find_text = soup.find_all('div')\n",
        "for text in find_text:\n",
        "  print(text.get_text())\n"
      ],
      "metadata": {
        "colab": {
          "base_uri": "https://localhost:8080/"
        },
        "id": "TAOIjpAqng5P",
        "outputId": "bee73d05-19e9-499c-a050-d57946e740f8"
      },
      "execution_count": 24,
      "outputs": [
        {
          "output_type": "stream",
          "name": "stdout",
          "text": [
            "\n",
            "Google\n",
            "\n",
            "\n",
            "naver\n",
            "\n",
            "\n",
            "학교종이 땡땡떙\n",
            "학교종이 땡땡땡 어서 모이자.선생님이 우리를 기다리신다.\n",
            "\n",
            "학교종이 땡땡땡 어서모이자.사이좋게 오늘도 공부잘하자.\n",
            "\n",
            "\n"
          ]
        }
      ]
    },
    {
      "cell_type": "code",
      "source": [],
      "metadata": {
        "id": "d0eAu8XYnjR_"
      },
      "execution_count": null,
      "outputs": []
    },
    {
      "cell_type": "markdown",
      "source": [
        "* BeautifulSoup을 이용해 태그내에 있는 텍스트만 추출하기 위해서는 get_text()를 사용\n",
        "* find_all()이나 select()로 태그 부분 전체를 가져온 다음 get_text()를 이용해 텍스트 부분만 다시 추출"
      ],
      "metadata": {
        "id": "t_gA2lVyGXtX"
      }
    },
    {
      "cell_type": "code",
      "source": [
        "contents = soup.find_all('p', {'id': 'content'})\n",
        "for content in contents:                         \n",
        "  print(content.get_text())     \n"
      ],
      "metadata": {
        "colab": {
          "base_uri": "https://localhost:8080/"
        },
        "id": "OW4zsvLnnjs3",
        "outputId": "a9ceb6dc-9392-434d-8861-2407cb133777"
      },
      "execution_count": 25,
      "outputs": [
        {
          "output_type": "stream",
          "name": "stdout",
          "text": [
            "학교종이 땡땡땡 어서 모이자.선생님이 우리를 기다리신다.\n",
            "\n",
            "학교종이 땡땡땡 어서모이자.사이좋게 오늘도 공부잘하자.\n",
            "\n"
          ]
        }
      ]
    },
    {
      "cell_type": "code",
      "source": [
        "contents = soup.select('p#content')\n",
        "for content in contents:                         \n",
        "  print(content.get_text())     \n"
      ],
      "metadata": {
        "colab": {
          "base_uri": "https://localhost:8080/"
        },
        "id": "UGQFLu5eoJSP",
        "outputId": "fb4982dc-02f5-4a6a-ff43-b442cff14727"
      },
      "execution_count": 27,
      "outputs": [
        {
          "output_type": "stream",
          "name": "stdout",
          "text": [
            "학교종이 땡땡땡 어서 모이자.선생님이 우리를 기다리신다.\n",
            "\n",
            "학교종이 땡땡땡 어서모이자.사이좋게 오늘도 공부잘하자.\n",
            "\n"
          ]
        }
      ]
    }
  ]
}